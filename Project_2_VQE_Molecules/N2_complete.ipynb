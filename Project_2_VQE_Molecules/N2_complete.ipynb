{
 "cells": [
  {
   "cell_type": "markdown",
   "metadata": {},
   "source": [
    "# Generating the circuit for N2\n",
    "\n",
    "## Classical calculations:"
   ]
  },
  {
   "cell_type": "code",
   "execution_count": 1,
   "metadata": {},
   "outputs": [],
   "source": [
    "import numpy as np\n",
    "import matplotlib.pyplot as plt\n",
    "from utility import *\n",
    "import tequila as tq\n",
    "threshold = 1e-6 #Cutoff for UCC MP2 amplitudes and QCC ranking gradients\n",
    "\n",
    "basis = 'sto-3g'"
   ]
  },
  {
   "cell_type": "code",
   "execution_count": null,
   "metadata": {},
   "outputs": [
    {
     "name": "stdout",
     "output_type": "stream",
     "text": [
      "E = -105.76498510259827 Eh\n",
      "E = -107.14429700010217 Eh\n",
      "E = -107.59093448975125 Eh\n",
      "E = -107.67740455044407 Eh\n",
      "E = -107.63992557722375 Eh\n",
      "E = -107.57281125738827 Eh\n",
      "E = -107.51301935617232 Eh\n",
      "E = -107.47386970011628 Eh\n",
      "E = -107.45399643946577 Eh\n",
      "E = -107.4455026786547 Eh\n",
      "E = -107.44200151116885 Eh\n",
      "E = -107.44036442101 Eh\n",
      "E = -107.43943657892184 Eh\n",
      "E = -107.4388541693817 Eh\n",
      "E = -107.4384908527115 Eh\n",
      "E = -105.69764181746334 Eh\n",
      "E = -107.04629760546 Eh\n",
      "E = -107.45386359104577 Eh\n",
      "E = -107.49049231337895 Eh\n",
      "E = -107.3923481975834 Eh\n",
      "E = -107.25392034947382 Eh\n",
      "E = -107.11129982734893 Eh\n",
      "E = -106.97876183913667 Eh\n",
      "E = -106.86232997228902 Eh\n",
      "E = -106.76366889102728 Eh\n",
      "E = -106.68178308525789 Eh\n",
      "E = -106.61455681248016 Eh\n",
      "E = -106.55979437594225 Eh\n",
      "E = -106.51555388907731 Eh\n",
      "E = -106.48009667128879 Eh\n",
      "E = -105.76423723955378 Eh\n",
      "E = -107.1428247528051 Eh\n",
      "E = -107.5880262558067 Eh\n",
      "E = -107.67166862083374 Eh\n",
      "E = -107.62967665326595 Eh\n",
      "E = -107.55886471578982 Eh\n",
      "E = -107.5072618088078 Eh\n",
      "E = -107.51164919934727 Eh\n",
      "E = -107.56133083715532 Eh\n"
     ]
    }
   ],
   "source": [
    "bond_lengths = np.linspace(0.7,3.0,15)\n",
    "#Run FCI\n",
    "FCI_PES = obtain_PES('n2', bond_lengths, basis, method='fci')\n",
    "#Run HF\n",
    "HF_PES = obtain_PES('n2', bond_lengths, basis,  method='hf')\n",
    "#Run CCSD\n",
    "CCSD_PES = obtain_PES('n2', bond_lengths, basis,  method='ccsd')"
   ]
  },
  {
   "cell_type": "code",
   "execution_count": null,
   "metadata": {},
   "outputs": [],
   "source": [
    "#Plot LiH PESs\n",
    "\n",
    "plt.title('N2 dissociation, STO-3G')\n",
    "plt.xlabel('R, Angstrom')\n",
    "plt.ylabel('E, Hartree')\n",
    "\n",
    "plt.plot(bond_lengths, FCI_PES, label='FCI')\n",
    "plt.scatter(bond_lengths, HF_PES, label='HF', color='orange')\n",
    "plt.scatter(bond_lengths, CCSD_PES, label='CCSD', color='purple')\n",
    "plt.legend()"
   ]
  },
  {
   "cell_type": "markdown",
   "metadata": {},
   "source": [
    "## Generating Qubit Hamiltonians"
   ]
  },
  {
   "cell_type": "code",
   "execution_count": null,
   "metadata": {},
   "outputs": [],
   "source": [
    "qubit_transf = 'jw' # Jordan-Wigner transformations\n",
    "n2 = get_qubit_hamiltonian(mol='n2', geometry=1, basis='sto3g', qubit_transf=qubit_transf)\n",
    "print(n2)\n",
    "#Unsure of geometry of N2 -- TODO"
   ]
  },
  {
   "cell_type": "code",
   "execution_count": null,
   "metadata": {},
   "outputs": [],
   "source": [
    "n2_tapered = taper_hamiltonian(n2, n_spin_orbitals=12, n_electrons=4, qubit_transf=qubit_transf)\n",
    "#Unsure of spin orbitals and electrons --- TODO"
   ]
  },
  {
   "cell_type": "markdown",
   "metadata": {},
   "source": [
    "## Tequila stuff"
   ]
  },
  {
   "cell_type": "code",
   "execution_count": null,
   "metadata": {},
   "outputs": [],
   "source": [
    "trotter_steps = 1\n",
    "\n",
    "xyz_data = get_molecular_data('n2', geometry=1.5, xyz_format=True)\n",
    "basis='sto-3g'\n",
    "#Unsure of geometry of N2 -- TODO\n",
    "\n",
    "n2_tq = tq.quantumchemistry.Molecule(geometry=xyz_data, basis_set=basis)\n",
    "\n",
    "print('Number of spin-orbitals (qubits): {} \\n'.format(2*n2_tq.n_orbitals))\n",
    "\n",
    "E_FCI = n2_tq.compute_energy(method='fci')\n",
    "\n",
    "print('FCI energy: {}'.format(E_FCI))"
   ]
  },
  {
   "cell_type": "code",
   "execution_count": null,
   "metadata": {},
   "outputs": [],
   "source": [
    "H = n2_tq.make_hamiltonian()\n",
    "\n",
    "print(\"\\nHamiltonian has {} terms\\n\".format(len(H)))\n",
    "\n",
    "U_UCCSD = n2_tq.make_uccsd_ansatz(initial_amplitudes='MP2',threshold=threshold, trotter_steps=trotter_steps)\n",
    "\n",
    "E = tq.ExpectationValue(H=H, U=U_UCCSD)\n",
    "\n",
    "print('\\nNumber of UCCSD amplitudes: {} \\n'.format(len(E.extract_variables())))\n",
    "\n",
    "print('\\nStarting optimization:\\n')\n",
    "\n",
    "result = tq.minimize(objective=E, method=\"BFGS\", initial_values={k:0.0 for k in E.extract_variables()}, tol=1e-6)\n",
    "\n",
    "print('\\nObtained UCCSD energy: {}'.format(result.energy))"
   ]
  },
  {
   "cell_type": "code",
   "execution_count": null,
   "metadata": {},
   "outputs": [],
   "source": [
    "#Define number of entanglers to enter ansatz\n",
    "n_ents = 1\n",
    "\n",
    "#Rank entanglers using energy gradient criterion\n",
    "ranked_entangler_groupings = generate_QCC_gradient_groupings(H.to_openfermion(), \n",
    "                                                             2*n2.n_orbitals, \n",
    "                                                             hf_reference, \n",
    "                                                             cutoff=threshold)\n",
    "\n",
    "print('Grouping gradient magnitudes (Grouping : Gradient magnitude):')\n",
    "for i in range(len(ranked_entangler_groupings)):\n",
    "    print('{} : {}'.format(i+1,ranked_entangler_groupings[i][1]))\n",
    "\n",
    "\n",
    "entanglers = get_QCC_entanglers(ranked_entangler_groupings, n_ents, 2*n2.n_orbitals)\n",
    "\n",
    "print('\\nSelected entanglers:')\n",
    "for ent in entanglers:\n",
    "    print(ent)"
   ]
  },
  {
   "cell_type": "code",
   "execution_count": null,
   "metadata": {},
   "outputs": [],
   "source": [
    "H = tq.QubitHamiltonian.from_openfermion(get_qubit_hamiltonian('n2', 1.5, 'sto-3g', qubit_transf='jw'))\n",
    "#Unsure of geometry of N2 -- TODO\n",
    "\n",
    "a = tq.Variable(\"tau_0\")\n",
    "U = construct_QMF_ansatz(8)\n",
    "for ent in entanglers:\n",
    "    U += tq.gates.ExpPauli(paulistring=tq.PauliString.from_string(ent), angle=a)\n",
    "print(U)\n"
   ]
  },
  {
   "cell_type": "code",
   "execution_count": null,
   "metadata": {},
   "outputs": [],
   "source": []
  }
 ],
 "metadata": {
  "kernelspec": {
   "display_name": "Python 3",
   "language": "python",
   "name": "python3"
  },
  "language_info": {
   "codemirror_mode": {
    "name": "ipython",
    "version": 3
   },
   "file_extension": ".py",
   "mimetype": "text/x-python",
   "name": "python",
   "nbconvert_exporter": "python",
   "pygments_lexer": "ipython3",
   "version": "3.7.1"
  }
 },
 "nbformat": 4,
 "nbformat_minor": 4
}
