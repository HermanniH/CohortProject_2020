{
 "cells": [
  {
   "cell_type": "markdown",
   "metadata": {},
   "source": [
    "# Generation the circuit for H4\n",
    "\n",
    "## Classical calculations:"
   ]
  },
  {
   "cell_type": "code",
   "execution_count": 3,
   "metadata": {},
   "outputs": [],
   "source": [
    "import numpy as np\n",
    "import matplotlib.pyplot as plt\n",
    "from utility import *\n",
    "import tequila as tq\n",
    "threshold = 1e-6 #Cutoff for UCC MP2 amplitudes and QCC ranking gradients\n",
    "\n",
    "basis = 'sto-3g'"
   ]
  },
  {
   "cell_type": "code",
   "execution_count": 12,
   "metadata": {},
   "outputs": [
    {
     "name": "stdout",
     "output_type": "stream",
     "text": [
      "E = -1.728280864746984 Eh\n",
      "E = -1.8757673115297737 Eh\n",
      "E = -1.9436685341419784 Eh\n",
      "E = -1.968116870153743 Eh\n",
      "E = -1.968871750533924 Eh\n",
      "E = -1.9575160224134402 Eh\n",
      "E = -1.941121962708516 Eh\n",
      "E = -1.924006921870783 Eh\n",
      "E = -1.908620786307281 Eh\n",
      "E = -1.8960726556134475 Eh\n",
      "E = -1.8865510355260706 Eh\n",
      "E = -1.8797113367238416 Eh\n",
      "E = -1.8749960099801717 Eh\n",
      "E = -1.8718427824231205 Eh\n",
      "E = -1.8697821728146733 Eh\n",
      "E = -1.6019400748316626 Eh\n",
      "E = -1.7310111342441017 Eh\n",
      "E = -1.7791045408792772 Eh\n",
      "E = -1.7818090946446667 Eh\n",
      "E = -1.7585910209903717 Eh\n",
      "E = -1.7209124635779496 Eh\n",
      "E = -1.67587034187085 Eh\n",
      "E = -1.6279977412549202 Eh\n",
      "E = -1.5802294832603305 Eh\n",
      "E = -1.5344454873708084 Eh\n",
      "E = -1.4917887476436849 Eh\n",
      "E = -1.4528712693195471 Eh\n",
      "E = -1.4179286302686067 Eh\n",
      "E = -1.386943949202337 Eh\n",
      "E = -1.359742571061905 Eh\n",
      "E = -1.730297072383217 Eh\n",
      "E = -1.8787802508847276 Eh\n",
      "E = -1.9481335329118372 Eh\n",
      "E = -1.9745957353524095 Eh\n",
      "E = -1.9780170268528496 Eh\n",
      "E = -1.9698470785114286 Eh\n",
      "E = -1.9566753319492185 Eh\n",
      "E = -1.9421459032861044 Eh\n",
      "E = -1.9281572807814633 Eh\n",
      "E = -1.915615860093793 Eh\n",
      "E = -1.9048746816066915 Eh\n",
      "E = -1.8959755978334116 Eh\n",
      "E = -1.8887901915338985 Eh\n",
      "E = -1.8831090082577022 Eh\n",
      "E = -1.878697664885484 Eh\n"
     ]
    }
   ],
   "source": [
    "bond_lengths = np.linspace(0.8,2.7,15)\n",
    "#Run FCI\n",
    "FCI_PES = obtain_PES('h4', bond_lengths, basis, method='fci')\n",
    "#Run HF\n",
    "HF_PES = obtain_PES('h4', bond_lengths, basis,  method='hf')\n",
    "#Run CCSD\n",
    "CCSD_PES = obtain_PES('h4', bond_lengths, basis,  method='ccsd')"
   ]
  },
  {
   "cell_type": "code",
   "execution_count": 5,
   "metadata": {},
   "outputs": [
    {
     "data": {
      "text/plain": [
       "<matplotlib.legend.Legend at 0x7f951d0eb278>"
      ]
     },
     "execution_count": 5,
     "metadata": {},
     "output_type": "execute_result"
    },
    {
     "data": {
      "image/png": "[encoded data removed]",
      "text/plain": [
       "<Figure size 432x288 with 1 Axes>"
      ]
     },
     "metadata": {
      "needs_background": "light"
     },
     "output_type": "display_data"
    }
   ],
   "source": [
    "#Plot H4 PESs\n",
    "\n",
    "plt.title('H4 symmetric dissociation, STO-3G')\n",
    "plt.xlabel('R, Angstrom')\n",
    "plt.ylabel('E, Hartree')\n",
    "\n",
    "plt.plot(bond_lengths, FCI_PES, label='FCI')\n",
    "plt.scatter(bond_lengths, HF_PES, label='HF', color='orange')\n",
    "plt.scatter(bond_lengths, CCSD_PES, label='CCSD', color='purple')\n",
    "plt.legend()"
   ]
  },
  {
   "cell_type": "markdown",
   "metadata": {},
   "source": [
    "## Generating Qubit Hamiltonians"
   ]
  },
  {
   "cell_type": "code",
   "execution_count": 6,
   "metadata": {},
   "outputs": [
    {
     "name": "stdout",
     "output_type": "stream",
     "text": [
      "-0.882320546851374 [] +\n",
      "-0.0340583850225032 [X0 X1 Y2 Y3] +\n",
      "-0.03405838502250319 [X0 X1 Y4 Y5] +\n",
      "-0.023093664326496455 [X0 X1 Y6 Y7] +\n",
      "0.0340583850225032 [X0 Y1 Y2 X3] +\n",
      "0.03405838502250319 [X0 Y1 Y4 X5] +\n",
      "0.023093664326496455 [X0 Y1 Y6 X7] +\n",
      "-0.011573113480196618 [X0 Z1 X2 X4 Z5 X6] +\n",
      "-0.03525752032766731 [X0 Z1 X2 X5 Z6 X7] +\n",
      "-0.03525752032766731 [X0 Z1 X2 Y5 Z6 Y7] +\n",
      "-0.011573113480196618 [X0 Z1 Y2 Y4 Z5 X6] +\n",
      "0.035257520327667304 [X0 Z1 Z2 X3 Y4 Z5 Z6 Y7] +\n",
      "0.02368440684747069 [X0 Z1 Z2 X3 X5 X6] +\n",
      "-0.035257520327667304 [X0 Z1 Z2 Y3 Y4 Z5 Z6 X7] +\n",
      "0.02368440684747069 [X0 Z1 Z2 Y3 Y5 X6] +\n",
      "0.0340583850225032 [Y0 X1 X2 Y3] +\n",
      "0.03405838502250319 [Y0 X1 X4 Y5] +\n",
      "0.023093664326496455 [Y0 X1 X6 Y7] +\n",
      "-0.0340583850225032 [Y0 Y1 X2 X3] +\n",
      "-0.03405838502250319 [Y0 Y1 X4 X5] +\n",
      "-0.023093664326496455 [Y0 Y1 X6 X7] +\n",
      "-0.011573113480196618 [Y0 Z1 X2 X4 Z5 Y6] +\n",
      "-0.011573113480196618 [Y0 Z1 Y2 Y4 Z5 Y6] +\n",
      "-0.03525752032766731 [Y0 Z1 Y2 X5 Z6 X7] +\n",
      "-0.03525752032766731 [Y0 Z1 Y2 Y5 Z6 Y7] +\n",
      "-0.035257520327667304 [Y0 Z1 Z2 X3 X4 Z5 Z6 Y7] +\n",
      "0.02368440684747069 [Y0 Z1 Z2 X3 X5 Y6] +\n",
      "0.035257520327667304 [Y0 Z1 Z2 Y3 X4 Z5 Z6 X7] +\n",
      "0.02368440684747069 [Y0 Z1 Z2 Y3 Y5 Y6] +\n",
      "0.14728582382955913 [Z0] +\n",
      "0.10715401025424201 [Z0 Z1] +\n",
      "0.07213887045360742 [Z0 Z2] +\n",
      "0.10619725547611063 [Z0 Z3] +\n",
      "0.07213887045360738 [Z0 Z4] +\n",
      "0.10619725547611057 [Z0 Z5] +\n",
      "0.08409543193051375 [Z0 Z6] +\n",
      "0.1071890962570102 [Z0 Z7] +\n",
      "0.02368440684747069 [X1 X2 X4 Z5 Z6 X7] +\n",
      "0.035257520327667304 [X1 X2 Y5 Y6] +\n",
      "0.02368440684747069 [X1 Y2 Y4 Z5 Z6 X7] +\n",
      "-0.035257520327667304 [X1 Y2 Y5 X6] +\n",
      "-0.03525752032766731 [X1 Z2 X3 X4 Z5 X6] +\n",
      "-0.03525752032766731 [X1 Z2 X3 Y4 Z5 Y6] +\n",
      "-0.011573113480196618 [X1 Z2 X3 X5 Z6 X7] +\n",
      "-0.011573113480196618 [X1 Z2 Y3 Y5 Z6 X7] +\n",
      "0.02368440684747069 [Y1 X2 X4 Z5 Z6 Y7] +\n",
      "-0.035257520327667304 [Y1 X2 X5 Y6] +\n",
      "0.02368440684747069 [Y1 Y2 Y4 Z5 Z6 Y7] +\n",
      "0.035257520327667304 [Y1 Y2 X5 X6] +\n",
      "-0.011573113480196618 [Y1 Z2 X3 X5 Z6 Y7] +\n",
      "-0.03525752032766731 [Y1 Z2 Y3 X4 Z5 X6] +\n",
      "-0.03525752032766731 [Y1 Z2 Y3 Y4 Z5 Y6] +\n",
      "-0.011573113480196618 [Y1 Z2 Y3 Y5 Z6 Y7] +\n",
      "0.14728582382955893 [Z1] +\n",
      "0.10619725547611063 [Z1 Z2] +\n",
      "0.07213887045360742 [Z1 Z3] +\n",
      "0.10619725547611057 [Z1 Z4] +\n",
      "0.07213887045360738 [Z1 Z5] +\n",
      "0.1071890962570102 [Z1 Z6] +\n",
      "0.08409543193051375 [Z1 Z7] +\n",
      "-0.024298400891945127 [X2 X3 Y4 Y5] +\n",
      "-0.03827976789252139 [X2 X3 Y6 Y7] +\n",
      "0.024298400891945127 [X2 Y3 Y4 X5] +\n",
      "0.03827976789252139 [X2 Y3 Y6 X7] +\n",
      "0.024298400891945127 [Y2 X3 X4 Y5] +\n",
      "0.03827976789252139 [Y2 X3 X6 Y7] +\n",
      "-0.024298400891945127 [Y2 Y3 X4 X5] +\n",
      "-0.03827976789252139 [Y2 Y3 X6 X7] +\n",
      "0.020729283262210824 [Z2] +\n",
      "0.10799421374369353 [Z2 Z3] +\n",
      "0.0818725044895098 [Z2 Z4] +\n",
      "0.10617090538145493 [Z2 Z5] +\n",
      "0.07102689631806365 [Z2 Z6] +\n",
      "0.10930666421058505 [Z2 Z7] +\n",
      "0.02072928326221077 [Z3] +\n",
      "0.10617090538145493 [Z3 Z4] +\n",
      "0.0818725044895098 [Z3 Z5] +\n",
      "0.10930666421058505 [Z3 Z6] +\n",
      "0.07102689631806365 [Z3 Z7] +\n",
      "-0.03827976789252136 [X4 X5 Y6 Y7] +\n",
      "0.03827976789252136 [X4 Y5 Y6 X7] +\n",
      "0.03827976789252136 [Y4 X5 X6 Y7] +\n",
      "-0.03827976789252136 [Y4 Y5 X6 X7] +\n",
      "0.020729283262210324 [Z4] +\n",
      "0.10799421374369339 [Z4 Z5] +\n",
      "0.07102689631806361 [Z4 Z6] +\n",
      "0.10930666421058496 [Z4 Z7] +\n",
      "0.02072928326221023 [Z5] +\n",
      "0.10930666421058496 [Z5 Z6] +\n",
      "0.07102689631806361 [Z5 Z7] +\n",
      "-0.10711575592668765 [Z6] +\n",
      "0.11263850647926832 [Z6 Z7] +\n",
      "-0.10711575592668766 [Z7]\n"
     ]
    }
   ],
   "source": [
    "qubit_transf = 'jw' # Jordan-Wigner transformations\n",
    "h4 = get_qubit_hamiltonian(mol='h4', geometry=1.5, basis='sto3g', qubit_transf=qubit_transf)\n",
    "print(h4)"
   ]
  },
  {
   "cell_type": "code",
   "execution_count": 7,
   "metadata": {},
   "outputs": [],
   "source": [
    "h4_tapered = taper_hamiltonian(h4, n_spin_orbitals=8, n_electrons=4, qubit_transf=qubit_transf)"
   ]
  },
  {
   "cell_type": "markdown",
   "metadata": {},
   "source": [
    "## Tequila stuff"
   ]
  },
  {
   "cell_type": "code",
   "execution_count": 10,
   "metadata": {},
   "outputs": [
    {
     "name": "stdout",
     "output_type": "stream",
     "text": [
      "Number of spin-orbitals (qubits): 8 \n",
      "\n",
      "FCI energy: -1.9551250115194279\n"
     ]
    }
   ],
   "source": [
    "trotter_steps = 1\n",
    "\n",
    "xyz_data = get_molecular_data('h4', geometry=1.5, xyz_format=True)\n",
    "basis='sto-3g'\n",
    "\n",
    "h4_tq = tq.quantumchemistry.Molecule(geometry=xyz_data, basis_set=basis)\n",
    "\n",
    "print('Number of spin-orbitals (qubits): {} \\n'.format(2*h4_tq.n_orbitals))\n",
    "\n",
    "E_FCI = h4_tq.compute_energy(method='fci')\n",
    "\n",
    "print('FCI energy: {}'.format(E_FCI))"
   ]
  },
  {
   "cell_type": "code",
   "execution_count": 11,
   "metadata": {},
   "outputs": [
    {
     "name": "stdout",
     "output_type": "stream",
     "text": [
      "\n",
      "Hamiltonian has 93 terms\n",
      "\n",
      "\n",
      "Number of UCCSD amplitudes: 8 \n",
      "\n",
      "\n",
      "Starting optimization:\n",
      "\n",
      "Optimizer: <class 'tequila.optimizers.optimizer_scipy.OptimizerSciPy'> \n",
      "backend         : qulacs\n",
      "samples         : None\n",
      "save_history    : True\n",
      "noise           : None\n",
      "\n",
      "Method          : BFGS\n",
      "Objective       : 1 expectationvalues\n",
      "gradient        : 512 expectationvalues\n",
      "\n",
      "active variables : 8\n",
      "\n",
      "E=-1.71399864  angles= {(3, 1, 2, 0): 0.0, (3, 0, 3, 0): 0.0, (2, 0, 3, 1): 0.0, (2, 1, 2, 1): 0.0, (3, 1, 3, 1): 0.0, (3, 0, 2, 1): 0.0, (2, 0, 2, 0): 0.0, (2, 1, 3, 0): 0.0}  samples= None\n",
      "E=-1.11359858  angles= {(3, 1, 2, 0): -0.46722960472106934, (3, 0, 3, 0): -0.18474936485290527, (2, 0, 3, 1): -0.46722960472106934, (2, 1, 2, 1): -0.19438719749450684, (3, 1, 3, 1): -0.30623817443847656, (3, 0, 2, 1): -0.004305601119995117, (2, 0, 2, 0): -0.27246713638305664, (2, 1, 3, 0): -0.004305601119995117}  samples= None\n",
      "E=-1.77345576  angles= {(3, 1, 2, 0): -0.07621729618876538, (3, 0, 3, 0): -0.030137424768035437, (2, 0, 3, 1): -0.07621729618876538, (2, 1, 2, 1): -0.03170960584911489, (3, 1, 3, 1): -0.049955408239634694, (3, 0, 2, 1): -0.0007023554854347388, (2, 0, 2, 0): -0.04444647390828251, (2, 1, 3, 0): -0.0007023554854347388}  samples= None\n",
      "E=-1.86847365  angles= {(3, 1, 2, 0): -0.13156141646292027, (3, 0, 3, 0): -0.09395831984008278, (2, 0, 3, 1): -0.13143066883385993, (2, 1, 2, 1): -0.11225449998352947, (3, 1, 3, 1): -0.12684898733126226, (3, 0, 2, 1): -0.08839361782823489, (2, 0, 2, 0): -0.11092845553425162, (2, 1, 3, 0): -0.08770070315039183}  samples= None\n",
      "E=-1.92490788  angles= {(3, 1, 2, 0): -0.23967740746535018, (3, 0, 3, 0): -0.0387972305196069, (2, 0, 3, 1): -0.23220395086328466, (2, 1, 2, 1): -0.4192065245980975, (3, 1, 3, 1): -0.2447923742604584, (3, 0, 2, 1): -0.2376276527475188, (2, 0, 2, 0): -0.23596465924787416, (2, 1, 3, 0): -0.23003051835998126}  samples= None\n",
      "E=-1.93761168  angles= {(3, 1, 2, 0): -0.23631614790493333, (3, 0, 3, 0): -0.11255542662410264, (2, 0, 3, 1): -0.23222722992865605, (2, 1, 2, 1): -0.45759357891653857, (3, 1, 3, 1): -0.1895594036019615, (3, 0, 2, 1): -0.20957037265993972, (2, 0, 2, 0): -0.1868159532268123, (2, 1, 3, 0): -0.20499663235197904}  samples= None\n",
      "E=-1.94772411  angles= {(3, 1, 2, 0): -0.23919228734243378, (3, 0, 3, 0): -0.15467097241645356, (2, 0, 3, 1): -0.23819142359988385, (2, 1, 2, 1): -0.5700298571495832, (3, 1, 3, 1): -0.08782842561215745, (3, 0, 2, 1): -0.17609392062718326, (2, 0, 2, 0): -0.08275346630884042, (2, 1, 3, 0): -0.17418041639110102}  samples= None\n",
      "E=-1.95065212  angles= {(3, 1, 2, 0): -0.23282225537504717, (3, 0, 3, 0): -0.14382806431770814, (2, 0, 3, 1): -0.23134780593488932, (2, 1, 2, 1): -0.652449943305499, (3, 1, 3, 1): -0.05966502124148202, (3, 0, 2, 1): -0.1634220533510138, (2, 0, 2, 0): -0.056755776042660314, (2, 1, 3, 0): -0.16040972482824398}  samples= None\n",
      "E=-1.95110831  angles= {(3, 1, 2, 0): -0.23724507662200134, (3, 0, 3, 0): -0.11958886814490066, (2, 0, 3, 1): -0.23388501903014436, (2, 1, 2, 1): -0.6649357897861735, (3, 1, 3, 1): -0.04537462793362946, (3, 0, 2, 1): -0.17063617413152649, (2, 0, 2, 0): -0.04610564283037641, (2, 1, 3, 0): -0.16500311155760214}  samples= None\n",
      "E=-1.95118571  angles= {(3, 1, 2, 0): -0.23800119730318228, (3, 0, 3, 0): -0.12705217706428074, (2, 0, 3, 1): -0.2338121282964422, (2, 1, 2, 1): -0.6714643885868836, (3, 1, 3, 1): -0.047299856077214986, (3, 0, 2, 1): -0.17093484899276226, (2, 0, 2, 0): -0.04685804250450102, (2, 1, 3, 0): -0.16430570703499714}  samples= None\n",
      "E=-1.95118859  angles= {(3, 1, 2, 0): -0.23778842159638597, (3, 0, 3, 0): -0.12685492617183028, (2, 0, 3, 1): -0.23271088089955333, (2, 1, 2, 1): -0.6689007084327001, (3, 1, 3, 1): -0.04869009077828898, (3, 0, 2, 1): -0.17123092619972283, (2, 0, 2, 0): -0.04784980561574173, (2, 1, 3, 0): -0.16349322394558388}  samples= None\n",
      "E=-1.95119024  angles= {(3, 1, 2, 0): -0.23837644918764256, (3, 0, 3, 0): -0.12685629341908303, (2, 0, 3, 1): -0.23188484156005024, (2, 1, 2, 1): -0.6683443726325199, (3, 1, 3, 1): -0.04879299607916226, (3, 0, 2, 1): -0.17211271713636564, (2, 0, 2, 0): -0.04788488333795552, (2, 1, 3, 0): -0.16259866869375486}  samples= None\n",
      "E=-1.95119341  angles= {(3, 1, 2, 0): -0.23968886390838134, (3, 0, 3, 0): -0.12687878126643853, (2, 0, 3, 1): -0.2302956762311835, (2, 1, 2, 1): -0.6678282794447248, (3, 1, 3, 1): -0.04889311717498578, (3, 0, 2, 1): -0.17389199633854435, (2, 0, 2, 0): -0.04790339388355939, (2, 1, 3, 0): -0.16073632242453395}  samples= None\n",
      "E=-1.95120317  angles= {(3, 1, 2, 0): -0.24493852279133643, (3, 0, 3, 0): -0.1269687326558606, (2, 0, 3, 1): -0.2239390149157165, (2, 1, 2, 1): -0.6657639066935442, (3, 1, 3, 1): -0.049293601558279866, (3, 0, 2, 1): -0.18100911314725923, (2, 0, 2, 0): -0.047977436065974856, (2, 1, 3, 0): -0.15328693734765034}  samples= None\n",
      "E=-1.95122477  angles= {(3, 1, 2, 0): -0.2586335178739255, (3, 0, 3, 0): -0.12715647957213372, (2, 0, 3, 1): -0.20879918100180983, (2, 1, 2, 1): -0.6631470295429202, (3, 1, 3, 1): -0.04972731826246982, (3, 0, 2, 1): -0.19852261731947066, (2, 0, 2, 0): -0.04797425142255929, (2, 1, 3, 0): -0.1346761896278174}  samples= None\n",
      "E=-1.95126093  angles= {(3, 1, 2, 0): -0.2835405638518231, (3, 0, 3, 0): -0.12738109553091026, (2, 0, 3, 1): -0.18262902482758653, (2, 1, 2, 1): -0.6606673130856782, (3, 1, 3, 1): -0.05004022113207551, (3, 0, 2, 1): -0.22942487039947201, (2, 0, 2, 0): -0.04786052974142384, (2, 1, 3, 0): -0.1016844771578736}  samples= None\n",
      "E=-1.95131263  angles= {(3, 1, 2, 0): -0.32685640984435615, (3, 0, 3, 0): -0.12762300826121042, (2, 0, 3, 1): -0.13919569237417923, (2, 1, 2, 1): -0.6591666071282207, (3, 1, 3, 1): -0.049940310935387054, (3, 0, 2, 1): -0.28198619872927333, (2, 0, 2, 0): -0.04748526537423329, (2, 1, 3, 0): -0.04582458554151622}  samples= None\n",
      "E=-1.95136032  angles= {(3, 1, 2, 0): -0.36236770114899, (3, 0, 3, 0): -0.12759089024324236, (2, 0, 3, 1): -0.10703561360563069, (2, 1, 2, 1): -0.661903922592306, (3, 1, 3, 1): -0.04895641962600803, (3, 0, 2, 1): -0.3235045242941402, (2, 0, 2, 0): -0.04692036433355417, (2, 1, 3, 0): -0.0027994431855545565}  samples= None\n",
      "E=-1.95139839  angles= {(3, 1, 2, 0): -0.3749771059449473, (3, 0, 3, 0): -0.12724122341721053, (2, 0, 3, 1): -0.0997744663530542, (2, 1, 2, 1): -0.6682844016156093, (3, 1, 3, 1): -0.047729577508601836, (3, 0, 2, 1): -0.33603697267532534, (2, 0, 2, 0): -0.04665918779465857, (2, 1, 3, 0): 0.009146338050389752}  samples= None\n",
      "E=-1.95140358  angles= {(3, 1, 2, 0): -0.36949511559550385, (3, 0, 3, 0): -0.12708580147636733, (2, 0, 3, 1): -0.10612573425288616, (2, 1, 2, 1): -0.6705635273279836, (3, 1, 3, 1): -0.04763787998227511, (3, 0, 2, 1): -0.32807231538628434, (2, 0, 2, 0): -0.04689972123434879, (2, 1, 3, 0): 0.0013761719174453096}  samples= None\n",
      "E=-1.95140382  angles= {(3, 1, 2, 0): -0.36937967043538517, (3, 0, 3, 0): -0.1270781717013538, (2, 0, 3, 1): -0.10606679013708378, (2, 1, 2, 1): -0.6706698115654428, (3, 1, 3, 1): -0.04758404604247983, (3, 0, 2, 1): -0.32736704484715, (2, 0, 2, 0): -0.04688770364110411, (2, 1, 3, 0): 0.0010366831792882163}  samples= None\n",
      "E=-1.95140420  angles= {(3, 1, 2, 0): -0.36935189711655575, (3, 0, 3, 0): -0.12706099393178108, (2, 0, 3, 1): -0.10591139660431807, (2, 1, 2, 1): -0.6707536022038642, (3, 1, 3, 1): -0.04749472502577958, (3, 0, 2, 1): -0.32596770706436495, (2, 0, 2, 0): -0.04685236767056389, (2, 1, 3, 0): -2.0943309789990365e-05}  samples= None\n",
      "E=-1.95140487  angles= {(3, 1, 2, 0): -0.3700578014809105, (3, 0, 3, 0): -0.12704548664421597, (2, 0, 3, 1): -0.10503530609232321, (2, 1, 2, 1): -0.6708376962516921, (3, 1, 3, 1): -0.0474046470607164, (3, 0, 2, 1): -0.32414846966412075, (2, 0, 2, 0): -0.04681606906730506, (2, 1, 3, 0): -0.0014802638938925146}  samples= None\n",
      "E=-1.95140612  angles= {(3, 1, 2, 0): -0.37196550495574554, (3, 0, 3, 0): -0.12702844569883476, (2, 0, 3, 1): -0.10296542129064463, (2, 1, 2, 1): -0.6709408502404481, (3, 1, 3, 1): -0.04729616661837651, (3, 0, 2, 1): -0.32143148239572056, (2, 0, 2, 0): -0.046770595997694585, (2, 1, 3, 0): -0.0037634677357146}  samples= None\n",
      "E=-1.95140846  angles= {(3, 1, 2, 0): -0.37608758530780684, (3, 0, 3, 0): -0.12700704059761847, (2, 0, 3, 1): -0.09868629047671477, (2, 1, 2, 1): -0.6710820848141423, (3, 1, 3, 1): -0.04715066356635756, (3, 0, 2, 1): -0.31689086441200914, (2, 0, 2, 0): -0.0467074510947822, (2, 1, 3, 0): -0.007721294522581508}  samples= None\n"
     ]
    },
    {
     "name": "stdout",
     "output_type": "stream",
     "text": [
      "E=-1.95141279  angles= {(3, 1, 2, 0): -0.3845804849802186, (3, 0, 3, 0): -0.1269786112823639, (2, 0, 3, 1): -0.09006284190825767, (2, 1, 2, 1): -0.6712878675109274, (3, 1, 3, 1): -0.04694346526938802, (3, 0, 2, 1): -0.3088997835658515, (2, 0, 2, 0): -0.046615541943839864, (2, 1, 3, 0): -0.01487060352426069}  samples= None\n",
      "E=-1.95142059  angles= {(3, 1, 2, 0): -0.40167726606151455, (3, 0, 3, 0): -0.12693943488627465, (2, 0, 3, 1): -0.07293281457204874, (2, 1, 2, 1): -0.6716046027151545, (3, 1, 3, 1): -0.04663310184794315, (3, 0, 2, 1): -0.29429509939382414, (2, 0, 2, 0): -0.04647217363121218, (2, 1, 3, 0): -0.028217948192006292}  samples= None\n",
      "E=-1.95143375  angles= {(3, 1, 2, 0): -0.4356173255146146, (3, 0, 3, 0): -0.12688457228191735, (2, 0, 3, 1): -0.039242374221199444, (2, 1, 2, 1): -0.6721000490868932, (3, 1, 3, 1): -0.04616432720710999, (3, 0, 2, 1): -0.2670673135632964, (2, 0, 2, 0): -0.046246349291354724, (2, 1, 3, 0): -0.053586335635791196}  samples= None\n",
      "E=-1.95145217  angles= {(3, 1, 2, 0): -0.5000506838055944, (3, 0, 3, 0): -0.12680871093035534, (2, 0, 3, 1): 0.02421024511650391, (2, 1, 2, 1): -0.6728343875145453, (3, 1, 3, 1): -0.045502112739193586, (3, 0, 2, 1): -0.21604832670729682, (2, 0, 2, 0): -0.04590839396815038, (2, 1, 3, 0): -0.10226107390978989}  samples= None\n",
      "E=-1.95147026  angles= {(3, 1, 2, 0): -0.5496182608908741, (3, 0, 3, 0): -0.12676092215212276, (2, 0, 3, 1): 0.0725177168677281, (2, 1, 2, 1): -0.6731655848522754, (3, 1, 3, 1): -0.04525396684738349, (3, 0, 2, 1): -0.17262691633331098, (2, 0, 2, 0): -0.04575998014902384, (2, 1, 3, 0): -0.14562504054909342}  samples= None\n",
      "E=-1.95150048  angles= {(3, 1, 2, 0): -0.6057503649764197, (3, 0, 3, 0): -0.12678329767675262, (2, 0, 3, 1): 0.12682760726383988, (2, 1, 2, 1): -0.6730980484687386, (3, 1, 3, 1): -0.04542352997663213, (3, 0, 2, 1): -0.12450619162237264, (2, 0, 2, 0): -0.04579664645348285, (2, 1, 3, 0): -0.1956738932403856}  samples= None\n",
      "E=-1.95154338  angles= {(3, 1, 2, 0): -0.682818680016494, (3, 0, 3, 0): -0.1270244191688995, (2, 0, 3, 1): 0.20054586279640835, (2, 1, 2, 1): -0.6723188030702686, (3, 1, 3, 1): -0.04623537995317174, (3, 0, 2, 1): -0.062361945161233175, (2, 0, 2, 0): -0.04606608103574329, (2, 1, 3, 0): -0.26343802677699196}  samples= None\n",
      "E=-1.95155966  angles= {(3, 1, 2, 0): -0.7544186537457006, (3, 0, 3, 0): -0.12725532003698847, (2, 0, 3, 1): 0.2690080368446253, (2, 1, 2, 1): -0.6717562020561334, (3, 1, 3, 1): -0.04683333062898633, (3, 0, 2, 1): -0.0251142029684941, (2, 0, 2, 0): -0.04625039310488045, (2, 1, 3, 0): -0.304887543989345}  samples= None\n",
      "E=-1.95156041  angles= {(3, 1, 2, 0): -0.7915679547165315, (3, 0, 3, 0): -0.12734499215679468, (2, 0, 3, 1): 0.3024251048264734, (2, 1, 2, 1): -0.6716354200782094, (3, 1, 3, 1): -0.04684193828568549, (3, 0, 2, 1): 0.013867334082718667, (2, 0, 2, 0): -0.046125543389903316, (2, 1, 3, 0): -0.3500493023311832}  samples= None\n",
      "E=-1.95156389  angles= {(3, 1, 2, 0): -0.773849596582152, (3, 0, 3, 0): -0.1273022230415792, (2, 0, 3, 1): 0.28648683511937456, (2, 1, 2, 1): -0.6716930270394472, (3, 1, 3, 1): -0.04683783286404611, (3, 0, 2, 1): -0.004724909002670526, (2, 0, 2, 0): -0.04618509045822304, (2, 1, 3, 0): -0.328509402861546}  samples= None\n",
      "E=-1.95156562  angles= {(3, 1, 2, 0): -0.8003719216598942, (3, 0, 3, 0): -0.12724002683817323, (2, 0, 3, 1): 0.31144914990623884, (2, 1, 2, 1): -0.6718513111668207, (3, 1, 3, 1): -0.04676376773954658, (3, 0, 2, 1): 0.0053261505890628315, (2, 0, 2, 0): -0.046163962037106966, (2, 1, 3, 0): -0.34022423298435794}  samples= None\n",
      "E=-1.95156571  angles= {(3, 1, 2, 0): -0.8034611352780587, (3, 0, 3, 0): -0.12721253429137905, (2, 0, 3, 1): 0.31407206399775267, (2, 1, 2, 1): -0.6718636247754194, (3, 1, 3, 1): -0.04677823281166785, (3, 0, 2, 1): 0.003151329938642925, (2, 0, 2, 0): -0.04619892662941272, (2, 1, 3, 0): -0.33878888572063287}  samples= None\n",
      "E=-1.95156581  angles= {(3, 1, 2, 0): -0.8074727470602414, (3, 0, 3, 0): -0.127236538721593, (2, 0, 3, 1): 0.3177680052464065, (2, 1, 2, 1): -0.6718553695670452, (3, 1, 3, 1): -0.046774804393195465, (3, 0, 2, 1): 0.005849941029680077, (2, 0, 2, 0): -0.04618339695368983, (2, 1, 3, 0): -0.34171406309030833}  samples= None\n",
      "E=-1.95156583  angles= {(3, 1, 2, 0): -0.8065496115357935, (3, 0, 3, 0): -0.12724084930496413, (2, 0, 3, 1): 0.3167870761075663, (2, 1, 2, 1): -0.6718453759667522, (3, 1, 3, 1): -0.04678257863505539, (3, 0, 2, 1): 0.00520294409789253, (2, 0, 2, 0): -0.046182391577235034, (2, 1, 3, 0): -0.34102159154592554}  samples= None\n",
      "E=-1.95156585  angles= {(3, 1, 2, 0): -0.8055048517905103, (3, 0, 3, 0): -0.12724100281411352, (2, 0, 3, 1): 0.3156405420855059, (2, 1, 2, 1): -0.6718358881172598, (3, 1, 3, 1): -0.04679256973658392, (3, 0, 2, 1): 0.003683953565921572, (2, 0, 2, 0): -0.04618781208911781, (2, 1, 3, 0): -0.33948766342967873}  samples= None\n",
      "E=-1.95156585  angles= {(3, 1, 2, 0): -0.8046062432307104, (3, 0, 3, 0): -0.12723754075957663, (2, 0, 3, 1): 0.3146444363348859, (2, 1, 2, 1): -0.6718300037136578, (3, 1, 3, 1): -0.046801270585865334, (3, 0, 2, 1): 0.0020951443714663735, (2, 0, 2, 0): -0.046195822739635774, (2, 1, 3, 0): -0.33790782614089643}  samples= None\n",
      "E=-1.95156585  angles= {(3, 1, 2, 0): -0.8044242202738457, (3, 0, 3, 0): -0.12723611000095075, (2, 0, 3, 1): 0.3144666526230161, (2, 1, 2, 1): -0.6718294596264232, (3, 1, 3, 1): -0.04680269890664933, (3, 0, 2, 1): 0.0018891841337032606, (2, 0, 2, 0): -0.04619765333020043, (2, 1, 3, 0): -0.33769820026760355}  samples= None\n",
      "E=-1.95156585  angles= {(3, 1, 2, 0): -0.8044464981191111, (3, 0, 3, 0): -0.1272358859712245, (2, 0, 3, 1): 0.3144894885972649, (2, 1, 2, 1): -0.6718295898222871, (3, 1, 3, 1): -0.04680273223398191, (3, 0, 2, 1): 0.001893187521194566, (2, 0, 2, 0): -0.046197862437262635, (2, 1, 3, 0): -0.3377041126237306}  samples= None\n",
      "E=-1.95156585  angles= {(3, 1, 2, 0): -0.8044247669652476, (3, 0, 3, 0): -0.12723610450333087, (2, 0, 3, 1): 0.3144672130107298, (2, 1, 2, 1): -0.6718294628213892, (3, 1, 3, 1): -0.04680269972449172, (3, 0, 2, 1): 0.0018892823755885734, (2, 0, 2, 0): -0.04619765846162277, (2, 1, 3, 0): -0.3376983453549861}  samples= None\n",
      "E=-1.95156585  angles= {(3, 1, 2, 0): -0.8044242205869375, (3, 0, 3, 0): -0.12723610999780224, (2, 0, 3, 1): 0.3144666529439518, (2, 1, 2, 1): -0.6718294596282529, (3, 1, 3, 1): -0.04680269890711771, (3, 0, 2, 1): 0.0018891841899666827, (2, 0, 2, 0): -0.04619765333313921, (2, 1, 3, 0): -0.33769820035069553}  samples= None\n",
      "E=-1.95156585  angles= {(3, 1, 2, 0): -0.8044242202738459, (3, 0, 3, 0): -0.12723611000095075, (2, 0, 3, 1): 0.31446665262301615, (2, 1, 2, 1): -0.6718294596264232, (3, 1, 3, 1): -0.04680269890664933, (3, 0, 2, 1): 0.0018891841337032736, (2, 0, 2, 0): -0.04619765333020043, (2, 1, 3, 0): -0.33769820026760355}  samples= None\n",
      "E=-1.95156585  angles= {(3, 1, 2, 0): -0.8044242202738459, (3, 0, 3, 0): -0.12723611000095075, (2, 0, 3, 1): 0.31446665262301626, (2, 1, 2, 1): -0.6718294596264232, (3, 1, 3, 1): -0.04680269890664933, (3, 0, 2, 1): 0.0018891841337032866, (2, 0, 2, 0): -0.04619765333020043, (2, 1, 3, 0): -0.3376982002676036}  samples= None\n",
      "E=-1.95156585  angles= {(3, 1, 2, 0): -0.8044242204303917, (3, 0, 3, 0): -0.1272361099993765, (2, 0, 3, 1): 0.314466652783484, (2, 1, 2, 1): -0.6718294596273381, (3, 1, 3, 1): -0.046802698906883516, (3, 0, 2, 1): 0.0018891841618349848, (2, 0, 2, 0): -0.04619765333166982, (2, 1, 3, 0): -0.33769820030914954}  samples= None\n",
      "E=-1.95156585  angles= {(3, 1, 2, 0): -0.8044242204303917, (3, 0, 3, 0): -0.1272361099993765, (2, 0, 3, 1): 0.31446665278348407, (2, 1, 2, 1): -0.6718294596273381, (3, 1, 3, 1): -0.046802698906883516, (3, 0, 2, 1): 0.001889184161834988, (2, 0, 2, 0): -0.04619765333166982, (2, 1, 3, 0): -0.33769820030914954}  samples= None\n",
      "E=-1.95156585  angles= {(3, 1, 2, 0): -0.8044242204303917, (3, 0, 3, 0): -0.1272361099993765, (2, 0, 3, 1): 0.31446665278348407, (2, 1, 2, 1): -0.6718294596273381, (3, 1, 3, 1): -0.046802698906883516, (3, 0, 2, 1): 0.0018891841618349913, (2, 0, 2, 0): -0.04619765333166982, (2, 1, 3, 0): -0.3376982003091496}  samples= None\n",
      "E=-1.95156585  angles= {(3, 1, 2, 0): -0.8044242205086647, (3, 0, 3, 0): -0.12723610999858936, (2, 0, 3, 1): 0.31446665286371794, (2, 1, 2, 1): -0.6718294596277955, (3, 1, 3, 1): -0.04680269890700062, (3, 0, 2, 1): 0.001889184175900837, (2, 0, 2, 0): -0.04619765333240451, (2, 1, 3, 0): -0.33769820032992254}  samples= None\n"
     ]
    },
    {
     "name": "stdout",
     "output_type": "stream",
     "text": [
      "E=-1.95156585  angles= {(3, 1, 2, 0): -0.8044242204303917, (3, 0, 3, 0): -0.1272361099993765, (2, 0, 3, 1): 0.31446665278348407, (2, 1, 2, 1): -0.6718294596273381, (3, 1, 3, 1): -0.046802698906883516, (3, 0, 2, 1): 0.001889184161834992, (2, 0, 2, 0): -0.04619765333166982, (2, 1, 3, 0): -0.3376982003091496}  samples= None\n",
      "E=-1.95156585  angles= {(3, 1, 2, 0): -0.8044242204303917, (3, 0, 3, 0): -0.1272361099993765, (2, 0, 3, 1): 0.31446665278348407, (2, 1, 2, 1): -0.6718294596273381, (3, 1, 3, 1): -0.046802698906883516, (3, 0, 2, 1): 0.0018891841618349928, (2, 0, 2, 0): -0.04619765333166982, (2, 1, 3, 0): -0.3376982003091496}  samples= None\n",
      "E=-1.95156585  angles= {(3, 1, 2, 0): -0.8044242204695282, (3, 0, 3, 0): -0.12723610999898294, (2, 0, 3, 1): 0.31446665282360103, (2, 1, 2, 1): -0.6718294596275668, (3, 1, 3, 1): -0.04680269890694207, (3, 0, 2, 1): 0.001889184168867915, (2, 0, 2, 0): -0.04619765333203717, (2, 1, 3, 0): -0.33769820031953607}  samples= None\n",
      "E=-1.95156585  angles= {(3, 1, 2, 0): -0.8044242204695282, (3, 0, 3, 0): -0.12723610999898294, (2, 0, 3, 1): 0.31446665282360103, (2, 1, 2, 1): -0.6718294596275668, (3, 1, 3, 1): -0.04680269890694207, (3, 0, 2, 1): 0.0018891841688679152, (2, 0, 2, 0): -0.04619765333203717, (2, 1, 3, 0): -0.33769820031953607}  samples= None\n",
      "E=-1.95156585  angles= {(3, 1, 2, 0): -0.8044242204890965, (3, 0, 3, 0): -0.12723610999878615, (2, 0, 3, 1): 0.3144666528436595, (2, 1, 2, 1): -0.6718294596276811, (3, 1, 3, 1): -0.04680269890697134, (3, 0, 2, 1): 0.0018891841723843762, (2, 0, 2, 0): -0.04619765333222084, (2, 1, 3, 0): -0.3376982003247293}  samples= None\n",
      "E=-1.95156585  angles= {(3, 1, 2, 0): -0.8044242204988805, (3, 0, 3, 0): -0.12723610999868776, (2, 0, 3, 1): 0.3144666528536887, (2, 1, 2, 1): -0.6718294596277383, (3, 1, 3, 1): -0.046802698906985976, (3, 0, 2, 1): 0.0018891841741426067, (2, 0, 2, 0): -0.046197653332312676, (2, 1, 3, 0): -0.33769820032732595}  samples= None\n",
      "E=-1.95156585  angles= {(3, 1, 2, 0): -0.8044242205037726, (3, 0, 3, 0): -0.12723610999863857, (2, 0, 3, 1): 0.31446665285870334, (2, 1, 2, 1): -0.6718294596277669, (3, 1, 3, 1): -0.0468026989069933, (3, 0, 2, 1): 0.0018891841750217219, (2, 0, 2, 0): -0.0461976533323586, (2, 1, 3, 0): -0.33769820032862424}  samples= None\n",
      "E=-1.95156585  angles= {(3, 1, 2, 0): -0.8044242205062186, (3, 0, 3, 0): -0.12723610999861398, (2, 0, 3, 1): 0.3144666528612106, (2, 1, 2, 1): -0.6718294596277812, (3, 1, 3, 1): -0.04680269890699695, (3, 0, 2, 1): 0.0018891841754612793, (2, 0, 2, 0): -0.04619765333238156, (2, 1, 3, 0): -0.3376982003292734}  samples= None\n",
      "E=-1.95156585  angles= {(3, 1, 2, 0): -0.8044242205074417, (3, 0, 3, 0): -0.1272361099986017, (2, 0, 3, 1): 0.3144666528624643, (2, 1, 2, 1): -0.6718294596277883, (3, 1, 3, 1): -0.046802698906998785, (3, 0, 2, 1): 0.0018891841756810582, (2, 0, 2, 0): -0.046197653332393035, (2, 1, 3, 0): -0.33769820032959796}  samples= None\n",
      "E=-1.95156585  angles= {(3, 1, 2, 0): -0.8044242205062186, (3, 0, 3, 0): -0.12723610999861398, (2, 0, 3, 1): 0.3144666528612106, (2, 1, 2, 1): -0.6718294596277812, (3, 1, 3, 1): -0.04680269890699695, (3, 0, 2, 1): 0.0018891841754612793, (2, 0, 2, 0): -0.04619765333238156, (2, 1, 3, 0): -0.3376982003292734}  samples= None\n",
      "E=-1.95156585  angles= {(3, 1, 2, 0): -0.8044242205068302, (3, 0, 3, 0): -0.12723610999860782, (2, 0, 3, 1): 0.31446665286183745, (2, 1, 2, 1): -0.6718294596277847, (3, 1, 3, 1): -0.04680269890699787, (3, 0, 2, 1): 0.0018891841755711688, (2, 0, 2, 0): -0.046197653332387296, (2, 1, 3, 0): -0.3376982003294357}  samples= None\n",
      "E=-1.95156585  angles= {(3, 1, 2, 0): -0.8044242205062186, (3, 0, 3, 0): -0.12723610999861398, (2, 0, 3, 1): 0.3144666528612106, (2, 1, 2, 1): -0.6718294596277812, (3, 1, 3, 1): -0.04680269890699695, (3, 0, 2, 1): 0.0018891841754612793, (2, 0, 2, 0): -0.04619765333238156, (2, 1, 3, 0): -0.3376982003292734}  samples= None\n",
      "E=-1.95156585  angles= {(3, 1, 2, 0): -0.8044242205065244, (3, 0, 3, 0): -0.1272361099986109, (2, 0, 3, 1): 0.31446665286152403, (2, 1, 2, 1): -0.671829459627783, (3, 1, 3, 1): -0.04680269890699741, (3, 0, 2, 1): 0.001889184175516224, (2, 0, 2, 0): -0.046197653332384424, (2, 1, 3, 0): -0.33769820032935455}  samples= None\n",
      "E=-1.95156585  angles= {(3, 1, 2, 0): -0.8044242205066773, (3, 0, 3, 0): -0.12723610999860935, (2, 0, 3, 1): 0.31446665286168074, (2, 1, 2, 1): -0.6718294596277838, (3, 1, 3, 1): -0.04680269890699764, (3, 0, 2, 1): 0.0018891841755436965, (2, 0, 2, 0): -0.04619765333238586, (2, 1, 3, 0): -0.3376982003293951}  samples= None\n",
      "E=-1.95156585  angles= {(3, 1, 2, 0): -0.8044242205065244, (3, 0, 3, 0): -0.1272361099986109, (2, 0, 3, 1): 0.31446665286152403, (2, 1, 2, 1): -0.671829459627783, (3, 1, 3, 1): -0.04680269890699741, (3, 0, 2, 1): 0.001889184175516224, (2, 0, 2, 0): -0.046197653332384424, (2, 1, 3, 0): -0.33769820032935455}  samples= None\n",
      "E=-1.95156585  angles= {(3, 1, 2, 0): -0.8044242205066008, (3, 0, 3, 0): -0.12723610999861013, (2, 0, 3, 1): 0.3144666528616024, (2, 1, 2, 1): -0.6718294596277834, (3, 1, 3, 1): -0.04680269890699753, (3, 0, 2, 1): 0.0018891841755299603, (2, 0, 2, 0): -0.046197653332385145, (2, 1, 3, 0): -0.3376982003293748}  samples= None\n",
      "E=-1.95156585  angles= {(3, 1, 2, 0): -0.8044242205065244, (3, 0, 3, 0): -0.1272361099986109, (2, 0, 3, 1): 0.31446665286152403, (2, 1, 2, 1): -0.671829459627783, (3, 1, 3, 1): -0.04680269890699741, (3, 0, 2, 1): 0.001889184175516224, (2, 0, 2, 0): -0.046197653332384424, (2, 1, 3, 0): -0.33769820032935455}  samples= None\n",
      "E=-1.95156585  angles= {(3, 1, 2, 0): -0.8044242205065626, (3, 0, 3, 0): -0.1272361099986105, (2, 0, 3, 1): 0.3144666528615632, (2, 1, 2, 1): -0.6718294596277832, (3, 1, 3, 1): -0.04680269890699747, (3, 0, 2, 1): 0.0018891841755230923, (2, 0, 2, 0): -0.046197653332384785, (2, 1, 3, 0): -0.3376982003293647}  samples= None\n",
      "E=-1.95156585  angles= {(3, 1, 2, 0): -0.8044242205065817, (3, 0, 3, 0): -0.12723610999861032, (2, 0, 3, 1): 0.3144666528615828, (2, 1, 2, 1): -0.6718294596277833, (3, 1, 3, 1): -0.0468026989069975, (3, 0, 2, 1): 0.0018891841755265262, (2, 0, 2, 0): -0.046197653332384965, (2, 1, 3, 0): -0.33769820032936976}  samples= None\n",
      "E=-1.95156585  angles= {(3, 1, 2, 0): -0.8044242205065626, (3, 0, 3, 0): -0.1272361099986105, (2, 0, 3, 1): 0.3144666528615632, (2, 1, 2, 1): -0.6718294596277832, (3, 1, 3, 1): -0.04680269890699747, (3, 0, 2, 1): 0.0018891841755230923, (2, 0, 2, 0): -0.046197653332384785, (2, 1, 3, 0): -0.3376982003293647}  samples= None\n",
      "E=-1.95156585  angles= {(3, 1, 2, 0): -0.8044242205065721, (3, 0, 3, 0): -0.12723610999861043, (2, 0, 3, 1): 0.31446665286157305, (2, 1, 2, 1): -0.6718294596277833, (3, 1, 3, 1): -0.04680269890699748, (3, 0, 2, 1): 0.0018891841755248092, (2, 0, 2, 0): -0.046197653332384875, (2, 1, 3, 0): -0.3376982003293672}  samples= None\n",
      "E=-1.95156585  angles= {(3, 1, 2, 0): -0.8044242205065769, (3, 0, 3, 0): -0.12723610999861037, (2, 0, 3, 1): 0.31446665286157793, (2, 1, 2, 1): -0.6718294596277833, (3, 1, 3, 1): -0.04680269890699749, (3, 0, 2, 1): 0.0018891841755256677, (2, 0, 2, 0): -0.046197653332384916, (2, 1, 3, 0): -0.3376982003293685}  samples= None\n",
      "E=-1.95156585  angles= {(3, 1, 2, 0): -0.8044242205065721, (3, 0, 3, 0): -0.12723610999861043, (2, 0, 3, 1): 0.31446665286157305, (2, 1, 2, 1): -0.6718294596277833, (3, 1, 3, 1): -0.04680269890699748, (3, 0, 2, 1): 0.0018891841755248092, (2, 0, 2, 0): -0.046197653332384875, (2, 1, 3, 0): -0.3376982003293672}  samples= None\n",
      "E=-1.95156585  angles= {(3, 1, 2, 0): -0.8044464981191111, (3, 0, 3, 0): -0.1272358859712245, (2, 0, 3, 1): 0.3144894885972649, (2, 1, 2, 1): -0.6718295898222871, (3, 1, 3, 1): -0.04680273223398191, (3, 0, 2, 1): 0.001893187521194566, (2, 0, 2, 0): -0.046197862437262635, (2, 1, 3, 0): -0.3377041126237306}  samples= None\n",
      "E=-1.95156585  angles= {(3, 1, 2, 0): -0.8044353591964785, (3, 0, 3, 0): -0.12723599798608765, (2, 0, 3, 1): 0.3144780706101405, (2, 1, 2, 1): -0.6718295247243552, (3, 1, 3, 1): -0.04680271557031562, (3, 0, 2, 1): 0.0018911858274489133, (2, 0, 2, 0): -0.04619775788373153, (2, 1, 3, 0): -0.3377011564456671}  samples= None\n",
      "E=-1.95156585  angles= {(3, 1, 2, 0): -0.8044297897351621, (3, 0, 3, 0): -0.1272360539935192, (2, 0, 3, 1): 0.31447236161657827, (2, 1, 2, 1): -0.6718294921753891, (3, 1, 3, 1): -0.046802707238482476, (3, 0, 2, 1): 0.001890184980576087, (2, 0, 2, 0): -0.04619770560696598, (2, 1, 3, 0): -0.33769967835663534}  samples= None\n",
      "E=-1.95156585  angles= {(3, 1, 2, 0): -0.8044270050045039, (3, 0, 3, 0): -0.12723608199723496, (2, 0, 3, 1): 0.3144695071197972, (2, 1, 2, 1): -0.6718294759009061, (3, 1, 3, 1): -0.0468027030725659, (3, 0, 2, 1): 0.0018896845571396738, (2, 0, 2, 0): -0.046197679468583205, (2, 1, 3, 0): -0.3376989393121194}  samples= None\n"
     ]
    },
    {
     "name": "stdout",
     "output_type": "stream",
     "text": [
      "E=-1.95156585  angles= {(3, 1, 2, 0): -0.8044256126391748, (3, 0, 3, 0): -0.12723609599909286, (2, 0, 3, 1): 0.3144680798714066, (2, 1, 2, 1): -0.6718294677636647, (3, 1, 3, 1): -0.046802700989607614, (3, 0, 2, 1): 0.0018894343454214672, (2, 0, 2, 0): -0.04619766639939182, (2, 1, 3, 0): -0.3376985697898615}  samples= None\n",
      "E=-1.95156585  angles= {(3, 1, 2, 0): -0.8044249164565103, (3, 0, 3, 0): -0.1272361030000218, (2, 0, 3, 1): 0.3144673662472114, (2, 1, 2, 1): -0.6718294636950439, (3, 1, 3, 1): -0.046802699948128475, (3, 0, 2, 1): 0.001889309239562364, (2, 0, 2, 0): -0.04619765986479612, (2, 1, 3, 0): -0.3376983850287325}  samples= None\n",
      "E=-1.95156585  angles= {(3, 1, 2, 0): -0.8044245683651781, (3, 0, 3, 0): -0.12723610650048628, (2, 0, 3, 1): 0.31446700943511374, (2, 1, 2, 1): -0.6718294616607335, (3, 1, 3, 1): -0.0468026994273889, (3, 0, 2, 1): 0.0018892466866328123, (2, 0, 2, 0): -0.04619765659749828, (2, 1, 3, 0): -0.33769829264816803}  samples= None\n",
      "E=-1.95156585  angles= {(3, 1, 2, 0): -0.8044243943195118, (3, 0, 3, 0): -0.12723610825071852, (2, 0, 3, 1): 0.3144668310290649, (2, 1, 2, 1): -0.6718294606435783, (3, 1, 3, 1): -0.04680269916701912, (3, 0, 2, 1): 0.0018892154101680363, (2, 0, 2, 0): -0.04619765496384935, (2, 1, 3, 0): -0.3376982464578858}  samples= None\n",
      "E=-1.95156585  angles= {(3, 1, 2, 0): -0.8044243072966788, (3, 0, 3, 0): -0.12723610912583463, (2, 0, 3, 1): 0.3144667418260405, (2, 1, 2, 1): -0.6718294601350008, (3, 1, 3, 1): -0.04680269903683422, (3, 0, 2, 1): 0.0018891997719356485, (2, 0, 2, 0): -0.04619765414702489, (2, 1, 3, 0): -0.3376982233627447}  samples= None\n",
      "E=-1.95156585  angles= {(3, 1, 2, 0): -0.8044242637852623, (3, 0, 3, 0): -0.1272361095633927, (2, 0, 3, 1): 0.3144666972245283, (2, 1, 2, 1): -0.671829459880712, (3, 1, 3, 1): -0.046802698971741774, (3, 0, 2, 1): 0.0018891919528194545, (2, 0, 2, 0): -0.046197653738612655, (2, 1, 3, 0): -0.3376982118151741}  samples= None\n",
      "E=-1.95156585  angles= {(3, 1, 2, 0): -0.804424242029554, (3, 0, 3, 0): -0.12723610978217173, (2, 0, 3, 1): 0.31446667492377217, (2, 1, 2, 1): -0.6718294597535676, (3, 1, 3, 1): -0.04680269893919555, (3, 0, 2, 1): 0.0018891880432613576, (2, 0, 2, 0): -0.046197653534406545, (2, 1, 3, 0): -0.33769820604138884}  samples= None\n",
      "E=-1.95156585  angles= {(3, 1, 2, 0): -0.8044242311516999, (3, 0, 3, 0): -0.12723610989156123, (2, 0, 3, 1): 0.31446666377339416, (2, 1, 2, 1): -0.6718294596899953, (3, 1, 3, 1): -0.046802698922922444, (3, 0, 2, 1): 0.001889186088482309, (2, 0, 2, 0): -0.04619765343230348, (2, 1, 3, 0): -0.33769820315449617}  samples= None\n",
      "Warning: Desired error not necessarily achieved due to precision loss.\n",
      "         Current function value: -1.951566\n",
      "         Iterations: 38\n",
      "         Function evaluations: 86\n",
      "         Gradient evaluations: 74\n",
      "\n",
      "Obtained UCCSD energy: -1.9515658514930534\n"
     ]
    }
   ],
   "source": [
    "H = h4_tq.make_hamiltonian()\n",
    "\n",
    "print(\"\\nHamiltonian has {} terms\\n\".format(len(H)))\n",
    "\n",
    "U_UCCSD = h4_tq.make_uccsd_ansatz(initial_amplitudes='MP2',threshold=threshold, trotter_steps=trotter_steps)\n",
    "\n",
    "E = tq.ExpectationValue(H=H, U=U_UCCSD)\n",
    "\n",
    "print('\\nNumber of UCCSD amplitudes: {} \\n'.format(len(E.extract_variables())))\n",
    "\n",
    "print('\\nStarting optimization:\\n')\n",
    "\n",
    "result = tq.minimize(objective=E, method=\"BFGS\", initial_values={k:0.0 for k in E.extract_variables()}, tol=1e-6)\n",
    "\n",
    "print('\\nObtained UCCSD energy: {}'.format(result.energy))"
   ]
  },
  {
   "cell_type": "code",
   "execution_count": null,
   "metadata": {},
   "outputs": [],
   "source": [
    "H = tq.QubitHamiltonian.from_openfermion(get_qubit_hamiltonian('h4', 2, 'sto-3g', qubit_transf='jw'))\n",
    "\n",
    "a = tq.Variable(\"tau_0\")\n",
    "U = construct_QMF_ansatz(8)\n",
    "U += tq.gates.ExpPauli(paulistring=tq.PauliString.from_string(\"X(0)Y(1)X(2)X(3)\"), angle=a)\n",
    "print(U)\n",
    "\n"
   ]
  }
 ],
 "metadata": {
  "kernelspec": {
   "display_name": "Python 3",
   "language": "python",
   "name": "python3"
  },
  "language_info": {
   "codemirror_mode": {
    "name": "ipython",
    "version": 3
   },
   "file_extension": ".py",
   "mimetype": "text/x-python",
   "name": "python",
   "nbconvert_exporter": "python",
   "pygments_lexer": "ipython3",
   "version": "3.7.1"
  }
 },
 "nbformat": 4,
 "nbformat_minor": 4
}
