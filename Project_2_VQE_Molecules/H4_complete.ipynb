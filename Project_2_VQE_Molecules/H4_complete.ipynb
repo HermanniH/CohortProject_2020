{
 "cells": [
  {
   "cell_type": "markdown",
   "metadata": {},
   "source": [
    "# Generating the circuit for H4\n",
    "\n",
    "## Classical calculations:"
   ]
  },
  {
   "cell_type": "code",
   "execution_count": 1,
   "metadata": {},
   "outputs": [],
   "source": [
    "import numpy as np\n",
    "import matplotlib.pyplot as plt\n",
    "from utility import *\n",
    "import tequila as tq\n",
    "threshold = 1e-6 #Cutoff for UCC MP2 amplitudes and QCC ranking gradients\n",
    "\n",
    "basis = 'sto-3g'"
   ]
  },
  {
   "cell_type": "code",
   "execution_count": 2,
   "metadata": {},
   "outputs": [
    {
     "name": "stdout",
     "output_type": "stream",
     "text": [
      "E = -1.7282808647469823 Eh\n",
      "E = -1.8757673115297755 Eh\n",
      "E = -1.9436685341419828 Eh\n",
      "E = -1.9681168701537448 Eh\n",
      "E = -1.9688717505339302 Eh\n",
      "E = -1.9575160224134387 Eh\n",
      "E = -1.9411219627085186 Eh\n",
      "E = -1.9240069218707847 Eh\n",
      "E = -1.9086207863072835 Eh\n",
      "E = -1.8960726556134395 Eh\n",
      "E = -1.886551035526075 Eh\n",
      "E = -1.8797113367238392 Eh\n",
      "E = -1.8749960099801717 Eh\n",
      "E = -1.8718427824231183 Eh\n",
      "E = -1.8697821728146717 Eh\n",
      "E = -1.6019400748311579 Eh\n",
      "E = -1.7310111342440724 Eh\n",
      "E = -1.7791045408794854 Eh\n",
      "E = -1.7818090946447955 Eh\n",
      "E = -1.7585910209903557 Eh\n",
      "E = -1.720912463577959 Eh\n",
      "E = -1.6758703418708207 Eh\n",
      "E = -1.6279977412549318 Eh\n",
      "E = -1.5802294832603316 Eh\n",
      "E = -1.534445487370811 Eh\n",
      "E = -1.4917887476436846 Eh\n",
      "E = -1.452871269319548 Eh\n",
      "E = -1.417928630268599 Eh\n",
      "E = -1.3869439492023357 Eh\n",
      "E = -1.3597425710619053 Eh\n",
      "E = -1.730297072383129 Eh\n",
      "E = -1.8787802508847058 Eh\n",
      "E = -1.9481335329118727 Eh\n",
      "E = -1.9745957353524388 Eh\n",
      "E = -1.9780170268528454 Eh\n",
      "E = -1.9698470785114277 Eh\n",
      "E = -1.9566753319492105 Eh\n",
      "E = -1.9421459032861064 Eh\n",
      "E = -1.9281572807814653 Eh\n",
      "E = -1.9156158600937943 Eh\n",
      "E = -1.9048746816066942 Eh\n",
      "E = -1.8959755978334127 Eh\n",
      "E = -1.8887901915338958 Eh\n",
      "E = -1.883109008257704 Eh\n",
      "E = -1.8786976648846327 Eh\n"
     ]
    }
   ],
   "source": [
    "bond_lengths = np.linspace(0.8,2.7,15)\n",
    "#Run FCI\n",
    "FCI_PES = obtain_PES('h4', bond_lengths, basis, method='fci')\n",
    "#Run HF\n",
    "HF_PES = obtain_PES('h4', bond_lengths, basis,  method='hf')\n",
    "#Run CCSD\n",
    "CCSD_PES = obtain_PES('h4', bond_lengths, basis,  method='ccsd')"
   ]
  },
  {
   "cell_type": "code",
   "execution_count": 3,
   "metadata": {},
   "outputs": [
    {
     "data": {
      "text/plain": [
       "<matplotlib.legend.Legend at 0x7eff968d4198>"
      ]
     },
     "execution_count": 3,
     "metadata": {},
     "output_type": "execute_result"
    },
    {
     "data": {
      "image/png": "[encoded data removed]",
      "text/plain": [
       "<Figure size 432x288 with 1 Axes>"
      ]
     },
     "metadata": {
      "needs_background": "light"
     },
     "output_type": "display_data"
    }
   ],
   "source": [
    "#Plot H4 PESs\n",
    "\n",
    "plt.title('H4 symmetric dissociation, STO-3G')\n",
    "plt.xlabel('R, Angstrom')\n",
    "plt.ylabel('E, Hartree')\n",
    "\n",
    "plt.plot(bond_lengths, FCI_PES, label='FCI')\n",
    "plt.scatter(bond_lengths, HF_PES, label='HF', color='orange')\n",
    "plt.scatter(bond_lengths, CCSD_PES, label='CCSD', color='purple')\n",
    "plt.legend()"
   ]
  },
  {
   "cell_type": "markdown",
   "metadata": {},
   "source": [
    "## Generating Qubit Hamiltonians"
   ]
  },
  {
   "cell_type": "code",
   "execution_count": 4,
   "metadata": {},
   "outputs": [
    {
     "name": "stdout",
     "output_type": "stream",
     "text": [
      "-0.8823205468513752 [] +\n",
      "-0.034058385022492754 [X0 X1 Y2 Y3] +\n",
      "-0.0340583850225138 [X0 X1 Y4 Y5] +\n",
      "-0.023093664326494255 [X0 X1 Y6 Y7] +\n",
      "0.034058385022492754 [X0 Y1 Y2 X3] +\n",
      "0.0340583850225138 [X0 Y1 Y4 X5] +\n",
      "0.023093664326494255 [X0 Y1 Y6 X7] +\n",
      "-0.011573113480190935 [X0 Z1 X2 X4 Z5 X6] +\n",
      "-0.035257520327649984 [X0 Z1 X2 X5 Z6 X7] +\n",
      "-0.035257520327649984 [X0 Z1 X2 Y5 Z6 Y7] +\n",
      "-0.011573113480190928 [X0 Z1 Y2 Y4 Z5 X6] +\n",
      "0.03525752032764998 [X0 Z1 Z2 X3 Y4 Z5 Z6 Y7] +\n",
      "0.023684406847459046 [X0 Z1 Z2 X3 X5 X6] +\n",
      "-0.03525752032764998 [X0 Z1 Z2 Y3 Y4 Z5 Z6 X7] +\n",
      "0.023684406847459046 [X0 Z1 Z2 Y3 Y5 X6] +\n",
      "-4.046981332494459e-08 [X0 Z1 Z2 Z3 Z4 Z5 X6] +\n",
      "0.034058385022492754 [Y0 X1 X2 Y3] +\n",
      "0.0340583850225138 [Y0 X1 X4 Y5] +\n",
      "0.023093664326494255 [Y0 X1 X6 Y7] +\n",
      "-0.034058385022492754 [Y0 Y1 X2 X3] +\n",
      "-0.0340583850225138 [Y0 Y1 X4 X5] +\n",
      "-0.023093664326494255 [Y0 Y1 X6 X7] +\n",
      "-0.011573113480190928 [Y0 Z1 X2 X4 Z5 Y6] +\n",
      "-0.011573113480190935 [Y0 Z1 Y2 Y4 Z5 Y6] +\n",
      "-0.035257520327649984 [Y0 Z1 Y2 X5 Z6 X7] +\n",
      "-0.035257520327649984 [Y0 Z1 Y2 Y5 Z6 Y7] +\n",
      "-0.03525752032764998 [Y0 Z1 Z2 X3 X4 Z5 Z6 Y7] +\n",
      "0.023684406847459046 [Y0 Z1 Z2 X3 X5 Y6] +\n",
      "0.03525752032764998 [Y0 Z1 Z2 Y3 X4 Z5 Z6 X7] +\n",
      "0.023684406847459046 [Y0 Z1 Z2 Y3 Y5 Y6] +\n",
      "-4.046981332494459e-08 [Y0 Z1 Z2 Z3 Z4 Z5 Y6] +\n",
      "0.14728582382955235 [Z0] +\n",
      "0.10715401025424418 [Z0 Z1] +\n",
      "0.0721388704536108 [Z0 Z2] +\n",
      "0.10619725547610355 [Z0 Z3] +\n",
      "0.07213887045360384 [Z0 Z4] +\n",
      "0.10619725547611764 [Z0 Z5] +\n",
      "0.08409543193051376 [Z0 Z6] +\n",
      "0.10718909625700801 [Z0 Z7] +\n",
      "0.023684406847459046 [X1 X2 X4 Z5 Z6 X7] +\n",
      "0.03525752032764998 [X1 X2 Y5 Y6] +\n",
      "0.023684406847459046 [X1 Y2 Y4 Z5 Z6 X7] +\n",
      "-0.03525752032764998 [X1 Y2 Y5 X6] +\n",
      "-0.035257520327649984 [X1 Z2 X3 X4 Z5 X6] +\n",
      "-0.035257520327649984 [X1 Z2 X3 Y4 Z5 Y6] +\n",
      "-0.011573113480190935 [X1 Z2 X3 X5 Z6 X7] +\n",
      "-0.011573113480190928 [X1 Z2 Y3 Y5 Z6 X7] +\n",
      "-4.046981332494459e-08 [X1 Z2 Z3 Z4 Z5 Z6 X7] +\n",
      "0.023684406847459046 [Y1 X2 X4 Z5 Z6 Y7] +\n",
      "-0.03525752032764998 [Y1 X2 X5 Y6] +\n",
      "0.023684406847459046 [Y1 Y2 Y4 Z5 Z6 Y7] +\n",
      "0.03525752032764998 [Y1 Y2 X5 X6] +\n",
      "-0.011573113480190928 [Y1 Z2 X3 X5 Z6 Y7] +\n",
      "-0.035257520327649984 [Y1 Z2 Y3 X4 Z5 X6] +\n",
      "-0.035257520327649984 [Y1 Z2 Y3 Y4 Z5 Y6] +\n",
      "-0.011573113480190935 [Y1 Z2 Y3 Y5 Z6 Y7] +\n",
      "-4.046981332494459e-08 [Y1 Z2 Z3 Z4 Z5 Z6 Y7] +\n",
      "0.14728582382955235 [Z1] +\n",
      "0.10619725547610355 [Z1 Z2] +\n",
      "0.0721388704536108 [Z1 Z3] +\n",
      "0.10619725547611764 [Z1 Z4] +\n",
      "0.07213887045360384 [Z1 Z5] +\n",
      "0.10718909625700801 [Z1 Z6] +\n",
      "0.08409543193051376 [Z1 Z7] +\n",
      "-0.024298400891924504 [X2 X3 Y4 Y5] +\n",
      "-0.03827976789253185 [X2 X3 Y6 Y7] +\n",
      "0.024298400891924504 [X2 Y3 Y4 X5] +\n",
      "0.03827976789253185 [X2 Y3 Y6 X7] +\n",
      "0.024298400891924504 [Y2 X3 X4 Y5] +\n",
      "0.03827976789253185 [Y2 X3 X6 Y7] +\n",
      "-0.024298400891924504 [Y2 Y3 X4 X5] +\n",
      "-0.03827976789253185 [Y2 Y3 X6 X7] +\n",
      "0.02072928326221074 [Z2] +\n",
      "0.10799421374371414 [Z2 Z3] +\n",
      "0.0818725044895098 [Z2 Z4] +\n",
      "0.10617090538143431 [Z2 Z5] +\n",
      "0.07102689631806026 [Z2 Z6] +\n",
      "0.10930666421059211 [Z2 Z7] +\n",
      "0.02072928326221073 [Z3] +\n",
      "0.10617090538143431 [Z3 Z4] +\n",
      "0.0818725044895098 [Z3 Z5] +\n",
      "0.10930666421059211 [Z3 Z6] +\n",
      "0.07102689631806026 [Z3 Z7] +\n",
      "-0.03827976789251076 [X4 X5 Y6 Y7] +\n",
      "0.03827976789251076 [X4 Y5 Y6 X7] +\n",
      "0.03827976789251076 [Y4 X5 X6 Y7] +\n",
      "-0.03827976789251076 [Y4 Y5 X6 X7] +\n",
      "0.020729283262210095 [Z4] +\n",
      "0.10799421374371403 [Z4 Z5] +\n",
      "0.07102689631806716 [Z4 Z6] +\n",
      "0.10930666421057791 [Z4 Z7] +\n",
      "0.020729283262210105 [Z5] +\n",
      "0.10930666421057791 [Z5 Z6] +\n",
      "0.07102689631806716 [Z5 Z7] +\n",
      "-0.10711575592668135 [Z6] +\n",
      "0.11263850647927055 [Z6 Z7] +\n",
      "-0.10711575592668124 [Z7]\n"
     ]
    }
   ],
   "source": [
    "qubit_transf = 'jw' # Jordan-Wigner transformations\n",
    "h4 = get_qubit_hamiltonian(mol='h4', geometry=1.5, basis='sto3g', qubit_transf=qubit_transf)\n",
    "print(h4)"
   ]
  },
  {
   "cell_type": "code",
   "execution_count": 5,
   "metadata": {},
   "outputs": [],
   "source": [
    "h4_tapered = taper_hamiltonian(h4, n_spin_orbitals=8, n_electrons=4, qubit_transf=qubit_transf)"
   ]
  },
  {
   "cell_type": "markdown",
   "metadata": {},
   "source": [
    "## Tequila stuff"
   ]
  },
  {
   "cell_type": "code",
   "execution_count": 6,
   "metadata": {},
   "outputs": [
    {
     "name": "stdout",
     "output_type": "stream",
     "text": [
      "Number of spin-orbitals (qubits): 8 \n",
      "\n",
      "FCI energy: -1.9551250115194319\n"
     ]
    }
   ],
   "source": [
    "trotter_steps = 1\n",
    "\n",
    "xyz_data = get_molecular_data('h4', geometry=1.5, xyz_format=True)\n",
    "basis='sto-3g'\n",
    "\n",
    "h4_tq = tq.quantumchemistry.Molecule(geometry=xyz_data, basis_set=basis)\n",
    "\n",
    "print('Number of spin-orbitals (qubits): {} \\n'.format(2*h4_tq.n_orbitals))\n",
    "\n",
    "E_FCI = h4_tq.compute_energy(method='fci')\n",
    "\n",
    "print('FCI energy: {}'.format(E_FCI))"
   ]
  },
  {
   "cell_type": "code",
   "execution_count": null,
   "metadata": {},
   "outputs": [
    {
     "name": "stdout",
     "output_type": "stream",
     "text": [
      "\n",
      "Hamiltonian has 93 terms\n",
      "\n"
     ]
    }
   ],
   "source": [
    "H = h4_tq.make_hamiltonian()\n",
    "\n",
    "print(\"\\nHamiltonian has {} terms\\n\".format(len(H)))\n",
    "\n",
    "U_UCCSD = h4_tq.make_uccsd_ansatz(initial_amplitudes='MP2',threshold=threshold, trotter_steps=trotter_steps)\n",
    "\n",
    "E = tq.ExpectationValue(H=H, U=U_UCCSD)\n",
    "\n",
    "print('\\nNumber of UCCSD amplitudes: {} \\n'.format(len(E.extract_variables())))\n",
    "\n",
    "print('\\nStarting optimization:\\n')\n",
    "\n",
    "result = tq.minimize(objective=E, method=\"BFGS\", initial_values={k:0.0 for k in E.extract_variables()}, tol=1e-6)\n",
    "\n",
    "print('\\nObtained UCCSD energy: {}'.format(result.energy))"
   ]
  },
  {
   "cell_type": "code",
   "execution_count": null,
   "metadata": {},
   "outputs": [],
   "source": [
    "#Define number of entanglers to enter ansatz\n",
    "n_ents = 1\n",
    "\n",
    "#Rank entanglers using energy gradient criterion\n",
    "ranked_entangler_groupings = generate_QCC_gradient_groupings(H.to_openfermion(), \n",
    "                                                             2*h4.n_orbitals, \n",
    "                                                             hf_reference, \n",
    "                                                             cutoff=threshold)\n",
    "\n",
    "print('Grouping gradient magnitudes (Grouping : Gradient magnitude):')\n",
    "for i in range(len(ranked_entangler_groupings)):\n",
    "    print('{} : {}'.format(i+1,ranked_entangler_groupings[i][1]))\n",
    "\n",
    "\n",
    "entanglers = get_QCC_entanglers(ranked_entangler_groupings, n_ents, 2*h4.n_orbitals)\n",
    "\n",
    "print('\\nSelected entanglers:')\n",
    "for ent in entanglers:\n",
    "    print(ent)"
   ]
  },
  {
   "cell_type": "code",
   "execution_count": null,
   "metadata": {},
   "outputs": [],
   "source": [
    "H = tq.QubitHamiltonian.from_openfermion(get_qubit_hamiltonian('h4', 2, 'sto-3g', qubit_transf='jw'))\n",
    "\n",
    "a = tq.Variable(\"tau_0\")\n",
    "U = construct_QMF_ansatz(8)\n",
    "for ent in entanglers:\n",
    "    U += tq.gates.ExpPauli(paulistring=tq.PauliString.from_string(ent), angle=a)\n",
    "print(U)\n",
    "\n"
   ]
  },
  {
   "cell_type": "code",
   "execution_count": null,
   "metadata": {},
   "outputs": [],
   "source": []
  }
 ],
 "metadata": {
  "kernelspec": {
   "display_name": "Python 3",
   "language": "python",
   "name": "python3"
  },
  "language_info": {
   "codemirror_mode": {
    "name": "ipython",
    "version": 3
   },
   "file_extension": ".py",
   "mimetype": "text/x-python",
   "name": "python",
   "nbconvert_exporter": "python",
   "pygments_lexer": "ipython3",
   "version": "3.7.1"
  }
 },
 "nbformat": 4,
 "nbformat_minor": 4
}
