{
 "cells": [
  {
   "cell_type": "markdown",
   "metadata": {},
   "source": [
    "# H4 Molecule: Constructing Potential Energy Surfaces Using VQE\n",
    "\n",
    "## Step 1: Classical calculations"
   ]
  },
  {
   "cell_type": "code",
   "execution_count": 1,
   "metadata": {},
   "outputs": [],
   "source": [
    "import numpy as np\n",
    "import matplotlib.pyplot as plt\n",
    "from utility import *\n",
    "import tequila as tq\n",
    "threshold = 1e-6 #Cutoff for UCC MP2 amplitudes and QCC ranking gradients\n",
    "\n",
    "basis = 'sto-3g'"
   ]
  },
  {
   "cell_type": "markdown",
   "metadata": {},
   "source": [
    "#### Classical Electronic Structure Methods"
   ]
  },
  {
   "cell_type": "code",
   "execution_count": 2,
   "metadata": {},
   "outputs": [
    {
     "name": "stdout",
     "output_type": "stream",
     "text": [
      "E = -1.7282808647469823 Eh\n",
      "E = -1.8757673115297755 Eh\n",
      "E = -1.9436685341419828 Eh\n",
      "E = -1.9681168701537448 Eh\n",
      "E = -1.9688717505339302 Eh\n",
      "E = -1.9575160224134387 Eh\n",
      "E = -1.9411219627085186 Eh\n",
      "E = -1.9240069218707847 Eh\n",
      "E = -1.9086207863072835 Eh\n",
      "E = -1.8960726556134395 Eh\n",
      "E = -1.886551035526075 Eh\n",
      "E = -1.8797113367238392 Eh\n",
      "E = -1.8749960099801717 Eh\n",
      "E = -1.8718427824231183 Eh\n",
      "E = -1.8697821728146717 Eh\n",
      "E = -1.6019400748311579 Eh\n",
      "E = -1.7310111342440724 Eh\n",
      "E = -1.7791045408794854 Eh\n",
      "E = -1.7818090946447955 Eh\n",
      "E = -1.7585910209903557 Eh\n",
      "E = -1.720912463577959 Eh\n",
      "E = -1.6758703418708207 Eh\n",
      "E = -1.6279977412549318 Eh\n",
      "E = -1.5802294832603316 Eh\n",
      "E = -1.534445487370811 Eh\n",
      "E = -1.4917887476436846 Eh\n",
      "E = -1.452871269319548 Eh\n",
      "E = -1.417928630268599 Eh\n",
      "E = -1.3869439492023357 Eh\n",
      "E = -1.3597425710619053 Eh\n",
      "E = -1.730297072383129 Eh\n",
      "E = -1.8787802508847058 Eh\n",
      "E = -1.9481335329118727 Eh\n",
      "E = -1.9745957353524388 Eh\n",
      "E = -1.9780170268528454 Eh\n",
      "E = -1.9698470785114277 Eh\n",
      "E = -1.9566753319492105 Eh\n",
      "E = -1.9421459032861064 Eh\n",
      "E = -1.9281572807814653 Eh\n",
      "E = -1.9156158600937943 Eh\n",
      "E = -1.9048746816066942 Eh\n",
      "E = -1.8959755978334127 Eh\n",
      "E = -1.8887901915338958 Eh\n",
      "E = -1.883109008257704 Eh\n",
      "E = -1.8786976648846327 Eh\n"
     ]
    }
   ],
   "source": [
    "bond_lengths = np.linspace(0.8,2.7,15)\n",
    "#Run FCI\n",
    "print(\"Full Configuration Interaction (FCI):\")\n",
    "FCI_PES = obtain_PES('h4', bond_lengths, basis, method='fci')\n",
    "#Run HF\n",
    "print(\"Hartree-Fock (HF):\")\n",
    "HF_PES = obtain_PES('h4', bond_lengths, basis,  method='hf')\n",
    "#Run CCSD\n",
    "print(\"Couple Cluster Singles and Doubles (CCSD):\")\n",
    "CCSD_PES = obtain_PES('h4', bond_lengths, basis,  method='ccsd')"
   ]
  },
  {
   "cell_type": "code",
   "execution_count": 3,
   "metadata": {},
   "outputs": [
    {
     "data": {
      "text/plain": [
       "<matplotlib.legend.Legend at 0x7eff968d4198>"
      ]
     },
     "execution_count": 3,
     "metadata": {},
     "output_type": "execute_result"
    },
    {
     "data": {
      "image/png": "[encoded data removed]",
      "text/plain": [
       "<Figure size 432x288 with 1 Axes>"
      ]
     },
     "metadata": {
      "needs_background": "light"
     },
     "output_type": "display_data"
    }
   ],
   "source": [
    "#Plot H4 PESs\n",
    "\n",
    "plt.title('H4 symmetric dissociation, STO-3G')\n",
    "plt.xlabel('R, Angstrom')\n",
    "plt.ylabel('E, Hartree')\n",
    "\n",
    "plt.plot(bond_lengths, FCI_PES, label='FCI')\n",
    "plt.scatter(bond_lengths, HF_PES, label='HF', color='orange')\n",
    "plt.scatter(bond_lengths, CCSD_PES, label='CCSD', color='purple')\n",
    "plt.legend()"
   ]
  },
  {
   "cell_type": "markdown",
   "metadata": {},
   "source": [
    " "
   ]
  },
  {
   "cell_type": "markdown",
   "metadata": {},
   "source": [
    "## Step 2: Generating Qubit Hamiltonians"
   ]
  },
  {
   "cell_type": "code",
   "execution_count": 4,
   "metadata": {},
   "outputs": [
    {
     "name": "stdout",
     "output_type": "stream",
     "text": [
      "-0.8823205468513752 [] +\n",
      "-0.034058385022492754 [X0 X1 Y2 Y3] +\n",
      "-0.0340583850225138 [X0 X1 Y4 Y5] +\n",
      "-0.023093664326494255 [X0 X1 Y6 Y7] +\n",
      "0.034058385022492754 [X0 Y1 Y2 X3] +\n",
      "0.0340583850225138 [X0 Y1 Y4 X5] +\n",
      "0.023093664326494255 [X0 Y1 Y6 X7] +\n",
      "-0.011573113480190935 [X0 Z1 X2 X4 Z5 X6] +\n",
      "-0.035257520327649984 [X0 Z1 X2 X5 Z6 X7] +\n",
      "-0.035257520327649984 [X0 Z1 X2 Y5 Z6 Y7] +\n",
      "-0.011573113480190928 [X0 Z1 Y2 Y4 Z5 X6] +\n",
      "0.03525752032764998 [X0 Z1 Z2 X3 Y4 Z5 Z6 Y7] +\n",
      "0.023684406847459046 [X0 Z1 Z2 X3 X5 X6] +\n",
      "-0.03525752032764998 [X0 Z1 Z2 Y3 Y4 Z5 Z6 X7] +\n",
      "0.023684406847459046 [X0 Z1 Z2 Y3 Y5 X6] +\n",
      "-4.046981332494459e-08 [X0 Z1 Z2 Z3 Z4 Z5 X6] +\n",
      "0.034058385022492754 [Y0 X1 X2 Y3] +\n",
      "0.0340583850225138 [Y0 X1 X4 Y5] +\n",
      "0.023093664326494255 [Y0 X1 X6 Y7] +\n",
      "-0.034058385022492754 [Y0 Y1 X2 X3] +\n",
      "-0.0340583850225138 [Y0 Y1 X4 X5] +\n",
      "-0.023093664326494255 [Y0 Y1 X6 X7] +\n",
      "-0.011573113480190928 [Y0 Z1 X2 X4 Z5 Y6] +\n",
      "-0.011573113480190935 [Y0 Z1 Y2 Y4 Z5 Y6] +\n",
      "-0.035257520327649984 [Y0 Z1 Y2 X5 Z6 X7] +\n",
      "-0.035257520327649984 [Y0 Z1 Y2 Y5 Z6 Y7] +\n",
      "-0.03525752032764998 [Y0 Z1 Z2 X3 X4 Z5 Z6 Y7] +\n",
      "0.023684406847459046 [Y0 Z1 Z2 X3 X5 Y6] +\n",
      "0.03525752032764998 [Y0 Z1 Z2 Y3 X4 Z5 Z6 X7] +\n",
      "0.023684406847459046 [Y0 Z1 Z2 Y3 Y5 Y6] +\n",
      "-4.046981332494459e-08 [Y0 Z1 Z2 Z3 Z4 Z5 Y6] +\n",
      "0.14728582382955235 [Z0] +\n",
      "0.10715401025424418 [Z0 Z1] +\n",
      "0.0721388704536108 [Z0 Z2] +\n",
      "0.10619725547610355 [Z0 Z3] +\n",
      "0.07213887045360384 [Z0 Z4] +\n",
      "0.10619725547611764 [Z0 Z5] +\n",
      "0.08409543193051376 [Z0 Z6] +\n",
      "0.10718909625700801 [Z0 Z7] +\n",
      "0.023684406847459046 [X1 X2 X4 Z5 Z6 X7] +\n",
      "0.03525752032764998 [X1 X2 Y5 Y6] +\n",
      "0.023684406847459046 [X1 Y2 Y4 Z5 Z6 X7] +\n",
      "-0.03525752032764998 [X1 Y2 Y5 X6] +\n",
      "-0.035257520327649984 [X1 Z2 X3 X4 Z5 X6] +\n",
      "-0.035257520327649984 [X1 Z2 X3 Y4 Z5 Y6] +\n",
      "-0.011573113480190935 [X1 Z2 X3 X5 Z6 X7] +\n",
      "-0.011573113480190928 [X1 Z2 Y3 Y5 Z6 X7] +\n",
      "-4.046981332494459e-08 [X1 Z2 Z3 Z4 Z5 Z6 X7] +\n",
      "0.023684406847459046 [Y1 X2 X4 Z5 Z6 Y7] +\n",
      "-0.03525752032764998 [Y1 X2 X5 Y6] +\n",
      "0.023684406847459046 [Y1 Y2 Y4 Z5 Z6 Y7] +\n",
      "0.03525752032764998 [Y1 Y2 X5 X6] +\n",
      "-0.011573113480190928 [Y1 Z2 X3 X5 Z6 Y7] +\n",
      "-0.035257520327649984 [Y1 Z2 Y3 X4 Z5 X6] +\n",
      "-0.035257520327649984 [Y1 Z2 Y3 Y4 Z5 Y6] +\n",
      "-0.011573113480190935 [Y1 Z2 Y3 Y5 Z6 Y7] +\n",
      "-4.046981332494459e-08 [Y1 Z2 Z3 Z4 Z5 Z6 Y7] +\n",
      "0.14728582382955235 [Z1] +\n",
      "0.10619725547610355 [Z1 Z2] +\n",
      "0.0721388704536108 [Z1 Z3] +\n",
      "0.10619725547611764 [Z1 Z4] +\n",
      "0.07213887045360384 [Z1 Z5] +\n",
      "0.10718909625700801 [Z1 Z6] +\n",
      "0.08409543193051376 [Z1 Z7] +\n",
      "-0.024298400891924504 [X2 X3 Y4 Y5] +\n",
      "-0.03827976789253185 [X2 X3 Y6 Y7] +\n",
      "0.024298400891924504 [X2 Y3 Y4 X5] +\n",
      "0.03827976789253185 [X2 Y3 Y6 X7] +\n",
      "0.024298400891924504 [Y2 X3 X4 Y5] +\n",
      "0.03827976789253185 [Y2 X3 X6 Y7] +\n",
      "-0.024298400891924504 [Y2 Y3 X4 X5] +\n",
      "-0.03827976789253185 [Y2 Y3 X6 X7] +\n",
      "0.02072928326221074 [Z2] +\n",
      "0.10799421374371414 [Z2 Z3] +\n",
      "0.0818725044895098 [Z2 Z4] +\n",
      "0.10617090538143431 [Z2 Z5] +\n",
      "0.07102689631806026 [Z2 Z6] +\n",
      "0.10930666421059211 [Z2 Z7] +\n",
      "0.02072928326221073 [Z3] +\n",
      "0.10617090538143431 [Z3 Z4] +\n",
      "0.0818725044895098 [Z3 Z5] +\n",
      "0.10930666421059211 [Z3 Z6] +\n",
      "0.07102689631806026 [Z3 Z7] +\n",
      "-0.03827976789251076 [X4 X5 Y6 Y7] +\n",
      "0.03827976789251076 [X4 Y5 Y6 X7] +\n",
      "0.03827976789251076 [Y4 X5 X6 Y7] +\n",
      "-0.03827976789251076 [Y4 Y5 X6 X7] +\n",
      "0.020729283262210095 [Z4] +\n",
      "0.10799421374371403 [Z4 Z5] +\n",
      "0.07102689631806716 [Z4 Z6] +\n",
      "0.10930666421057791 [Z4 Z7] +\n",
      "0.020729283262210105 [Z5] +\n",
      "0.10930666421057791 [Z5 Z6] +\n",
      "0.07102689631806716 [Z5 Z7] +\n",
      "-0.10711575592668135 [Z6] +\n",
      "0.11263850647927055 [Z6 Z7] +\n",
      "-0.10711575592668124 [Z7]\n"
     ]
    }
   ],
   "source": [
    "qubit_transf = 'jw' # Jordan-Wigner transformations\n",
    "h4 = get_qubit_hamiltonian(mol='h4', geometry=1.5, basis='sto3g', qubit_transf=qubit_transf)\n",
    "print(h4)"
   ]
  },
  {
   "cell_type": "code",
   "execution_count": 5,
   "metadata": {},
   "outputs": [],
   "source": [
    "h4_tapered = taper_hamiltonian(h4, n_spin_orbitals=8, n_electrons=4, qubit_transf=qubit_transf)\n",
    "print(\"Effective Hamiltonian:\", h4_tapered)"
   ]
  },
  {
   "cell_type": "markdown",
   "metadata": {},
   "source": [
    "## Step 3: Unitary Ansatz"
   ]
  },
  {
   "cell_type": "code",
   "execution_count": 13,
   "metadata": {},
   "outputs": [
    {
     "name": "stdout",
     "output_type": "stream",
     "text": [
      "Number of spin-orbitals (qubits): 8 \n",
      "\n",
      "FCI energy: -1.9551250115194319\n"
     ]
    }
   ],
   "source": [
    "trotter_steps = 1\n",
    "\n",
    "xyz_data = get_molecular_data('h4', geometry=1.5, xyz_format=True)\n",
    "basis='sto-3g'\n",
    "\n",
    "h4_tq = tq.quantumchemistry.Molecule(geometry=xyz_data, basis_set=basis)\n",
    "\n",
    "print('Number of spin-orbitals (qubits): {} \\n'.format(2*h4_tq.n_orbitals))\n",
    "\n",
    "E_FCI = h4_tq.compute_energy(method='fci')\n",
    "\n",
    "print('FCI energy: {}'.format(E_FCI))"
   ]
  },
  {
   "cell_type": "code",
   "execution_count": 7,
   "metadata": {},
   "outputs": [
    {
     "name": "stdout",
     "output_type": "stream",
     "text": [
      "\n",
      "Hamiltonian has 93 terms\n",
      "\n",
      "\n",
      "Number of UCCSD amplitudes: 8 \n",
      "\n",
      "\n",
      "Starting optimization:\n",
      "\n",
      "Optimizer: <class 'tequila.optimizers.optimizer_scipy.OptimizerSciPy'> \n",
      "backend         : qulacs\n",
      "samples         : None\n",
      "save_history    : True\n",
      "noise           : None\n",
      "\n",
      "Method          : BFGS\n",
      "Objective       : 1 expectationvalues\n",
      "gradient        : 512 expectationvalues\n",
      "\n",
      "active variables : 8\n",
      "\n",
      "E=-1.71399864  angles= {(3, 1, 2, 0): 0.0, (3, 0, 3, 0): 0.0, (2, 0, 3, 1): 0.0, (2, 1, 2, 1): 0.0, (3, 1, 3, 1): 0.0, (3, 0, 2, 1): 0.0, (2, 0, 2, 0): 0.0, (2, 1, 3, 0): 0.0}  samples= None\n",
      "E=-1.11359858  angles= {(3, 1, 2, 0): -0.46722960472106934, (3, 0, 3, 0): -0.18474936485290527, (2, 0, 3, 1): -0.46722960472106934, (2, 1, 2, 1): -0.19438719749450684, (3, 1, 3, 1): -0.30623817443847656, (3, 0, 2, 1): -0.004305601119995117, (2, 0, 2, 0): -0.27246713638305664, (2, 1, 3, 0): -0.004305601119995117}  samples= None\n",
      "E=-1.77345576  angles= {(3, 1, 2, 0): -0.07621729618876547, (3, 0, 3, 0): -0.030137424768035468, (2, 0, 3, 1): -0.07621729618876547, (2, 1, 2, 1): -0.031709605849114926, (3, 1, 3, 1): -0.04995540823963474, (3, 0, 2, 1): -0.0007023554854347396, (2, 0, 2, 0): -0.04444647390828256, (2, 1, 3, 0): -0.0007023554854347396}  samples= None\n",
      "E=-1.86847365  angles= {(3, 1, 2, 0): -0.1315614164629193, (3, 0, 3, 0): -0.09395831984008161, (2, 0, 3, 1): -0.13143066883385895, (2, 1, 2, 1): -0.11225449998352802, (3, 1, 3, 1): -0.12684898733126088, (3, 0, 2, 1): -0.08839361782823328, (2, 0, 2, 0): -0.11092845553425043, (2, 1, 3, 0): -0.08770070315039019}  samples= None\n",
      "E=-1.92490788  angles= {(3, 1, 2, 0): -0.23967740746534782, (3, 0, 3, 0): -0.03879723051960417, (2, 0, 3, 1): -0.23220395086328227, (2, 1, 2, 1): -0.41920652459809404, (3, 1, 3, 1): -0.24479237426045516, (3, 0, 2, 1): -0.23762765274751507, (2, 0, 2, 0): -0.2359646592478713, (2, 1, 3, 0): -0.2300305183599774}  samples= None\n",
      "E=-1.93761168  angles= {(3, 1, 2, 0): -0.23631614790493116, (3, 0, 3, 0): -0.11255542662409998, (2, 0, 3, 1): -0.23222722992865386, (2, 1, 2, 1): -0.45759357891653557, (3, 1, 3, 1): -0.1895594036019585, (3, 0, 2, 1): -0.20957037265993628, (2, 0, 2, 0): -0.1868159532268097, (2, 1, 3, 0): -0.2049966323519755}  samples= None\n",
      "E=-1.94772411  angles= {(3, 1, 2, 0): -0.23919228734243203, (3, 0, 3, 0): -0.15467097241645134, (2, 0, 3, 1): -0.23819142359988207, (2, 1, 2, 1): -0.5700298571495812, (3, 1, 3, 1): -0.08782842561215495, (3, 0, 2, 1): -0.17609392062718043, (2, 0, 2, 0): -0.08275346630883829, (2, 1, 3, 0): -0.17418041639109813}  samples= None\n",
      "E=-1.95065212  angles= {(3, 1, 2, 0): -0.23282225537504558, (3, 0, 3, 0): -0.14382806431770626, (2, 0, 3, 1): -0.23134780593488768, (2, 1, 2, 1): -0.6524499433054977, (3, 1, 3, 1): -0.059665021241479446, (3, 0, 2, 1): -0.16342205335101112, (2, 0, 2, 0): -0.056755776042658086, (2, 1, 3, 0): -0.16040972482824123}  samples= None\n",
      "E=-1.95110831  angles= {(3, 1, 2, 0): -0.2372450766219998, (3, 0, 3, 0): -0.11958886814489893, (2, 0, 3, 1): -0.23388501903014275, (2, 1, 2, 1): -0.6649357897861723, (3, 1, 3, 1): -0.0453746279336269, (3, 0, 2, 1): -0.17063617413152388, (2, 0, 2, 0): -0.04610564283037418, (2, 1, 3, 0): -0.16500311155759942}  samples= None\n",
      "E=-1.95118571  angles= {(3, 1, 2, 0): -0.23800119730318073, (3, 0, 3, 0): -0.12705217706427893, (2, 0, 3, 1): -0.23381212829644057, (2, 1, 2, 1): -0.6714643885868825, (3, 1, 3, 1): -0.04729985607721233, (3, 0, 2, 1): -0.1709348489927596, (2, 0, 2, 0): -0.0468580425044987, (2, 1, 3, 0): -0.16430570703499436}  samples= None\n",
      "E=-1.95118859  angles= {(3, 1, 2, 0): -0.23778842159638441, (3, 0, 3, 0): -0.12685492617182847, (2, 0, 3, 1): -0.2327108808995517, (2, 1, 2, 1): -0.668900708432699, (3, 1, 3, 1): -0.048690090778286337, (3, 0, 2, 1): -0.17123092619972016, (2, 0, 2, 0): -0.04784980561573943, (2, 1, 3, 0): -0.1634932239455811}  samples= None\n",
      "E=-1.95119024  angles= {(3, 1, 2, 0): -0.238376449187641, (3, 0, 3, 0): -0.12685629341908122, (2, 0, 3, 1): -0.2318848415600486, (2, 1, 2, 1): -0.6683443726325188, (3, 1, 3, 1): -0.04879299607915962, (3, 0, 2, 1): -0.17211271713636297, (2, 0, 2, 0): -0.04788488333795322, (2, 1, 3, 0): -0.16259866869375209}  samples= None\n",
      "E=-1.95119341  angles= {(3, 1, 2, 0): -0.23968886390891161, (3, 0, 3, 0): -0.12687878126644583, (2, 0, 3, 1): -0.23029567623053784, (2, 1, 2, 1): -0.6678282794445145, (3, 1, 3, 1): -0.04889311717502373, (3, 0, 2, 1): -0.17389199633926272, (2, 0, 2, 0): -0.047903393883564585, (2, 1, 3, 0): -0.16073632242377647}  samples= None\n",
      "E=-1.95120317  angles= {(3, 1, 2, 0): -0.2449385227939941, (3, 0, 3, 0): -0.12696873265590433, (2, 0, 3, 1): -0.22393901491249488, (2, 1, 2, 1): -0.6657639066924974, (3, 1, 3, 1): -0.04929360155848017, (3, 0, 2, 1): -0.18100911315086177, (2, 0, 2, 0): -0.04797743606601006, (2, 1, 3, 0): -0.15328693734387408}  samples= None\n",
      "E=-1.95122477  angles= {(3, 1, 2, 0): -0.2586335178763863, (3, 0, 3, 0): -0.1271564795721844, (2, 0, 3, 1): -0.20879918099850797, (2, 1, 2, 1): -0.6631470295413394, (3, 1, 3, 1): -0.04972731826279019, (3, 0, 2, 1): -0.1985226173230388, (2, 0, 2, 0): -0.04797425142263507, (2, 1, 3, 0): -0.13467618962413896}  samples= None\n",
      "E=-1.95126093  angles= {(3, 1, 2, 0): -0.2835405638554542, (3, 0, 3, 0): -0.12738109553097185, (2, 0, 3, 1): -0.18262902482286877, (2, 1, 2, 1): -0.6606673130835974, (3, 1, 3, 1): -0.05004022113249763, (3, 0, 2, 1): -0.22942487040463178, (2, 0, 2, 0): -0.047860529741525625, (2, 1, 3, 0): -0.10168447715254461}  samples= None\n",
      "E=-1.95131263  angles= {(3, 1, 2, 0): -0.32685640984966413, (3, 0, 3, 0): -0.12762300826127013, (2, 0, 3, 1): -0.13919569236776924, (2, 1, 2, 1): -0.6591666071260438, (3, 1, 3, 1): -0.04994031093582107, (3, 0, 2, 1): -0.2819861987364699, (2, 0, 2, 0): -0.047485265374333535, (2, 1, 3, 0): -0.04582458553401925}  samples= None\n",
      "E=-1.95136032  angles= {(3, 1, 2, 0): -0.3623677011575087, (3, 0, 3, 0): -0.12759089024328554, (2, 0, 3, 1): -0.10703561359654606, (2, 1, 2, 1): -0.661903922591017, (3, 1, 3, 1): -0.048956419626223054, (3, 0, 2, 1): -0.3235045243048328, (2, 0, 2, 0): -0.046920364333569685, (2, 1, 3, 0): -0.0027994431742362005}  samples= None\n",
      "E=-1.95139839  angles= {(3, 1, 2, 0): -0.37497710595737943, (3, 0, 3, 0): -0.1272412234172018, (2, 0, 3, 1): -0.09977446634133624, (2, 1, 2, 1): -0.6682844016163941, (3, 1, 3, 1): -0.04772957750835103, (3, 0, 2, 1): -0.33603697268989413, (2, 0, 2, 0): -0.046659187794520475, (2, 1, 3, 0): 0.009146338065928676}  samples= None\n",
      "E=-1.95140358  angles= {(3, 1, 2, 0): -0.3694951156088176, (3, 0, 3, 0): -0.12708580147634146, (2, 0, 3, 1): -0.10612573424071789, (2, 1, 2, 1): -0.6705635273295066, (3, 1, 3, 1): -0.04763787998186347, (3, 0, 2, 1): -0.3280723154016191, (2, 0, 2, 0): -0.046899721234160495, (2, 1, 3, 0): 0.0013761719338480152}  samples= None\n",
      "E=-1.95140382  angles= {(3, 1, 2, 0): -0.36937967044881853, (3, 0, 3, 0): -0.1270781717013275, (2, 0, 3, 1): -0.10606679012482531, (2, 1, 2, 1): -0.6706698115670132, (3, 1, 3, 1): -0.04758404604205622, (3, 0, 2, 1): -0.32736704486261353, (2, 0, 2, 0): -0.04688770364091082, (2, 1, 3, 0): 0.0010366831958293424}  samples= None\n",
      "E=-1.95140420  angles= {(3, 1, 2, 0): -0.3693518971300903, (3, 0, 3, 0): -0.12706099393175657, (2, 0, 3, 1): -0.10591139659197554, (2, 1, 2, 1): -0.6707536022054474, (3, 1, 3, 1): -0.04749472502535161, (3, 0, 2, 1): -0.325967707079998, (2, 0, 2, 0): -0.04685236767036665, (2, 1, 3, 0): -2.0943293084611098e-05}  samples= None\n",
      "E=-1.95140487  angles= {(3, 1, 2, 0): -0.3700578017747706, (3, 0, 3, 0): -0.1270454866380396, (2, 0, 3, 1): -0.1050353057321078, (2, 1, 2, 1): -0.6708376962866455, (3, 1, 3, 1): -0.04740464702452958, (3, 0, 2, 1): -0.3241484689578883, (2, 0, 2, 0): -0.046816069052693025, (2, 1, 3, 0): -0.0014802644561941675}  samples= None\n",
      "E=-1.95140612  angles= {(3, 1, 2, 0): -0.37196549069570234, (3, 0, 3, 0): -0.12702844581841183, (2, 0, 3, 1): -0.10296543667061137, (2, 1, 2, 1): -0.670940849509649, (3, 1, 3, 1): -0.047296167386674026, (3, 0, 2, 1): -0.3214315020412858, (2, 0, 2, 0): -0.046770596320974196, (2, 1, 3, 0): -0.003763451163281366}  samples= None\n",
      "E=-1.95140846  angles= {(3, 1, 2, 0): -0.37608381046495276, (3, 0, 3, 0): -0.12700704722824668, (2, 0, 3, 1): -0.09868999903927805, (2, 1, 2, 1): -0.6710818828239413, (3, 1, 3, 1): -0.04715081791971448, (3, 0, 2, 1): -0.31688837258203206, (2, 0, 2, 0): -0.046707567141602326, (2, 1, 3, 0): -0.0077242826828331996}  samples= None\n"
     ]
    },
    {
     "name": "stdout",
     "output_type": "stream",
     "text": [
      "E=-1.95141279  angles= {(3, 1, 2, 0): -0.38455182486878614, (3, 0, 3, 0): -0.1269786287923016, (2, 0, 3, 1): -0.0900906141612565, (2, 1, 2, 1): -0.6712876460374243, (3, 1, 3, 1): -0.046943790301748764, (3, 0, 2, 1): -0.30887283601441906, (2, 0, 2, 0): -0.04661573163480531, (2, 1, 3, 0): -0.014899587073343485}  samples= None\n",
      "E=-1.95142059  angles= {(3, 1, 2, 0): -0.40166294589413054, (3, 0, 3, 0): -0.12693943114466633, (2, 0, 3, 1): -0.07294607768726917, (2, 1, 2, 1): -0.6716044245087619, (3, 1, 3, 1): -0.04663338593309007, (3, 0, 2, 1): -0.29430447309777497, (2, 0, 2, 0): -0.04647242635388251, (2, 1, 3, 0): -0.028208570067069366}  samples= None\n",
      "E=-1.95143374  angles= {(3, 1, 2, 0): -0.43560320013739745, (3, 0, 3, 0): -0.12688449943590868, (2, 0, 3, 1): -0.03925662633829094, (2, 1, 2, 1): -0.6721000195247547, (3, 1, 3, 1): -0.046164022379999496, (3, 0, 2, 1): -0.26710812617613783, (2, 0, 2, 0): -0.04624629487840726, (2, 1, 3, 0): -0.05354534377440031}  samples= None\n",
      "E=-1.95145215  angles= {(3, 1, 2, 0): -0.49998244313776324, (3, 0, 3, 0): -0.1268086562602214, (2, 0, 3, 1): 0.02414208681196363, (2, 1, 2, 1): -0.6728344276807884, (3, 1, 3, 1): -0.045502375931365024, (3, 0, 2, 1): -0.21607352543675393, (2, 0, 2, 0): -0.04590837904097056, (2, 1, 3, 0): -0.10223878702269223}  samples= None\n",
      "E=-1.95147024  angles= {(3, 1, 2, 0): -0.5496210460317954, (3, 0, 3, 0): -0.12676089175684807, (2, 0, 3, 1): 0.0725220480472203, (2, 1, 2, 1): -0.6731656122982596, (3, 1, 3, 1): -0.045254199141806596, (3, 0, 2, 1): -0.17268347597513853, (2, 0, 2, 0): -0.04576025316059161, (2, 1, 3, 0): -0.1455649348298142}  samples= None\n",
      "E=-1.95150046  angles= {(3, 1, 2, 0): -0.6057089105864465, (3, 0, 3, 0): -0.1267835319143141, (2, 0, 3, 1): 0.12678539004634876, (2, 1, 2, 1): -0.6730983995693296, (3, 1, 3, 1): -0.04542249982168096, (3, 0, 2, 1): -0.12449212335222351, (2, 0, 2, 0): -0.045796108908808114, (2, 1, 3, 0): -0.19568869761711877}  samples= None\n",
      "E=-1.95154339  angles= {(3, 1, 2, 0): -0.6829619022835365, (3, 0, 3, 0): -0.12702339945091976, (2, 0, 3, 1): 0.2006997275817054, (2, 1, 2, 1): -0.6723193275923156, (3, 1, 3, 1): -0.04623697887201941, (3, 0, 2, 1): -0.06251751084428686, (2, 0, 2, 0): -0.04606751585381012, (2, 1, 3, 0): -0.26326067094196515}  samples= None\n",
      "E=-1.95155981  angles= {(3, 1, 2, 0): -0.7535318267151196, (3, 0, 3, 0): -0.12725566921448947, (2, 0, 3, 1): 0.2681178562665004, (2, 1, 2, 1): -0.6717626307756857, (3, 1, 3, 1): -0.04682039717420139, (3, 0, 2, 1): -0.02506727497914779, (2, 0, 2, 0): -0.046242500413934844, (2, 1, 3, 0): -0.3049584580083856}  samples= None\n",
      "E=-1.95156056  angles= {(3, 1, 2, 0): -0.7896563594872917, (3, 0, 3, 0): -0.12733338317841267, (2, 0, 3, 1): 0.30061623877044613, (2, 1, 2, 1): -0.6716636874363362, (3, 1, 3, 1): -0.046817512978380875, (3, 0, 2, 1): 0.012447472494680756, (2, 0, 2, 0): -0.046120561803443656, (2, 1, 3, 0): -0.34843731520231447}  samples= None\n",
      "E=-1.95156375  angles= {(3, 1, 2, 0): -0.7725244104777205, (3, 0, 3, 0): -0.12729652756907758, (2, 0, 3, 1): 0.28520398041786105, (2, 1, 2, 1): -0.6717106110119367, (3, 1, 3, 1): -0.046818880799413806, (3, 0, 2, 1): -0.005343781578608452, (2, 0, 2, 0): -0.0461783908159435, (2, 1, 3, 0): -0.32781760036368746}  samples= None\n",
      "E=-1.95156564  angles= {(3, 1, 2, 0): -0.801212937941415, (3, 0, 3, 0): -0.127237212937392, (2, 0, 3, 1): 0.3122350466393678, (2, 1, 2, 1): -0.67185503358175, (3, 1, 3, 1): -0.046764881887927635, (3, 0, 2, 1): 0.005477645624507234, (2, 0, 2, 0): -0.04616570552348889, (2, 1, 3, 0): -0.3404239157489649}  samples= None\n",
      "E=-1.95156571  angles= {(3, 1, 2, 0): -0.8032953781889862, (3, 0, 3, 0): -0.1272137998330515, (2, 0, 3, 1): 0.3139113687144638, (2, 1, 2, 1): -0.6718594732805, (3, 1, 3, 1): -0.04678148713756372, (3, 0, 2, 1): 0.003069275762461361, (2, 0, 2, 0): -0.0461999285003751, (2, 1, 3, 0): -0.33869902191326456}  samples= None\n",
      "E=-1.95156580  angles= {(3, 1, 2, 0): -0.8064213211556971, (3, 0, 3, 0): -0.1272329041064323, (2, 0, 3, 1): 0.3167883842011462, (2, 1, 2, 1): -0.6718538821460851, (3, 1, 3, 1): -0.04677725381317962, (3, 0, 2, 1): 0.005215208622200892, (2, 0, 2, 0): -0.04618678267403395, (2, 1, 3, 0): -0.3410228181792166}  samples= None\n",
      "E=-1.95156583  angles= {(3, 1, 2, 0): -0.8065954027154932, (3, 0, 3, 0): -0.12724076099913148, (2, 0, 3, 1): 0.31682371986940583, (2, 1, 2, 1): -0.6718449886908058, (3, 1, 3, 1): -0.046782886737504706, (3, 0, 2, 1): 0.0051808866347531676, (2, 0, 2, 0): -0.04618317340702827, (2, 1, 3, 0): -0.34100679950602253}  samples= None\n",
      "E=-1.95156584  angles= {(3, 1, 2, 0): -0.8058857844549558, (3, 0, 3, 0): -0.12724137235652147, (2, 0, 3, 1): 0.3160299174958325, (2, 1, 2, 1): -0.6718381955321667, (3, 1, 3, 1): -0.046790143443430604, (3, 0, 2, 1): 0.004052879581021739, (2, 0, 2, 0): -0.04618647379089483, (2, 1, 3, 0): -0.33987162081473626}  samples= None\n",
      "E=-1.95156585  angles= {(3, 1, 2, 0): -0.8048147679054939, (3, 0, 3, 0): -0.12723776163195663, (2, 0, 3, 1): 0.3148559498473522, (2, 1, 2, 1): -0.6718310870152929, (3, 1, 3, 1): -0.04680052658548645, (3, 0, 2, 1): 0.002303662568221477, (2, 0, 2, 0): -0.046195301382372295, (2, 1, 3, 0): -0.3381252177465156}  samples= None\n",
      "E=-1.95156585  angles= {(3, 1, 2, 0): -0.8043594297754364, (3, 0, 3, 0): -0.12723618149158178, (2, 0, 3, 1): 0.314400068369076, (2, 1, 2, 1): -0.671829366841222, (3, 1, 3, 1): -0.04680269244173609, (3, 0, 2, 1): 0.0018082307954701616, (2, 0, 2, 0): -0.04619777306882281, (2, 1, 3, 0): -0.33761437008335754}  samples= None\n",
      "E=-1.95156585  angles= {(3, 1, 2, 0): -0.8044504701958218, (3, 0, 3, 0): -0.12723586898497338, (2, 0, 3, 1): 0.3144922672444018, (2, 1, 2, 1): -0.6718296070241401, (3, 1, 3, 1): -0.04680272143516916, (3, 0, 2, 1): 0.0018884250969196065, (2, 0, 2, 0): -0.04619785745489342, (2, 1, 3, 0): -0.33769995549220544}  samples= None\n",
      "E=-1.95156585  angles= {(3, 1, 2, 0): -0.8043785187876559, (3, 0, 3, 0): -0.12723611596637396, (2, 0, 3, 1): 0.3144194002817612, (2, 1, 2, 1): -0.671829417201871, (3, 1, 3, 1): -0.04680269852096986, (3, 0, 2, 1): 0.0018250456343495921, (2, 0, 2, 0): -0.04619779076257605, (2, 1, 3, 0): -0.3376323153093174}  samples= None\n",
      "E=-1.95156585  angles= {(3, 1, 2, 0): -0.8043806234450278, (3, 0, 3, 0): -0.1272357673292715, (2, 0, 3, 1): 0.3144259711796185, (2, 1, 2, 1): -0.6718299494368092, (3, 1, 3, 1): -0.046802656465817064, (3, 0, 2, 1): 0.0018446430981406132, (2, 0, 2, 0): -0.04619786518879817, (2, 1, 3, 0): -0.33765142972392}  samples= None\n",
      "E=-1.95156585  angles= {(3, 1, 2, 0): -0.8043785918355629, (3, 0, 3, 0): -0.12723610386596704, (2, 0, 3, 1): 0.31441962834279497, (2, 1, 2, 1): -0.6718294356745443, (3, 1, 3, 1): -0.04680269706133043, (3, 0, 2, 1): 0.0018257258180853849, (2, 0, 2, 0): -0.04619779334574224, (2, 1, 3, 0): -0.33763297872750614}  samples= None\n",
      "E=-1.95156585  angles= {(3, 1, 2, 0): -0.804378518996985, (3, 0, 3, 0): -0.12723611593169853, (2, 0, 3, 1): 0.31441940093530246, (2, 1, 2, 1): -0.671829417254807, (3, 1, 3, 1): -0.046802698516787054, (3, 0, 2, 1): 0.0018250475835127297, (2, 0, 2, 0): -0.046197790769978486, (2, 1, 3, 0): -0.3376323172104365}  samples= None\n",
      "E=-1.95156585  angles= {(3, 1, 2, 0): -0.8043785191511718, (3, 0, 3, 0): -0.12723611590615744, (2, 0, 3, 1): 0.31441940141668506, (2, 1, 2, 1): -0.6718294172937984, (3, 1, 3, 1): -0.0468026985137061, (3, 0, 2, 1): 0.0018250490192187785, (2, 0, 2, 0): -0.04619779077543093, (2, 1, 3, 0): -0.3376323186107545}  samples= None\n",
      "E=-1.95156585  angles= {(3, 1, 2, 0): -0.8043785554933673, (3, 0, 3, 0): -0.12723610988606224, (2, 0, 3, 1): 0.31441951487974, (2, 1, 2, 1): -0.6718294264841714, (3, 1, 3, 1): -0.04680269778751827, (3, 0, 2, 1): 0.0018253874186520817, (2, 0, 2, 0): -0.046197792060586586, (2, 1, 3, 0): -0.3376326486691303}  samples= None\n",
      "E=-1.95156585  angles= {(3, 1, 2, 0): -0.8043785191655116, (3, 0, 3, 0): -0.12723611590378206, (2, 0, 3, 1): 0.314419401461455, (2, 1, 2, 1): -0.6718294172974247, (3, 1, 3, 1): -0.04680269851341957, (3, 0, 2, 1): 0.0018250491527433779, (2, 0, 2, 0): -0.046197790775938025, (2, 1, 3, 0): -0.33763231874098787}  samples= None\n",
      "E=-1.95156585  angles= {(3, 1, 2, 0): -0.804378519179754, (3, 0, 3, 0): -0.12723611590142278, (2, 0, 3, 1): 0.31441940150592096, (2, 1, 2, 1): -0.6718294173010264, (3, 1, 3, 1): -0.046802698513134976, (3, 0, 2, 1): 0.0018250492853616276, (2, 0, 2, 0): -0.04619779077644168, (2, 1, 3, 0): -0.3376323188703373}  samples= None\n"
     ]
    },
    {
     "name": "stdout",
     "output_type": "stream",
     "text": [
      "E=-1.95156585  angles= {(3, 1, 2, 0): -0.8043785373365607, (3, 0, 3, 0): -0.1272361128937425, (2, 0, 3, 1): 0.3144194581928305, (2, 1, 2, 1): -0.671829421892599, (3, 1, 3, 1): -0.04680269815032662, (3, 0, 2, 1): 0.0018252183520068546, (2, 0, 2, 0): -0.04619779141851413, (2, 1, 3, 0): -0.3376324837697338}  samples= None\n",
      "E=-1.95156585  angles= {(3, 1, 2, 0): -0.8043785191867971, (3, 0, 3, 0): -0.1272361159002561, (2, 0, 3, 1): 0.3144194015279102, (2, 1, 2, 1): -0.6718294173028075, (3, 1, 3, 1): -0.04680269851299424, (3, 0, 2, 1): 0.0018250493509437307, (2, 0, 2, 0): -0.04619779077669074, (2, 1, 3, 0): -0.3376323189343029}  samples= None\n",
      "E=-1.95156585  angles= {(3, 1, 2, 0): -0.8043785191937527, (3, 0, 3, 0): -0.1272361158991039, (2, 0, 3, 1): 0.3144194015496257, (2, 1, 2, 1): -0.6718294173045665, (3, 1, 3, 1): -0.046802698512855255, (3, 0, 2, 1): 0.0018250494157095063, (2, 0, 2, 0): -0.046197790776936705, (2, 1, 3, 0): -0.33763231899747226}  samples= None\n",
      "E=-1.95156585  angles= {(3, 1, 2, 0): -0.8043785282651567, (3, 0, 3, 0): -0.1272361143964232, (2, 0, 3, 1): 0.3144194298712281, (2, 1, 2, 1): -0.6718294195985827, (3, 1, 3, 1): -0.04680269833159094, (3, 0, 2, 1): 0.0018251338838581805, (2, 0, 2, 0): -0.04619779109772542, (2, 1, 3, 0): -0.337632401383603}  samples= None\n",
      "E=-1.95156585  angles= {(3, 1, 2, 0): -0.8043785191972626, (3, 0, 3, 0): -0.1272361158985225, (2, 0, 3, 1): 0.31441940156058384, (2, 1, 2, 1): -0.6718294173054541, (3, 1, 3, 1): -0.046802698512785124, (3, 0, 2, 1): 0.0018250494483916446, (2, 0, 2, 0): -0.04619779077706082, (2, 1, 3, 0): -0.33763231902934887}  samples= None\n",
      "E=-1.95156585  angles= {(3, 1, 2, 0): -0.8043785192007697, (3, 0, 3, 0): -0.12723611589794154, (2, 0, 3, 1): 0.3144194015715335, (2, 1, 2, 1): -0.6718294173063409, (3, 1, 3, 1): -0.04680269851271504, (3, 0, 2, 1): 0.0018250494810485214, (2, 0, 2, 0): -0.04619779077718485, (2, 1, 3, 0): -0.3376323190612008}  samples= None\n",
      "E=-1.95156585  angles= {(3, 1, 2, 0): -0.8043785237329631, (3, 0, 3, 0): -0.1272361151471824, (2, 0, 3, 1): 0.3144194157213808, (2, 1, 2, 1): -0.6718294184524618, (3, 1, 3, 1): -0.04680269842215299, (3, 0, 2, 1): 0.001825091682453351, (2, 0, 2, 0): -0.04619779093745513, (2, 1, 3, 0): -0.3376323602224019}  samples= None\n",
      "E=-1.95156585  angles= {(3, 1, 2, 0): -0.8043785192010153, (3, 0, 3, 0): -0.12723611589790085, (2, 0, 3, 1): 0.31441940157230047, (2, 1, 2, 1): -0.6718294173064031, (3, 1, 3, 1): -0.046802698512710135, (3, 0, 2, 1): 0.0018250494833360739, (2, 0, 2, 0): -0.046197790777193534, (2, 1, 3, 0): -0.33763231906343194}  samples= None\n",
      "E=-1.95156585  angles= {(3, 1, 2, 0): -0.804378519201261, (3, 0, 3, 0): -0.12723611589786016, (2, 0, 3, 1): 0.3144194015730674, (2, 1, 2, 1): -0.6718294173064652, (3, 1, 3, 1): -0.04680269851270522, (3, 0, 2, 1): 0.0018250494856233786, (2, 0, 2, 0): -0.04619779077720222, (2, 1, 3, 0): -0.3376323190656629}  samples= None\n",
      "E=-1.95156585  angles= {(3, 1, 2, 0): -0.8043785214671121, (3, 0, 3, 0): -0.12723611552252126, (2, 0, 3, 1): 0.3144194086472241, (2, 1, 2, 1): -0.6718294178794635, (3, 1, 3, 1): -0.046802698467429106, (3, 0, 2, 1): 0.0018250705840383648, (2, 0, 2, 0): -0.046197790857328676, (2, 1, 3, 0): -0.3376323396440324}  samples= None\n",
      "E=-1.95156585  angles= {(3, 1, 2, 0): -0.8043785192013839, (3, 0, 3, 0): -0.1272361158978398, (2, 0, 3, 1): 0.314419401573451, (2, 1, 2, 1): -0.6718294173064963, (3, 1, 3, 1): -0.04680269851270277, (3, 0, 2, 1): 0.001825049486767376, (2, 0, 2, 0): -0.046197790777206565, (2, 1, 3, 0): -0.33763231906677865}  samples= None\n",
      "E=-1.95156585  angles= {(3, 1, 2, 0): -0.8043785192015067, (3, 0, 3, 0): -0.12723611589781944, (2, 0, 3, 1): 0.3144194015738345, (2, 1, 2, 1): -0.6718294173065273, (3, 1, 3, 1): -0.046802698512700316, (3, 0, 2, 1): 0.0018250494879112492, (2, 0, 2, 0): -0.04619779077721091, (2, 1, 3, 0): -0.33763231906789437}  samples= None\n",
      "E=-1.95156585  angles= {(3, 1, 2, 0): -0.8043785203343095, (3, 0, 3, 0): -0.12723611571017035, (2, 0, 3, 1): 0.3144194051105293, (2, 1, 2, 1): -0.6718294175929954, (3, 1, 3, 1): -0.046802698490064715, (3, 0, 2, 1): 0.001825060035974807, (2, 0, 2, 0): -0.04619779081726979, (2, 1, 3, 0): -0.3376323293559634}  samples= None\n",
      "E=-1.95156585  angles= {(3, 1, 2, 0): -0.8043785192015206, (3, 0, 3, 0): -0.12723611589781716, (2, 0, 3, 1): 0.3144194015738778, (2, 1, 2, 1): -0.6718294173065309, (3, 1, 3, 1): -0.04680269851270004, (3, 0, 2, 1): 0.0018250494880404247, (2, 0, 2, 0): -0.0461977907772114, (2, 1, 3, 0): -0.3376323190680203}  samples= None\n",
      "E=-1.95156585  angles= {(3, 1, 2, 0): -0.8043785192015345, (3, 0, 3, 0): -0.12723611589781486, (2, 0, 3, 1): 0.3144194015739211, (2, 1, 2, 1): -0.6718294173065343, (3, 1, 3, 1): -0.04680269851269976, (3, 0, 2, 1): 0.001825049488169597, (2, 0, 2, 0): -0.04619779077721189, (2, 1, 3, 0): -0.33763231906814634}  samples= None\n",
      "E=-1.95156585  angles= {(3, 1, 2, 0): -0.804378519767922, (3, 0, 3, 0): -0.1272361158039926, (2, 0, 3, 1): 0.31441940334222523, (2, 1, 2, 1): -0.6718294174497649, (3, 1, 3, 1): -0.04680269850138224, (3, 0, 2, 1): 0.001825054762072202, (2, 0, 2, 0): -0.04619779079724084, (2, 1, 3, 0): -0.33763232421205486}  samples= None\n",
      "E=-1.95156585  angles= {(3, 1, 2, 0): -0.8043785192015371, (3, 0, 3, 0): -0.12723611589781442, (2, 0, 3, 1): 0.3144194015739296, (2, 1, 2, 1): -0.6718294173065351, (3, 1, 3, 1): -0.046802698512699706, (3, 0, 2, 1): 0.0018250494881949745, (2, 0, 2, 0): -0.046197790777211985, (2, 1, 3, 0): -0.3376323190681711}  samples= None\n",
      "E=-1.95156585  angles= {(3, 1, 2, 0): -0.8043785192015399, (3, 0, 3, 0): -0.12723611589781395, (2, 0, 3, 1): 0.31441940157393816, (2, 1, 2, 1): -0.6718294173065358, (3, 1, 3, 1): -0.04680269851269965, (3, 0, 2, 1): 0.0018250494882203518, (2, 0, 2, 0): -0.04619779077721208, (2, 1, 3, 0): -0.33763231906819585}  samples= None\n",
      "E=-1.95156585  angles= {(3, 1, 2, 0): -0.8043785194847309, (3, 0, 3, 0): -0.12723611585090328, (2, 0, 3, 1): 0.3144194024580817, (2, 1, 2, 1): -0.6718294173781504, (3, 1, 3, 1): -0.04680269850704095, (3, 0, 2, 1): 0.0018250521251462768, (2, 0, 2, 0): -0.04619779078722646, (2, 1, 3, 0): -0.33763232164012535}  samples= None\n",
      "E=-1.95156585  angles= {(3, 1, 2, 0): -0.8043785192015406, (3, 0, 3, 0): -0.12723611589781386, (2, 0, 3, 1): 0.31441940157394005, (2, 1, 2, 1): -0.6718294173065359, (3, 1, 3, 1): -0.046802698512699636, (3, 0, 2, 1): 0.0018250494882260729, (2, 0, 2, 0): -0.0461977907772121, (2, 1, 3, 0): -0.3376323190682014}  samples= None\n",
      "E=-1.95156585  angles= {(3, 1, 2, 0): -0.8043785192015411, (3, 0, 3, 0): -0.12723611589781375, (2, 0, 3, 1): 0.314419401573942, (2, 1, 2, 1): -0.6718294173065361, (3, 1, 3, 1): -0.04680269851269963, (3, 0, 2, 1): 0.0018250494882317942, (2, 0, 2, 0): -0.046197790777212124, (2, 1, 3, 0): -0.337632319068207}  samples= None\n",
      "E=-1.95156585  angles= {(3, 1, 2, 0): -0.804378519343136, (3, 0, 3, 0): -0.1272361158743585, (2, 0, 3, 1): 0.3144194020160118, (2, 1, 2, 1): -0.6718294173423432, (3, 1, 3, 1): -0.04680269850987029, (3, 0, 2, 1): 0.0018250508066890354, (2, 0, 2, 0): -0.04619779078221929, (2, 1, 3, 0): -0.3376323203541662}  samples= None\n",
      "E=-1.95156585  angles= {(3, 1, 2, 0): -0.8043785192015412, (3, 0, 3, 0): -0.12723611589781372, (2, 0, 3, 1): 0.31441940157394244, (2, 1, 2, 1): -0.6718294173065361, (3, 1, 3, 1): -0.04680269851269962, (3, 0, 2, 1): 0.0018250494882331603, (2, 0, 2, 0): -0.04619779077721213, (2, 1, 3, 0): -0.33763231906820834}  samples= None\n",
      "E=-1.95156585  angles= {(3, 1, 2, 0): -0.8043785192015415, (3, 0, 3, 0): -0.1272361158978137, (2, 0, 3, 1): 0.3144194015739429, (2, 1, 2, 1): -0.6718294173065361, (3, 1, 3, 1): -0.04680269851269962, (3, 0, 2, 1): 0.0018250494882345264, (2, 0, 2, 0): -0.04619779077721214, (2, 1, 3, 0): -0.3376323190682097}  samples= None\n",
      "E=-1.95156585  angles= {(3, 1, 2, 0): -0.8043785192723387, (3, 0, 3, 0): -0.1272361158860861, (2, 0, 3, 1): 0.31441940179497735, (2, 1, 2, 1): -0.6718294173244397, (3, 1, 3, 1): -0.046802698511284956, (3, 0, 2, 1): 0.001825050147461781, (2, 0, 2, 0): -0.04619779077971572, (2, 1, 3, 0): -0.3376323197111879}  samples= None\n",
      "E=-1.95156585  angles= {(3, 1, 2, 0): -0.8043785192015415, (3, 0, 3, 0): -0.1272361158978137, (2, 0, 3, 1): 0.314419401573943, (2, 1, 2, 1): -0.6718294173065361, (3, 1, 3, 1): -0.04680269851269962, (3, 0, 2, 1): 0.0018250494882348597, (2, 0, 2, 0): -0.04619779077721214, (2, 1, 3, 0): -0.33763231906821}  samples= None\n"
     ]
    },
    {
     "name": "stdout",
     "output_type": "stream",
     "text": [
      "E=-1.95156585  angles= {(3, 1, 2, 0): -0.8043785192015415, (3, 0, 3, 0): -0.1272361158978137, (2, 0, 3, 1): 0.3144194015739431, (2, 1, 2, 1): -0.6718294173065361, (3, 1, 3, 1): -0.04680269851269962, (3, 0, 2, 1): 0.001825049488235193, (2, 0, 2, 0): -0.04619779077721214, (2, 1, 3, 0): -0.3376323190682103}  samples= None\n",
      "E=-1.95156585  angles= {(3, 1, 2, 0): -0.8043785192369401, (3, 0, 3, 0): -0.12723611589194989, (2, 0, 3, 1): 0.31441940168446025, (2, 1, 2, 1): -0.671829417315488, (3, 1, 3, 1): -0.046802698511992286, (3, 0, 2, 1): 0.0018250498178484869, (2, 0, 2, 0): -0.04619779077846393, (2, 1, 3, 0): -0.3376323193896991}  samples= None\n",
      "E=-1.95156585  angles= {(3, 1, 2, 0): -0.8043785192015415, (3, 0, 3, 0): -0.1272361158978137, (2, 0, 3, 1): 0.31441940157394316, (2, 1, 2, 1): -0.6718294173065361, (3, 1, 3, 1): -0.04680269851269962, (3, 0, 2, 1): 0.0018250494882352758, (2, 0, 2, 0): -0.04619779077721214, (2, 1, 3, 0): -0.3376323190682104}  samples= None\n",
      "E=-1.95156585  angles= {(3, 1, 2, 0): -0.8043785192015416, (3, 0, 3, 0): -0.1272361158978137, (2, 0, 3, 1): 0.31441940157394316, (2, 1, 2, 1): -0.6718294173065361, (3, 1, 3, 1): -0.04680269851269962, (3, 0, 2, 1): 0.0018250494882353584, (2, 0, 2, 0): -0.04619779077721214, (2, 1, 3, 0): -0.33763231906821045}  samples= None\n",
      "E=-1.95156585  angles= {(3, 1, 2, 0): -0.8043785192192409, (3, 0, 3, 0): -0.1272361158948818, (2, 0, 3, 1): 0.31441940162920173, (2, 1, 2, 1): -0.6718294173110121, (3, 1, 3, 1): -0.046802698512345954, (3, 0, 2, 1): 0.0018250496530419227, (2, 0, 2, 0): -0.04619779077783803, (2, 1, 3, 0): -0.3376323192289548}  samples= None\n",
      "E=-1.95156585  angles= {(3, 1, 2, 0): -0.8043785192015416, (3, 0, 3, 0): -0.1272361158978137, (2, 0, 3, 1): 0.31441940157394316, (2, 1, 2, 1): -0.6718294173065361, (3, 1, 3, 1): -0.04680269851269962, (3, 0, 2, 1): 0.001825049488235379, (2, 0, 2, 0): -0.04619779077721214, (2, 1, 3, 0): -0.3376323190682105}  samples= None\n",
      "E=-1.95156585  angles= {(3, 1, 2, 0): -0.8043785192015416, (3, 0, 3, 0): -0.1272361158978137, (2, 0, 3, 1): 0.3144194015739432, (2, 1, 2, 1): -0.6718294173065361, (3, 1, 3, 1): -0.04680269851269962, (3, 0, 2, 1): 0.0018250494882353994, (2, 0, 2, 0): -0.04619779077721214, (2, 1, 3, 0): -0.3376323190682105}  samples= None\n",
      "E=-1.95156585  angles= {(3, 1, 2, 0): -0.8043785192103912, (3, 0, 3, 0): -0.12723611589634773, (2, 0, 3, 1): 0.31441940160157245, (2, 1, 2, 1): -0.6718294173087741, (3, 1, 3, 1): -0.046802698512522785, (3, 0, 2, 1): 0.0018250495706386611, (2, 0, 2, 0): -0.04619779077752509, (2, 1, 3, 0): -0.33763231914858266}  samples= None\n",
      "E=-1.95156585  angles= {(3, 1, 2, 0): -0.8043785192103912, (3, 0, 3, 0): -0.12723611589634773, (2, 0, 3, 1): 0.31441940160157245, (2, 1, 2, 1): -0.6718294173087741, (3, 1, 3, 1): -0.046802698512522785, (3, 0, 2, 1): 0.0018250495706386661, (2, 0, 2, 0): -0.04619779077752509, (2, 1, 3, 0): -0.33763231914858266}  samples= None\n",
      "E=-1.95156585  angles= {(3, 1, 2, 0): -0.8043785192103912, (3, 0, 3, 0): -0.12723611589634773, (2, 0, 3, 1): 0.31441940160157245, (2, 1, 2, 1): -0.6718294173087741, (3, 1, 3, 1): -0.046802698512522785, (3, 0, 2, 1): 0.0018250495706386713, (2, 0, 2, 0): -0.04619779077752509, (2, 1, 3, 0): -0.33763231914858266}  samples= None\n",
      "E=-1.95156585  angles= {(3, 1, 2, 0): -0.804378519214816, (3, 0, 3, 0): -0.12723611589561476, (2, 0, 3, 1): 0.31441940161538706, (2, 1, 2, 1): -0.6718294173098931, (3, 1, 3, 1): -0.04680269851243437, (3, 0, 2, 1): 0.001825049611840297, (2, 0, 2, 0): -0.04619779077768156, (2, 1, 3, 0): -0.33763231918876874}  samples= None\n",
      "E=-1.95156585  angles= {(3, 1, 2, 0): -0.8043785192103912, (3, 0, 3, 0): -0.12723611589634773, (2, 0, 3, 1): 0.31441940160157245, (2, 1, 2, 1): -0.6718294173087741, (3, 1, 3, 1): -0.046802698512522785, (3, 0, 2, 1): 0.0018250495706386726, (2, 0, 2, 0): -0.04619779077752509, (2, 1, 3, 0): -0.33763231914858266}  samples= None\n",
      "E=-1.95156585  angles= {(3, 1, 2, 0): -0.8043785192103912, (3, 0, 3, 0): -0.12723611589634773, (2, 0, 3, 1): 0.31441940160157245, (2, 1, 2, 1): -0.6718294173087741, (3, 1, 3, 1): -0.046802698512522785, (3, 0, 2, 1): 0.001825049570638674, (2, 0, 2, 0): -0.04619779077752509, (2, 1, 3, 0): -0.33763231914858266}  samples= None\n",
      "E=-1.95156585  angles= {(3, 1, 2, 0): -0.8043785192126036, (3, 0, 3, 0): -0.12723611589598124, (2, 0, 3, 1): 0.31441940160847975, (2, 1, 2, 1): -0.6718294173093335, (3, 1, 3, 1): -0.04680269851247858, (3, 0, 2, 1): 0.0018250495912394854, (2, 0, 2, 0): -0.046197790777603324, (2, 1, 3, 0): -0.3376323191686757}  samples= None\n",
      "E=-1.95156585  angles= {(3, 1, 2, 0): -0.8043785192103912, (3, 0, 3, 0): -0.12723611589634773, (2, 0, 3, 1): 0.31441940160157245, (2, 1, 2, 1): -0.6718294173087741, (3, 1, 3, 1): -0.046802698512522785, (3, 0, 2, 1): 0.0018250495706386741, (2, 0, 2, 0): -0.04619779077752509, (2, 1, 3, 0): -0.33763231914858266}  samples= None\n",
      "E=-1.95156585  angles= {(3, 1, 2, 0): -0.8043785192103912, (3, 0, 3, 0): -0.12723611589634773, (2, 0, 3, 1): 0.31441940160157245, (2, 1, 2, 1): -0.6718294173087741, (3, 1, 3, 1): -0.046802698512522785, (3, 0, 2, 1): 0.0018250495706386746, (2, 0, 2, 0): -0.04619779077752509, (2, 1, 3, 0): -0.33763231914858266}  samples= None\n",
      "E=-1.95156585  angles= {(3, 1, 2, 0): -0.8043785192114974, (3, 0, 3, 0): -0.1272361158961645, (2, 0, 3, 1): 0.3144194016050261, (2, 1, 2, 1): -0.6718294173090539, (3, 1, 3, 1): -0.046802698512500684, (3, 0, 2, 1): 0.00182504958093908, (2, 0, 2, 0): -0.0461977907775642, (2, 1, 3, 0): -0.3376323191586292}  samples= None\n",
      "E=-1.95156585  angles= {(3, 1, 2, 0): -0.8043785192103912, (3, 0, 3, 0): -0.12723611589634773, (2, 0, 3, 1): 0.31441940160157245, (2, 1, 2, 1): -0.6718294173087741, (3, 1, 3, 1): -0.046802698512522785, (3, 0, 2, 1): 0.0018250495706386746, (2, 0, 2, 0): -0.04619779077752509, (2, 1, 3, 0): -0.33763231914858266}  samples= None\n",
      "E=-1.95156585  angles= {(3, 1, 2, 0): -0.8043785192103912, (3, 0, 3, 0): -0.12723611589634773, (2, 0, 3, 1): 0.31441940160157245, (2, 1, 2, 1): -0.6718294173087741, (3, 1, 3, 1): -0.046802698512522785, (3, 0, 2, 1): 0.0018250495706386748, (2, 0, 2, 0): -0.04619779077752509, (2, 1, 3, 0): -0.33763231914858266}  samples= None\n",
      "E=-1.95156585  angles= {(3, 1, 2, 0): -0.8043785192109443, (3, 0, 3, 0): -0.1272361158962561, (2, 0, 3, 1): 0.3144194016032993, (2, 1, 2, 1): -0.671829417308914, (3, 1, 3, 1): -0.04680269851251173, (3, 0, 2, 1): 0.0018250495757888773, (2, 0, 2, 0): -0.04619779077754464, (2, 1, 3, 0): -0.3376323191536059}  samples= None\n",
      "E=-1.95156585  angles= {(3, 1, 2, 0): -0.8043785192112208, (3, 0, 3, 0): -0.1272361158962103, (2, 0, 3, 1): 0.3144194016041627, (2, 1, 2, 1): -0.6718294173089839, (3, 1, 3, 1): -0.04680269851250621, (3, 0, 2, 1): 0.0018250495783639787, (2, 0, 2, 0): -0.046197790777554426, (2, 1, 3, 0): -0.3376323191561175}  samples= None\n",
      "E=-1.95156585  angles= {(3, 1, 2, 0): -0.8043785192109443, (3, 0, 3, 0): -0.1272361158962561, (2, 0, 3, 1): 0.3144194016032993, (2, 1, 2, 1): -0.671829417308914, (3, 1, 3, 1): -0.04680269851251173, (3, 0, 2, 1): 0.0018250495757888773, (2, 0, 2, 0): -0.04619779077754464, (2, 1, 3, 0): -0.3376323191536059}  samples= None\n",
      "E=-1.95156585  angles= {(3, 1, 2, 0): -0.8043785192110826, (3, 0, 3, 0): -0.1272361158962332, (2, 0, 3, 1): 0.314419401603731, (2, 1, 2, 1): -0.671829417308949, (3, 1, 3, 1): -0.04680269851250897, (3, 0, 2, 1): 0.0018250495770764281, (2, 0, 2, 0): -0.046197790777549534, (2, 1, 3, 0): -0.33763231915486175}  samples= None\n",
      "E=-1.95156585  angles= {(3, 1, 2, 0): -0.8043785192111517, (3, 0, 3, 0): -0.12723611589622175, (2, 0, 3, 1): 0.3144194016039468, (2, 1, 2, 1): -0.6718294173089664, (3, 1, 3, 1): -0.04680269851250759, (3, 0, 2, 1): 0.0018250495777202033, (2, 0, 2, 0): -0.04619779077755198, (2, 1, 3, 0): -0.33763231915548964}  samples= None\n",
      "E=-1.95156585  angles= {(3, 1, 2, 0): -0.8043785192111863, (3, 0, 3, 0): -0.12723611589621603, (2, 0, 3, 1): 0.3144194016040548, (2, 1, 2, 1): -0.6718294173089752, (3, 1, 3, 1): -0.0468026985125069, (3, 0, 2, 1): 0.001825049578042091, (2, 0, 2, 0): -0.046197790777553205, (2, 1, 3, 0): -0.3376323191558036}  samples= None\n",
      "E=-1.95156585  angles= {(3, 1, 2, 0): -0.8043785192111517, (3, 0, 3, 0): -0.12723611589622175, (2, 0, 3, 1): 0.3144194016039468, (2, 1, 2, 1): -0.6718294173089664, (3, 1, 3, 1): -0.04680269851250759, (3, 0, 2, 1): 0.0018250495777202033, (2, 0, 2, 0): -0.04619779077755198, (2, 1, 3, 0): -0.33763231915548964}  samples= None\n"
     ]
    },
    {
     "name": "stdout",
     "output_type": "stream",
     "text": [
      "E=-1.95156585  angles= {(3, 1, 2, 0): -0.804378519211169, (3, 0, 3, 0): -0.1272361158962189, (2, 0, 3, 1): 0.3144194016040008, (2, 1, 2, 1): -0.6718294173089708, (3, 1, 3, 1): -0.04680269851250724, (3, 0, 2, 1): 0.0018250495778811473, (2, 0, 2, 0): -0.046197790777552594, (2, 1, 3, 0): -0.3376323191556466}  samples= None\n",
      "E=-1.95156585  angles= {(3, 1, 2, 0): -0.8043785192111517, (3, 0, 3, 0): -0.12723611589622175, (2, 0, 3, 1): 0.3144194016039468, (2, 1, 2, 1): -0.6718294173089664, (3, 1, 3, 1): -0.04680269851250759, (3, 0, 2, 1): 0.0018250495777202033, (2, 0, 2, 0): -0.04619779077755198, (2, 1, 3, 0): -0.33763231915548964}  samples= None\n",
      "E=-1.95156585  angles= {(3, 1, 2, 0): -0.8043785192111603, (3, 0, 3, 0): -0.12723611589622033, (2, 0, 3, 1): 0.3144194016039738, (2, 1, 2, 1): -0.6718294173089686, (3, 1, 3, 1): -0.046802698512507415, (3, 0, 2, 1): 0.0018250495778006754, (2, 0, 2, 0): -0.04619779077755229, (2, 1, 3, 0): -0.33763231915556813}  samples= None\n",
      "E=-1.95156585  angles= {(3, 1, 2, 0): -0.8043785192111517, (3, 0, 3, 0): -0.12723611589622175, (2, 0, 3, 1): 0.3144194016039468, (2, 1, 2, 1): -0.6718294173089664, (3, 1, 3, 1): -0.04680269851250759, (3, 0, 2, 1): 0.0018250495777202033, (2, 0, 2, 0): -0.04619779077755198, (2, 1, 3, 0): -0.33763231915548964}  samples= None\n",
      "E=-1.95156585  angles= {(3, 1, 2, 0): -0.804378519211156, (3, 0, 3, 0): -0.12723611589622105, (2, 0, 3, 1): 0.3144194016039603, (2, 1, 2, 1): -0.6718294173089675, (3, 1, 3, 1): -0.046802698512507505, (3, 0, 2, 1): 0.0018250495777604393, (2, 0, 2, 0): -0.04619779077755213, (2, 1, 3, 0): -0.3376323191555289}  samples= None\n",
      "E=-1.95156585  angles= {(3, 1, 2, 0): -0.8043785192111517, (3, 0, 3, 0): -0.12723611589622175, (2, 0, 3, 1): 0.3144194016039468, (2, 1, 2, 1): -0.6718294173089664, (3, 1, 3, 1): -0.04680269851250759, (3, 0, 2, 1): 0.0018250495777202033, (2, 0, 2, 0): -0.04619779077755198, (2, 1, 3, 0): -0.33763231915548964}  samples= None\n",
      "E=-1.95156585  angles= {(3, 1, 2, 0): -0.8043785192111539, (3, 0, 3, 0): -0.1272361158962214, (2, 0, 3, 1): 0.3144194016039536, (2, 1, 2, 1): -0.671829417308967, (3, 1, 3, 1): -0.04680269851250755, (3, 0, 2, 1): 0.0018250495777403213, (2, 0, 2, 0): -0.04619779077755205, (2, 1, 3, 0): -0.3376323191555093}  samples= None\n",
      "E=-1.95156585  angles= {(3, 1, 2, 0): -0.8043785192111549, (3, 0, 3, 0): -0.12723611589622122, (2, 0, 3, 1): 0.314419401603957, (2, 1, 2, 1): -0.6718294173089673, (3, 1, 3, 1): -0.046802698512507526, (3, 0, 2, 1): 0.0018250495777503803, (2, 0, 2, 0): -0.046197790777552095, (2, 1, 3, 0): -0.33763231915551906}  samples= None\n",
      "E=-1.95156585  angles= {(3, 1, 2, 0): -0.8043785192111539, (3, 0, 3, 0): -0.1272361158962214, (2, 0, 3, 1): 0.3144194016039536, (2, 1, 2, 1): -0.671829417308967, (3, 1, 3, 1): -0.04680269851250755, (3, 0, 2, 1): 0.0018250495777403213, (2, 0, 2, 0): -0.04619779077755205, (2, 1, 3, 0): -0.3376323191555093}  samples= None\n",
      "E=-1.95156585  angles= {(3, 1, 2, 0): -0.8043806234450278, (3, 0, 3, 0): -0.1272357673292715, (2, 0, 3, 1): 0.3144259711796185, (2, 1, 2, 1): -0.6718299494368092, (3, 1, 3, 1): -0.046802656465817064, (3, 0, 2, 1): 0.0018446430981406132, (2, 0, 2, 0): -0.04619786518879817, (2, 1, 3, 0): -0.33765142972392}  samples= None\n",
      "E=-1.95156585  angles= {(3, 1, 2, 0): -0.8043795711163418, (3, 0, 3, 0): -0.12723594164782273, (2, 0, 3, 1): 0.3144226857306899, (2, 1, 2, 1): -0.6718296833193401, (3, 1, 3, 1): -0.04680267749339346, (3, 0, 2, 1): 0.0018348443662451028, (2, 0, 2, 0): -0.04619782797568711, (2, 1, 3, 0): -0.3376418725166187}  samples= None\n",
      "E=-1.95156585  angles= {(3, 1, 2, 0): -0.8043790449519989, (3, 0, 3, 0): -0.12723602880709833, (2, 0, 3, 1): 0.31442104300622553, (2, 1, 2, 1): -0.6718295502606055, (3, 1, 3, 1): -0.04680268800718166, (3, 0, 2, 1): 0.0018299450002973474, (2, 0, 2, 0): -0.04619780936913158, (2, 1, 3, 0): -0.33763709391296803}  samples= None\n",
      "E=-1.95156585  angles= {(3, 1, 2, 0): -0.8043787818698274, (3, 0, 3, 0): -0.12723607238673615, (2, 0, 3, 1): 0.31442022164399336, (2, 1, 2, 1): -0.6718294837312382, (3, 1, 3, 1): -0.04680269326407576, (3, 0, 2, 1): 0.0018274953173234697, (2, 0, 2, 0): -0.04619780006585382, (2, 1, 3, 0): -0.33763470461114276}  samples= None\n",
      "E=-1.95156585  angles= {(3, 1, 2, 0): -0.8043786503287417, (3, 0, 3, 0): -0.12723609417655507, (2, 0, 3, 1): 0.31441981096287724, (2, 1, 2, 1): -0.6718294504665546, (3, 1, 3, 1): -0.04680269589252281, (3, 0, 2, 1): 0.001826270475836531, (2, 0, 2, 0): -0.04619779541421493, (2, 1, 3, 0): -0.33763350996023006}  samples= None\n",
      "E=-1.95156585  angles= {(3, 1, 2, 0): -0.8044120077167497, (3, 0, 3, 0): -0.1272352765970276, (2, 0, 3, 1): 0.31445709167221614, (2, 1, 2, 1): -0.6718309986700651, (3, 1, 3, 1): -0.04680239737201396, (3, 0, 2, 1): 0.0018402686121955162, (2, 0, 2, 0): -0.046197847348900214, (2, 1, 3, 0): -0.3376507685216546}  samples= None\n",
      "E=-1.95156585  angles= {(3, 1, 2, 0): -0.8043817049997982, (3, 0, 3, 0): -0.12723601930748804, (2, 0, 3, 1): 0.3144232249083503, (2, 1, 2, 1): -0.6718295922418175, (3, 1, 3, 1): -0.04680266855579135, (3, 0, 2, 1): 0.0018275523418498556, (2, 0, 2, 0): -0.046197800170084305, (2, 1, 3, 0): -0.3376350903965654}  samples= None\n",
      "E=-1.95156585  angles= {(3, 1, 2, 0): -0.8044051071164449, (3, 0, 3, 0): -0.12723589852731568, (2, 0, 3, 1): 0.31444721572733225, (2, 1, 2, 1): -0.6718293702859662, (3, 1, 3, 1): -0.04680272781134879, (3, 0, 2, 1): 0.0018440275277966916, (2, 0, 2, 0): -0.04619805687511723, (2, 1, 3, 0): -0.33765336494938153}  samples= None\n",
      "E=-1.95156585  angles= {(3, 1, 2, 0): -0.8043825611449527, (3, 0, 3, 0): -0.12723601488885528, (2, 0, 3, 1): 0.31442410259064424, (2, 1, 2, 1): -0.6718295841217645, (3, 1, 3, 1): -0.04680267072360203, (3, 0, 2, 1): 0.0018281550715443127, (2, 0, 2, 0): -0.04619780956140447, (2, 1, 3, 0): -0.33763575895446035}  samples= None\n",
      "E=-1.95156585  angles= {(3, 1, 2, 0): -0.8043817052711856, (3, 0, 3, 0): -0.12723601930608738, (2, 0, 3, 1): 0.3144232251865646, (2, 1, 2, 1): -0.6718295922392435, (3, 1, 3, 1): -0.046802668556478515, (3, 0, 2, 1): 0.0018275525329076378, (2, 0, 2, 0): -0.046197800173061236, (2, 1, 3, 0): -0.3376350906084899}  samples= None\n",
      "E=-1.95156585  angles= {(3, 1, 2, 0): -0.804381705539702, (3, 0, 3, 0): -0.12723601930470155, (2, 0, 3, 1): 0.3144232254618358, (2, 1, 2, 1): -0.6718295922366968, (3, 1, 3, 1): -0.046802668557158415, (3, 0, 2, 1): 0.0018275527219443178, (2, 0, 2, 0): -0.04619780017600668, (2, 1, 3, 0): -0.33763509081817256}  samples= None\n",
      "E=-1.95156585  angles= {(3, 1, 2, 0): -0.8043821333423273, (3, 0, 3, 0): -0.12723601709677843, (2, 0, 3, 1): 0.31442366402624, (2, 1, 2, 1): -0.6718295881792307, (3, 1, 3, 1): -0.046802669640380226, (3, 0, 2, 1): 0.0018278538967443152, (2, 0, 2, 0): -0.046197804868705575, (2, 1, 3, 0): -0.3376354248863165}  samples= None\n",
      "E=-1.95156585  angles= {(3, 1, 2, 0): -0.8043817055985601, (3, 0, 3, 0): -0.1272360193043978, (2, 0, 3, 1): 0.31442322552217467, (2, 1, 2, 1): -0.6718295922361386, (3, 1, 3, 1): -0.04680266855730745, (3, 0, 2, 1): 0.0018275527633807296, (2, 0, 2, 0): -0.04619780017665231, (2, 1, 3, 0): -0.3376350908641345}  samples= None\n",
      "E=-1.95156585  angles= {(3, 1, 2, 0): -0.8043817056571451, (3, 0, 3, 0): -0.12723601930409542, (2, 0, 3, 1): 0.3144232255822333, (2, 1, 2, 1): -0.6718295922355829, (3, 1, 3, 1): -0.04680266855745579, (3, 0, 2, 1): 0.001827552804624709, (2, 0, 2, 0): -0.04619780017729495, (2, 1, 3, 0): -0.33763509090988303}  samples= None\n",
      "E=-1.95156585  angles= {(3, 1, 2, 0): -0.8043819194997361, (3, 0, 3, 0): -0.12723601820043692, (2, 0, 3, 1): 0.3144234448042367, (2, 1, 2, 1): -0.6718295902074068, (3, 1, 3, 1): -0.046802669098918004, (3, 0, 2, 1): 0.0018277033506845122, (2, 0, 2, 0): -0.04619780252300026, (2, 1, 3, 0): -0.3376352578980998}  samples= None\n",
      "E=-1.95156585  angles= {(3, 1, 2, 0): -0.8043817056710109, (3, 0, 3, 0): -0.12723601930402387, (2, 0, 3, 1): 0.31442322559644786, (2, 1, 2, 1): -0.6718295922354515, (3, 1, 3, 1): -0.0468026685574909, (3, 0, 2, 1): 0.0018275528143862877, (2, 0, 2, 0): -0.04619780017744704, (2, 1, 3, 0): -0.33763509092071076}  samples= None\n",
      "E=-1.95156585  angles= {(3, 1, 2, 0): -0.8043817056848749, (3, 0, 3, 0): -0.1272360193039523, (2, 0, 3, 1): 0.31442322561066066, (2, 1, 2, 1): -0.6718295922353199, (3, 1, 3, 1): -0.046802668557526, (3, 0, 2, 1): 0.0018275528241466004, (2, 0, 2, 0): -0.04619780017759912, (2, 1, 3, 0): -0.33763509093153704}  samples= None\n"
     ]
    },
    {
     "name": "stdout",
     "output_type": "stream",
     "text": [
      "E=-1.95156585  angles= {(3, 1, 2, 0): -0.8043818125923055, (3, 0, 3, 0): -0.12723601875219462, (2, 0, 3, 1): 0.31442333520744864, (2, 1, 2, 1): -0.6718295912213633, (3, 1, 3, 1): -0.046802668828222004, (3, 0, 2, 1): 0.0018276280874155563, (2, 0, 2, 0): -0.04619780135029969, (2, 1, 3, 0): -0.3376351744148184}  samples= None\n",
      "E=-1.95156585  angles= {(3, 1, 2, 0): -0.8043817056918409, (3, 0, 3, 0): -0.12723601930391634, (2, 0, 3, 1): 0.31442322561780195, (2, 1, 2, 1): -0.6718295922352538, (3, 1, 3, 1): -0.04680266855754364, (3, 0, 2, 1): 0.0018275528290507173, (2, 0, 2, 0): -0.04619780017767553, (2, 1, 3, 0): -0.3376350909369768}  samples= None\n",
      "E=-1.95156585  angles= {(3, 1, 2, 0): -0.804381705698806, (3, 0, 3, 0): -0.1272360193038804, (2, 0, 3, 1): 0.3144232256249423, (2, 1, 2, 1): -0.6718295922351878, (3, 1, 3, 1): -0.04680266855756128, (3, 0, 2, 1): 0.0018275528339541948, (2, 0, 2, 0): -0.046197800177751935, (2, 1, 3, 0): -0.33763509094241584}  samples= None\n",
      "E=-1.95156585  angles= {(3, 1, 2, 0): -0.8043817591455558, (3, 0, 3, 0): -0.12723601902803752, (2, 0, 3, 1): 0.31442328041619544, (2, 1, 2, 1): -0.6718295917282756, (3, 1, 3, 1): -0.04680266869289164, (3, 0, 2, 1): 0.0018275904606848755, (2, 0, 2, 0): -0.04619780076402581, (2, 1, 3, 0): -0.3376351326786171}  samples= None\n",
      "E=-1.95156585  angles= {(3, 1, 2, 0): -0.804381705699925, (3, 0, 3, 0): -0.12723601930387463, (2, 0, 3, 1): 0.3144232256260894, (2, 1, 2, 1): -0.6718295922351771, (3, 1, 3, 1): -0.04680266855756411, (3, 0, 2, 1): 0.0018275528347419568, (2, 0, 2, 0): -0.04619780017776421, (2, 1, 3, 0): -0.3376350909432896}  samples= None\n",
      "E=-1.95156585  angles= {(3, 1, 2, 0): -0.804381705701044, (3, 0, 3, 0): -0.12723601930386885, (2, 0, 3, 1): 0.31442322562723646, (2, 1, 2, 1): -0.6718295922351666, (3, 1, 3, 1): -0.04680266855756694, (3, 0, 2, 1): 0.001827552835529686, (2, 0, 2, 0): -0.046197800177776485, (2, 1, 3, 0): -0.3376350909441634}  samples= None\n",
      "E=-1.95156585  angles= {(3, 1, 2, 0): -0.8043817324232998, (3, 0, 3, 0): -0.12723601916595317, (2, 0, 3, 1): 0.314423253021716, (2, 1, 2, 1): -0.6718295919817211, (3, 1, 3, 1): -0.04680266862522929, (3, 0, 2, 1): 0.0018275716481072808, (2, 0, 2, 0): -0.04619780047090115, (2, 1, 3, 0): -0.3376351118113902}  samples= None\n",
      "E=-1.95156585  angles= {(3, 1, 2, 0): -0.8043817057016038, (3, 0, 3, 0): -0.12723601930386597, (2, 0, 3, 1): 0.31442322562781044, (2, 1, 2, 1): -0.6718295922351613, (3, 1, 3, 1): -0.046802668557568365, (3, 0, 2, 1): 0.0018275528359238695, (2, 0, 2, 0): -0.046197800177782626, (2, 1, 3, 0): -0.3376350909446006}  samples= None\n",
      "E=-1.95156585  angles= {(3, 1, 2, 0): -0.8043817057021637, (3, 0, 3, 0): -0.12723601930386308, (2, 0, 3, 1): 0.31442322562838443, (2, 1, 2, 1): -0.6718295922351559, (3, 1, 3, 1): -0.04680266855756978, (3, 0, 2, 1): 0.0018275528363180366, (2, 0, 2, 0): -0.04619780017778877, (2, 1, 3, 0): -0.33763509094503785}  samples= None\n",
      "E=-1.95156585  angles= {(3, 1, 2, 0): -0.8043817190627318, (3, 0, 3, 0): -0.12723601923490813, (2, 0, 3, 1): 0.3144232393250502, (2, 1, 2, 1): -0.6718295921084385, (3, 1, 3, 1): -0.04680266859139954, (3, 0, 2, 1): 0.0018275622422126588, (2, 0, 2, 0): -0.04619780032434496, (2, 1, 3, 0): -0.337635101378214}  samples= None\n",
      "E=-1.95156585  angles= {(3, 1, 2, 0): -0.8043817057022389, (3, 0, 3, 0): -0.1272360193038627, (2, 0, 3, 1): 0.3144232256284615, (2, 1, 2, 1): -0.6718295922351553, (3, 1, 3, 1): -0.04680266855756997, (3, 0, 2, 1): 0.001827552836370924, (2, 0, 2, 0): -0.04619780017778959, (2, 1, 3, 0): -0.33763509094509647}  samples= None\n",
      "E=-1.95156585  angles= {(3, 1, 2, 0): -0.8043817057023139, (3, 0, 3, 0): -0.1272360193038623, (2, 0, 3, 1): 0.31442322562853847, (2, 1, 2, 1): -0.6718295922351545, (3, 1, 3, 1): -0.04680266855757016, (3, 0, 2, 1): 0.001827552836423811, (2, 0, 2, 0): -0.04619780017779042, (2, 1, 3, 0): -0.33763509094515515}  samples= None\n",
      "E=-1.95156585  angles= {(3, 1, 2, 0): -0.8043817123825229, (3, 0, 3, 0): -0.12723601926938521, (2, 0, 3, 1): 0.3144232324767943, (2, 1, 2, 1): -0.6718295921717965, (3, 1, 3, 1): -0.04680266857448485, (3, 0, 2, 1): 0.0018275575393182349, (2, 0, 2, 0): -0.046197800251067685, (2, 1, 3, 0): -0.3376350961616846}  samples= None\n",
      "E=-1.95156585  angles= {(3, 1, 2, 0): -0.8043817057023293, (3, 0, 3, 0): -0.12723601930386222, (2, 0, 3, 1): 0.3144232256285541, (2, 1, 2, 1): -0.6718295922351544, (3, 1, 3, 1): -0.0468026685575702, (3, 0, 2, 1): 0.0018275528364345747, (2, 0, 2, 0): -0.046197800177790585, (2, 1, 3, 0): -0.3376350909451671}  samples= None\n",
      "E=-1.95156585  angles= {(3, 1, 2, 0): -0.8043817057023446, (3, 0, 3, 0): -0.12723601930386214, (2, 0, 3, 1): 0.31442322562856984, (2, 1, 2, 1): -0.6718295922351543, (3, 1, 3, 1): -0.04680266855757024, (3, 0, 2, 1): 0.0018275528364453382, (2, 0, 2, 0): -0.04619780017779075, (2, 1, 3, 0): -0.337635090945179}  samples= None\n",
      "E=-1.95156585  angles= {(3, 1, 2, 0): -0.8043817090424337, (3, 0, 3, 0): -0.12723601928662367, (2, 0, 3, 1): 0.31442322905268205, (2, 1, 2, 1): -0.6718295922034754, (3, 1, 3, 1): -0.04680266856602754, (3, 0, 2, 1): 0.0018275551878817865, (2, 0, 2, 0): -0.04619780021442922, (2, 1, 3, 0): -0.3376350935534318}  samples= None\n",
      "E=-1.95156585  angles= {(3, 1, 2, 0): -0.804381705702348, (3, 0, 3, 0): -0.12723601930386214, (2, 0, 3, 1): 0.3144232256285734, (2, 1, 2, 1): -0.6718295922351541, (3, 1, 3, 1): -0.046802668557570246, (3, 0, 2, 1): 0.0018275528364478002, (2, 0, 2, 0): -0.04619780017779079, (2, 1, 3, 0): -0.33763509094518174}  samples= None\n",
      "E=-1.95156585  angles= {(3, 1, 2, 0): -0.8043817057023516, (3, 0, 3, 0): -0.1272360193038621, (2, 0, 3, 1): 0.314423225628577, (2, 1, 2, 1): -0.6718295922351541, (3, 1, 3, 1): -0.04680266855757026, (3, 0, 2, 1): 0.0018275528364502622, (2, 0, 2, 0): -0.04619780017779083, (2, 1, 3, 0): -0.3376350909451845}  samples= None\n",
      "E=-1.95156585  angles= {(3, 1, 2, 0): -0.8043817073723926, (3, 0, 3, 0): -0.1272360192952429, (2, 0, 3, 1): 0.31442322734062955, (2, 1, 2, 1): -0.6718295922193148, (3, 1, 3, 1): -0.0468026685617989, (3, 0, 2, 1): 0.0018275540121660244, (2, 0, 2, 0): -0.04619780019611002, (2, 1, 3, 0): -0.33763509224930816}  samples= None\n",
      "E=-1.95156585  angles= {(3, 1, 2, 0): -0.8043817057023523, (3, 0, 3, 0): -0.1272360193038621, (2, 0, 3, 1): 0.31442322562857783, (2, 1, 2, 1): -0.6718295922351541, (3, 1, 3, 1): -0.04680266855757026, (3, 0, 2, 1): 0.00182755283645085, (2, 0, 2, 0): -0.046197800177790835, (2, 1, 3, 0): -0.3376350909451851}  samples= None\n",
      "E=-1.95156585  angles= {(3, 1, 2, 0): -0.8043817057023532, (3, 0, 3, 0): -0.1272360193038621, (2, 0, 3, 1): 0.3144232256285787, (2, 1, 2, 1): -0.6718295922351541, (3, 1, 3, 1): -0.04680266855757026, (3, 0, 2, 1): 0.0018275528364514381, (2, 0, 2, 0): -0.04619780017779085, (2, 1, 3, 0): -0.3376350909451858}  samples= None\n",
      "E=-1.95156585  angles= {(3, 1, 2, 0): -0.804381706537373, (3, 0, 3, 0): -0.1272360192995525, (2, 0, 3, 1): 0.31442322648460413, (2, 1, 2, 1): -0.6718295922272345, (3, 1, 3, 1): -0.04680266855968458, (3, 0, 2, 1): 0.0018275534243087312, (2, 0, 2, 0): -0.04619780018695044, (2, 1, 3, 0): -0.337635091597247}  samples= None\n",
      "E=-1.95156585  angles= {(3, 1, 2, 0): -0.8043817057023535, (3, 0, 3, 0): -0.1272360193038621, (2, 0, 3, 1): 0.3144232256285789, (2, 1, 2, 1): -0.6718295922351541, (3, 1, 3, 1): -0.04680266855757026, (3, 0, 2, 1): 0.0018275528364515821, (2, 0, 2, 0): -0.04619780017779085, (2, 1, 3, 0): -0.33763509094518596}  samples= None\n",
      "E=-1.95156585  angles= {(3, 1, 2, 0): -0.8043817057023536, (3, 0, 3, 0): -0.1272360193038621, (2, 0, 3, 1): 0.3144232256285791, (2, 1, 2, 1): -0.6718295922351541, (3, 1, 3, 1): -0.04680266855757026, (3, 0, 2, 1): 0.0018275528364517263, (2, 0, 2, 0): -0.04619780017779085, (2, 1, 3, 0): -0.3376350909451861}  samples= None\n",
      "E=-1.95156585  angles= {(3, 1, 2, 0): -0.8043817061198633, (3, 0, 3, 0): -0.1272360193017073, (2, 0, 3, 1): 0.3144232260565916, (2, 1, 2, 1): -0.6718295922311943, (3, 1, 3, 1): -0.04680266855862742, (3, 0, 2, 1): 0.0018275531303802287, (2, 0, 2, 0): -0.046197800182370644, (2, 1, 3, 0): -0.33763509127121655}  samples= None\n",
      "E=-1.95156585  angles= {(3, 1, 2, 0): -0.8043817057023537, (3, 0, 3, 0): -0.1272360193038621, (2, 0, 3, 1): 0.31442322562857916, (2, 1, 2, 1): -0.6718295922351541, (3, 1, 3, 1): -0.04680266855757026, (3, 0, 2, 1): 0.001827552836451762, (2, 0, 2, 0): -0.046197800177790856, (2, 1, 3, 0): -0.3376350909451862}  samples= None\n"
     ]
    },
    {
     "name": "stdout",
     "output_type": "stream",
     "text": [
      "E=-1.95156585  angles= {(3, 1, 2, 0): -0.8043817057023537, (3, 0, 3, 0): -0.1272360193038621, (2, 0, 3, 1): 0.3144232256285792, (2, 1, 2, 1): -0.6718295922351541, (3, 1, 3, 1): -0.04680266855757026, (3, 0, 2, 1): 0.0018275528364517977, (2, 0, 2, 0): -0.046197800177790856, (2, 1, 3, 0): -0.3376350909451862}  samples= None\n",
      "E=-1.95156585  angles= {(3, 1, 2, 0): -0.8043817059111085, (3, 0, 3, 0): -0.1272360193027847, (2, 0, 3, 1): 0.3144232258425854, (2, 1, 2, 1): -0.6718295922331742, (3, 1, 3, 1): -0.046802668558098844, (3, 0, 2, 1): 0.0018275529834160132, (2, 0, 2, 0): -0.046197800180080746, (2, 1, 3, 0): -0.3376350911082014}  samples= None\n",
      "E=-1.95156585  angles= {(3, 1, 2, 0): -0.8043817057023537, (3, 0, 3, 0): -0.1272360193038621, (2, 0, 3, 1): 0.3144232256285792, (2, 1, 2, 1): -0.6718295922351541, (3, 1, 3, 1): -0.04680266855757026, (3, 0, 2, 1): 0.0018275528364518066, (2, 0, 2, 0): -0.046197800177790856, (2, 1, 3, 0): -0.3376350909451862}  samples= None\n",
      "E=-1.95156585  angles= {(3, 1, 2, 0): -0.8043817057023538, (3, 0, 3, 0): -0.1272360193038621, (2, 0, 3, 1): 0.3144232256285793, (2, 1, 2, 1): -0.6718295922351541, (3, 1, 3, 1): -0.04680266855757026, (3, 0, 2, 1): 0.0018275528364518154, (2, 0, 2, 0): -0.046197800177790856, (2, 1, 3, 0): -0.33763509094518623}  samples= None\n",
      "E=-1.95156585  angles= {(3, 1, 2, 0): -0.8043817058067311, (3, 0, 3, 0): -0.1272360193033234, (2, 0, 3, 1): 0.31442322573558235, (2, 1, 2, 1): -0.6718295922341642, (3, 1, 3, 1): -0.04680266855783455, (3, 0, 2, 1): 0.0018275529099339143, (2, 0, 2, 0): -0.0461978001789358, (2, 1, 3, 0): -0.3376350910266938}  samples= None\n",
      "E=-1.95156585  angles= {(3, 1, 2, 0): -0.8043817057023538, (3, 0, 3, 0): -0.1272360193038621, (2, 0, 3, 1): 0.3144232256285793, (2, 1, 2, 1): -0.6718295922351541, (3, 1, 3, 1): -0.04680266855757026, (3, 0, 2, 1): 0.0018275528364518178, (2, 0, 2, 0): -0.046197800177790856, (2, 1, 3, 0): -0.33763509094518623}  samples= None\n",
      "E=-1.95156585  angles= {(3, 1, 2, 0): -0.8043817057023538, (3, 0, 3, 0): -0.1272360193038621, (2, 0, 3, 1): 0.3144232256285793, (2, 1, 2, 1): -0.6718295922351541, (3, 1, 3, 1): -0.04680266855757026, (3, 0, 2, 1): 0.00182755283645182, (2, 0, 2, 0): -0.046197800177790856, (2, 1, 3, 0): -0.33763509094518623}  samples= None\n",
      "E=-1.95156585  angles= {(3, 1, 2, 0): -0.8043817057545424, (3, 0, 3, 0): -0.12723601930359274, (2, 0, 3, 1): 0.3144232256820808, (2, 1, 2, 1): -0.6718295922346592, (3, 1, 3, 1): -0.046802668557702404, (3, 0, 2, 1): 0.0018275528731928673, (2, 0, 2, 0): -0.04619780017836333, (2, 1, 3, 0): -0.33763509098594}  samples= None\n",
      "E=-1.95156585  angles= {(3, 1, 2, 0): -0.8043817057023538, (3, 0, 3, 0): -0.1272360193038621, (2, 0, 3, 1): 0.3144232256285793, (2, 1, 2, 1): -0.6718295922351541, (3, 1, 3, 1): -0.04680266855757026, (3, 0, 2, 1): 0.0018275528364518204, (2, 0, 2, 0): -0.046197800177790856, (2, 1, 3, 0): -0.33763509094518623}  samples= None\n",
      "E=-1.95156585  angles= {(3, 1, 2, 0): -0.8043817057023538, (3, 0, 3, 0): -0.1272360193038621, (2, 0, 3, 1): 0.3144232256285793, (2, 1, 2, 1): -0.6718295922351541, (3, 1, 3, 1): -0.04680266855757026, (3, 0, 2, 1): 0.001827552836451821, (2, 0, 2, 0): -0.046197800177790856, (2, 1, 3, 0): -0.33763509094518623}  samples= None\n",
      "E=-1.95156585  angles= {(3, 1, 2, 0): -0.8043817057284481, (3, 0, 3, 0): -0.1272360193037274, (2, 0, 3, 1): 0.31442322565533004, (2, 1, 2, 1): -0.6718295922349067, (3, 1, 3, 1): -0.04680266855763633, (3, 0, 2, 1): 0.001827552854822344, (2, 0, 2, 0): -0.04619780017807709, (2, 1, 3, 0): -0.3376350909655631}  samples= None\n",
      "E=-1.95156585  angles= {(3, 1, 2, 0): -0.8043817057284481, (3, 0, 3, 0): -0.1272360193037274, (2, 0, 3, 1): 0.31442322565533004, (2, 1, 2, 1): -0.6718295922349067, (3, 1, 3, 1): -0.04680266855763633, (3, 0, 2, 1): 0.0018275528548223443, (2, 0, 2, 0): -0.04619780017807709, (2, 1, 3, 0): -0.3376350909655631}  samples= None\n",
      "E=-1.95156585  angles= {(3, 1, 2, 0): -0.8043817057414953, (3, 0, 3, 0): -0.12723601930366008, (2, 0, 3, 1): 0.3144232256687054, (2, 1, 2, 1): -0.6718295922347829, (3, 1, 3, 1): -0.04680266855766937, (3, 0, 2, 1): 0.0018275528640076058, (2, 0, 2, 0): -0.04619780017822021, (2, 1, 3, 0): -0.33763509097575156}  samples= None\n",
      "E=-1.95156585  angles= {(3, 1, 2, 0): -0.8043817057284481, (3, 0, 3, 0): -0.1272360193037274, (2, 0, 3, 1): 0.31442322565533004, (2, 1, 2, 1): -0.6718295922349067, (3, 1, 3, 1): -0.04680266855763633, (3, 0, 2, 1): 0.0018275528548223445, (2, 0, 2, 0): -0.04619780017807709, (2, 1, 3, 0): -0.3376350909655631}  samples= None\n",
      "E=-1.95156585  angles= {(3, 1, 2, 0): -0.8043817057349717, (3, 0, 3, 0): -0.12723601930369374, (2, 0, 3, 1): 0.3144232256620177, (2, 1, 2, 1): -0.6718295922348447, (3, 1, 3, 1): -0.04680266855765285, (3, 0, 2, 1): 0.001827552859414975, (2, 0, 2, 0): -0.046197800178148646, (2, 1, 3, 0): -0.33763509097065736}  samples= None\n",
      "E=-1.95156585  angles= {(3, 1, 2, 0): -0.8043817057284481, (3, 0, 3, 0): -0.1272360193037274, (2, 0, 3, 1): 0.31442322565533004, (2, 1, 2, 1): -0.6718295922349067, (3, 1, 3, 1): -0.04680266855763633, (3, 0, 2, 1): 0.0018275528548223445, (2, 0, 2, 0): -0.04619780017807709, (2, 1, 3, 0): -0.3376350909655631}  samples= None\n",
      "E=-1.95156585  angles= {(3, 1, 2, 0): -0.8043817057317099, (3, 0, 3, 0): -0.1272360193037106, (2, 0, 3, 1): 0.31442322565867387, (2, 1, 2, 1): -0.6718295922348757, (3, 1, 3, 1): -0.046802668557644596, (3, 0, 2, 1): 0.0018275528571186598, (2, 0, 2, 0): -0.04619780017811287, (2, 1, 3, 0): -0.33763509096811023}  samples= None\n",
      "E=-1.95156585  angles= {(3, 1, 2, 0): -0.8043817057284481, (3, 0, 3, 0): -0.1272360193037274, (2, 0, 3, 1): 0.31442322565533004, (2, 1, 2, 1): -0.6718295922349067, (3, 1, 3, 1): -0.04680266855763633, (3, 0, 2, 1): 0.0018275528548223445, (2, 0, 2, 0): -0.04619780017807709, (2, 1, 3, 0): -0.3376350909655631}  samples= None\n",
      "E=-1.95156585  angles= {(3, 1, 2, 0): -0.8043817057300789, (3, 0, 3, 0): -0.127236019303719, (2, 0, 3, 1): 0.3144232256570019, (2, 1, 2, 1): -0.6718295922348911, (3, 1, 3, 1): -0.04680266855764046, (3, 0, 2, 1): 0.0018275528559705022, (2, 0, 2, 0): -0.04619780017809498, (2, 1, 3, 0): -0.3376350909668367}  samples= None\n",
      "E=-1.95156585  angles= {(3, 1, 2, 0): -0.8043817057308944, (3, 0, 3, 0): -0.1272360193037148, (2, 0, 3, 1): 0.3144232256578379, (2, 1, 2, 1): -0.6718295922348835, (3, 1, 3, 1): -0.04680266855764253, (3, 0, 2, 1): 0.001827552856544581, (2, 0, 2, 0): -0.046197800178103925, (2, 1, 3, 0): -0.33763509096747346}  samples= None\n",
      "E=-1.95156585  angles= {(3, 1, 2, 0): -0.8043817057300789, (3, 0, 3, 0): -0.127236019303719, (2, 0, 3, 1): 0.3144232256570019, (2, 1, 2, 1): -0.6718295922348911, (3, 1, 3, 1): -0.04680266855764046, (3, 0, 2, 1): 0.0018275528559705022, (2, 0, 2, 0): -0.04619780017809498, (2, 1, 3, 0): -0.3376350909668367}  samples= None\n",
      "E=-1.95156585  angles= {(3, 1, 2, 0): -0.8043817057304867, (3, 0, 3, 0): -0.1272360193037169, (2, 0, 3, 1): 0.3144232256574199, (2, 1, 2, 1): -0.6718295922348874, (3, 1, 3, 1): -0.046802668557641494, (3, 0, 2, 1): 0.0018275528562575415, (2, 0, 2, 0): -0.04619780017809945, (2, 1, 3, 0): -0.33763509096715505}  samples= None\n",
      "E=-1.95156585  angles= {(3, 1, 2, 0): -0.8043817057306906, (3, 0, 3, 0): -0.12723601930371584, (2, 0, 3, 1): 0.3144232256576289, (2, 1, 2, 1): -0.6718295922348854, (3, 1, 3, 1): -0.046802668557642015, (3, 0, 2, 1): 0.0018275528564010613, (2, 0, 2, 0): -0.04619780017810169, (2, 1, 3, 0): -0.33763509096731426}  samples= None\n",
      "E=-1.95156585  angles= {(3, 1, 2, 0): -0.8043817057307925, (3, 0, 3, 0): -0.1272360193037153, (2, 0, 3, 1): 0.3144232256577334, (2, 1, 2, 1): -0.6718295922348844, (3, 1, 3, 1): -0.04680266855764227, (3, 0, 2, 1): 0.0018275528564728211, (2, 0, 2, 0): -0.04619780017810281, (2, 1, 3, 0): -0.33763509096739386}  samples= None\n",
      "E=-1.95156585  angles= {(3, 1, 2, 0): -0.8043817057306906, (3, 0, 3, 0): -0.12723601930371584, (2, 0, 3, 1): 0.3144232256576289, (2, 1, 2, 1): -0.6718295922348854, (3, 1, 3, 1): -0.046802668557642015, (3, 0, 2, 1): 0.0018275528564010613, (2, 0, 2, 0): -0.04619780017810169, (2, 1, 3, 0): -0.33763509096731426}  samples= None\n",
      "E=-1.95156585  angles= {(3, 1, 2, 0): -0.8043817057307415, (3, 0, 3, 0): -0.1272360193037156, (2, 0, 3, 1): 0.31442322565768116, (2, 1, 2, 1): -0.6718295922348849, (3, 1, 3, 1): -0.04680266855764214, (3, 0, 2, 1): 0.0018275528564369412, (2, 0, 2, 0): -0.046197800178102245, (2, 1, 3, 0): -0.33763509096735406}  samples= None\n"
     ]
    },
    {
     "name": "stdout",
     "output_type": "stream",
     "text": [
      "E=-1.95156585  angles= {(3, 1, 2, 0): -0.8043817057306906, (3, 0, 3, 0): -0.12723601930371584, (2, 0, 3, 1): 0.3144232256576289, (2, 1, 2, 1): -0.6718295922348854, (3, 1, 3, 1): -0.046802668557642015, (3, 0, 2, 1): 0.0018275528564010613, (2, 0, 2, 0): -0.04619780017810169, (2, 1, 3, 0): -0.33763509096731426}  samples= None\n",
      "E=-1.95156585  angles= {(3, 1, 2, 0): -0.8043817057307161, (3, 0, 3, 0): -0.12723601930371572, (2, 0, 3, 1): 0.31442322565765507, (2, 1, 2, 1): -0.6718295922348851, (3, 1, 3, 1): -0.04680266855764208, (3, 0, 2, 1): 0.0018275528564190011, (2, 0, 2, 0): -0.04619780017810197, (2, 1, 3, 0): -0.33763509096733413}  samples= None\n",
      "E=-1.95156585  angles= {(3, 1, 2, 0): -0.8043817057306906, (3, 0, 3, 0): -0.12723601930371584, (2, 0, 3, 1): 0.3144232256576289, (2, 1, 2, 1): -0.6718295922348854, (3, 1, 3, 1): -0.046802668557642015, (3, 0, 2, 1): 0.0018275528564010613, (2, 0, 2, 0): -0.04619780017810169, (2, 1, 3, 0): -0.33763509096731426}  samples= None\n",
      "E=-1.95156585  angles= {(3, 1, 2, 0): -0.8043817057307033, (3, 0, 3, 0): -0.12723601930371578, (2, 0, 3, 1): 0.31442322565764197, (2, 1, 2, 1): -0.6718295922348853, (3, 1, 3, 1): -0.04680266855764204, (3, 0, 2, 1): 0.0018275528564100313, (2, 0, 2, 0): -0.04619780017810183, (2, 1, 3, 0): -0.3376350909673242}  samples= None\n",
      "E=-1.95156585  angles= {(3, 1, 2, 0): -0.8044051071164449, (3, 0, 3, 0): -0.12723589852731568, (2, 0, 3, 1): 0.31444721572733225, (2, 1, 2, 1): -0.6718293702859662, (3, 1, 3, 1): -0.04680272781134879, (3, 0, 2, 1): 0.0018440275277966916, (2, 0, 2, 0): -0.04619805687511723, (2, 1, 3, 0): -0.33765336494938153}  samples= None\n",
      "E=-1.95156585  angles= {(3, 1, 2, 0): -0.8043934060581216, (3, 0, 3, 0): -0.12723595891740186, (2, 0, 3, 1): 0.31443522031784127, (2, 1, 2, 1): -0.6718294812638919, (3, 1, 3, 1): -0.04680269818357007, (3, 0, 2, 1): 0.0018357899348232735, (2, 0, 2, 0): -0.04619792852260077, (2, 1, 3, 0): -0.3376442276729735}  samples= None\n",
      "E=-1.95156585  angles= {(3, 1, 2, 0): -0.8043875555289599, (3, 0, 3, 0): -0.12723598911244494, (2, 0, 3, 1): 0.31442922261309575, (2, 1, 2, 1): -0.6718295367528546, (3, 1, 3, 1): -0.04680268336968071, (3, 0, 2, 1): 0.0018316711383365646, (2, 0, 2, 0): -0.046197864346342536, (2, 1, 3, 0): -0.33763965903476945}  samples= None\n",
      "E=-1.95156585  angles= {(3, 1, 2, 0): -0.804384630264379, (3, 0, 3, 0): -0.1272360042099665, (2, 0, 3, 1): 0.31442622376072304, (2, 1, 2, 1): -0.6718295644973361, (3, 1, 3, 1): -0.04680267596273603, (3, 0, 2, 1): 0.00182961174009321, (2, 0, 2, 0): -0.046197832258213424, (2, 1, 3, 0): -0.33763737471566746}  samples= None\n",
      "E=-1.95156585  angles= {(3, 1, 2, 0): -0.8043831676320886, (3, 0, 3, 0): -0.12723601175872726, (2, 0, 3, 1): 0.31442472433453666, (2, 1, 2, 1): -0.6718295783695768, (3, 1, 3, 1): -0.04680267225926369, (3, 0, 2, 1): 0.0018285820409715328, (2, 0, 2, 0): -0.04619781621414886, (2, 1, 3, 0): -0.3376362325561164}  samples= None\n",
      "E=-1.95156585  angles= {(3, 1, 2, 0): -0.8043824363159434, (3, 0, 3, 0): -0.12723601553310765, (2, 0, 3, 1): 0.31442397462144345, (2, 1, 2, 1): -0.6718295853056971, (3, 1, 3, 1): -0.046802670407527516, (3, 0, 2, 1): 0.0018280671914106942, (2, 0, 2, 0): -0.046197808192116586, (2, 1, 3, 0): -0.33763566147634094}  samples= None\n",
      "E=-1.95156585  angles= {(3, 1, 2, 0): -0.8043820706578708, (3, 0, 3, 0): -0.12723601742029786, (2, 0, 3, 1): 0.31442359976489687, (2, 1, 2, 1): -0.6718295887737573, (3, 1, 3, 1): -0.04680266948165943, (3, 0, 2, 1): 0.0018278097666302748, (2, 0, 2, 0): -0.04619780418110044, (2, 1, 3, 0): -0.33763537593645315}  samples= None\n",
      "E=-1.95156585  angles= {(3, 1, 2, 0): -0.8043818878288346, (3, 0, 3, 0): -0.12723601836389295, (2, 0, 3, 1): 0.3144234123366236, (2, 1, 2, 1): -0.6718295905077873, (3, 1, 3, 1): -0.046802669018725394, (3, 0, 2, 1): 0.0018276810542400652, (2, 0, 2, 0): -0.04619780217559238, (2, 1, 3, 0): -0.3376352331665093}  samples= None\n",
      "E=-1.95156585  angles= {(3, 1, 2, 0): -0.8043817964143164, (3, 0, 3, 0): -0.1272360188356905, (2, 0, 3, 1): 0.31442331862248696, (2, 1, 2, 1): -0.6718295913748025, (3, 1, 3, 1): -0.04680266878725837, (3, 0, 2, 1): 0.0018276166980449604, (2, 0, 2, 0): -0.04619780117283834, (2, 1, 3, 0): -0.33763516178153735}  samples= None\n",
      "E=-1.95156585  angles= {(3, 1, 2, 0): -0.8043817507070573, (3, 0, 3, 0): -0.12723601907158927, (2, 0, 3, 1): 0.3144232717654186, (2, 1, 2, 1): -0.6718295918083099, (3, 1, 3, 1): -0.04680266867152486, (3, 0, 2, 1): 0.001827584519947408, (2, 0, 2, 0): -0.04619780067146132, (2, 1, 3, 0): -0.3376351260890514}  samples= None\n",
      "E=-1.95156585  angles= {(3, 1, 2, 0): -0.8043817278534278, (3, 0, 3, 0): -0.12723601918953864, (2, 0, 3, 1): 0.31442324833688445, (2, 1, 2, 1): -0.6718295920250638, (3, 1, 3, 1): -0.0468026686136581, (3, 0, 2, 1): 0.0018275684308986318, (2, 0, 2, 0): -0.04619780042077282, (2, 1, 3, 0): -0.3376351082428084}  samples= None\n",
      "E=-1.95156585  angles= {(3, 1, 2, 0): -0.8043817164266129, (3, 0, 3, 0): -0.12723601924851335, (2, 0, 3, 1): 0.31442323662261734, (2, 1, 2, 1): -0.6718295921334406, (3, 1, 3, 1): -0.046802668584724726, (3, 0, 2, 1): 0.0018275603863742438, (2, 0, 2, 0): -0.04619780029542856, (2, 1, 3, 0): -0.33763509931968694}  samples= None\n",
      "Warning: Desired error not necessarily achieved due to precision loss.\n",
      "         Current function value: -1.951566\n",
      "         Iterations: 41\n",
      "         Function evaluations: 197\n",
      "         Gradient evaluations: 181\n",
      "\n",
      "Obtained UCCSD energy: -1.951565851497312\n"
     ]
    }
   ],
   "source": [
    "H = h4_tq.make_hamiltonian()\n",
    "\n",
    "print(\"\\nHamiltonian has {} terms\\n\".format(len(H)))\n",
    "\n",
    "U_UCCSD = h4_tq.make_uccsd_ansatz(initial_amplitudes='MP2',threshold=threshold, trotter_steps=trotter_steps)\n",
    "\n",
    "E = tq.ExpectationValue(H=H, U=U_UCCSD)\n",
    "\n",
    "print('\\nNumber of UCCSD amplitudes: {} \\n'.format(len(E.extract_variables())))\n",
    "\n",
    "print('\\nStarting optimization:\\n')\n",
    "\n",
    "result = tq.minimize(objective=E, method=\"BFGS\", initial_values={k:0.0 for k in E.extract_variables()}, tol=1e-6)\n",
    "\n",
    "print('\\nObtained UCCSD energy: {}'.format(result.energy))"
   ]
  },
  {
   "cell_type": "markdown",
   "metadata": {},
   "source": [
    "## Step 4: Measurement"
   ]
  },
  {
   "cell_type": "code",
   "execution_count": 135,
   "metadata": {},
   "outputs": [
    {
     "name": "stdout",
     "output_type": "stream",
     "text": [
      "Number of mutually commuting fragments: 4\n",
      "The first commuting group\n",
      "-0.8823205468513752 [] +\n",
      "0.034058385022492754 [X0 Y1 Y2 X3] +\n",
      "0.0340583850225138 [X0 Y1 Y4 X5] +\n",
      "-0.035257520327649984 [X0 Z1 X2 Y5 Z6 Y7] +\n",
      "0.03525752032764998 [X0 Z1 Z2 X3 Y4 Z5 Z6 Y7] +\n",
      "0.034058385022492754 [Y0 X1 X2 Y3] +\n",
      "0.0340583850225138 [Y0 X1 X4 Y5] +\n",
      "-0.035257520327649984 [Y0 Z1 Y2 X5 Z6 X7] +\n",
      "0.03525752032764998 [Y0 Z1 Z2 Y3 X4 Z5 Z6 X7] +\n",
      "0.03525752032764998 [X1 X2 Y5 Y6] +\n",
      "-0.035257520327649984 [X1 Z2 X3 Y4 Z5 Y6] +\n",
      "0.03525752032764998 [Y1 Y2 X5 X6] +\n",
      "-0.035257520327649984 [Y1 Z2 Y3 X4 Z5 X6] +\n",
      "0.03827976789253185 [X2 Y3 Y6 X7] +\n",
      "0.03827976789253185 [Y2 X3 X6 Y7] +\n",
      "0.03827976789251076 [X4 Y5 Y6 X7] +\n",
      "0.03827976789251076 [Y4 X5 X6 Y7]\n"
     ]
    }
   ],
   "source": [
    "comm_groups = get_commuting_group(h4)\n",
    "print('Number of mutually commuting fragments: {}'.format(len(comm_groups)))\n",
    "print('The first commuting group')\n",
    "print(comm_groups[1])"
   ]
  },
  {
   "cell_type": "code",
   "execution_count": 136,
   "metadata": {},
   "outputs": [
    {
     "name": "stdout",
     "output_type": "stream",
     "text": [
      "This is unitary, U * U^+ = I \n",
      "(0.9999999999999999+0j) []\n"
     ]
    }
   ],
   "source": [
    "uqwc = get_qwc_unitary(comm_groups[1])\n",
    "print('This is unitary, U * U^+ = I ')\n",
    "print(uqwc * uqwc)"
   ]
  },
  {
   "cell_type": "code",
   "execution_count": 137,
   "metadata": {},
   "outputs": [
    {
     "name": "stdout",
     "output_type": "stream",
     "text": [
      "-0.8823205468513686 [] +\n",
      "-0.035257520327649845 [X0 X1 X2 Z3 Z7] +\n",
      "0.035257520327649845 [X0 X1 X2 Z5 Z7] +\n",
      "-0.034058385022492796 [X0 Z3] +\n",
      "-0.03405838502251355 [X0 Z5] +\n",
      "-0.034058385022492796 [X1 X2 Z3] +\n",
      "-0.035257520327649845 [X1 X2 Z3 X4 Z7] +\n",
      "-0.035257520327649845 [X1 X2 Z3 Z6] +\n",
      "0.035257520327649845 [X1 X2 Z5 Z6] +\n",
      "-0.03405838502251355 [X1 X4 Z5] +\n",
      "0.035257520327649845 [X1 Z5 Z7] +\n",
      "-0.035257520327649845 [X2 Z3 X4 Z6] +\n",
      "0.038279767892531756 [X2 Z3 Z6 Z7] +\n",
      "0.038279767892531756 [Z3 Z6 Z7] +\n",
      "0.038279767892510815 [X4 Z5 Z6 Z7] +\n",
      "0.035257520327649845 [Z5 Z6] +\n",
      "0.038279767892510815 [Z5 Z6 Z7]\n"
     ]
    }
   ],
   "source": [
    "qwc = remove_complex(uqwc * comm_groups[1] * uqwc)\n",
    "print(qwc)"
   ]
  },
  {
   "cell_type": "code",
   "execution_count": 138,
   "metadata": {},
   "outputs": [
    {
     "name": "stdout",
     "output_type": "stream",
     "text": [
      "Checking whether U * U^+ is identity: 0.9999999999999996 []\n",
      "\n",
      "The all-z form of qwc fragment:\n",
      "-0.8823205468513678 [] +\n",
      "-0.035257520327649824 [Z0 Z1 Z2 Z3 Z7] +\n",
      "0.035257520327649824 [Z0 Z1 Z2 Z5 Z7] +\n",
      "-0.03405838502249276 [Z0 Z3] +\n",
      "-0.03405838502251352 [Z0 Z5] +\n",
      "-0.03405838502249276 [Z1 Z2 Z3] +\n",
      "-0.035257520327649824 [Z1 Z2 Z3 Z4 Z7] +\n",
      "-0.035257520327649824 [Z1 Z2 Z3 Z6] +\n",
      "0.035257520327649824 [Z1 Z2 Z5 Z6] +\n",
      "-0.03405838502251352 [Z1 Z4 Z5] +\n",
      "0.035257520327649824 [Z1 Z5 Z7] +\n",
      "-0.035257520327649824 [Z2 Z3 Z4 Z6] +\n",
      "0.03827976789253173 [Z2 Z3 Z6 Z7] +\n",
      "0.03827976789253173 [Z3 Z6 Z7] +\n",
      "0.03827976789251079 [Z4 Z5 Z6 Z7] +\n",
      "0.035257520327649824 [Z5 Z6] +\n",
      "0.03827976789251079 [Z5 Z6 Z7]\n"
     ]
    }
   ],
   "source": [
    "uz = get_zform_unitary(qwc)\n",
    "print(\"Checking whether U * U^+ is identity: {}\".format(uz * uz))\n",
    "\n",
    "allz = remove_complex(uz * qwc * uz)\n",
    "print(\"\\nThe all-z form of qwc fragment:\\n{}\".format(allz))"
   ]
  },
  {
   "cell_type": "markdown",
   "metadata": {},
   "source": [
    "## Step 5: Circuits"
   ]
  },
  {
   "cell_type": "code",
   "execution_count": 30,
   "metadata": {},
   "outputs": [
    {
     "name": "stdout",
     "output_type": "stream",
     "text": [
      "Grouping gradient magnitudes (Grouping : Gradient magnitude):\n",
      "1 : 0.1575\n",
      "2 : 0.1492\n",
      "3 : 0.1492\n",
      "4 : 0.1435\n",
      "5 : 0.1135\n",
      "6 : 0.1117\n",
      "7 : 0.1117\n",
      "8 : 0.11\n",
      "9 : 0.0375\n",
      "10 : 0.0375\n",
      "\n",
      "Selected entanglers:\n",
      "1.0 [X2 Y3 X6 X7]\n"
     ]
    }
   ],
   "source": [
    "hf_reference = hf_occ(2*h4_tq.n_orbitals, h4_tq.n_electrons)\n",
    "\n",
    "#Define number of entanglers to enter ansatz\n",
    "n_ents = 1\n",
    "\n",
    "#Rank entanglers using energy gradient criterion\n",
    "ranked_entangler_groupings = generate_QCC_gradient_groupings(H.to_openfermion(), \n",
    "                                                             2*h4_tq.n_orbitals, \n",
    "                                                             hf_reference, \n",
    "                                                             cutoff=threshold)\n",
    "\n",
    "print('Grouping gradient magnitudes (Grouping : Gradient magnitude):')\n",
    "for i in range(len(ranked_entangler_groupings)):\n",
    "    print('{} : {}'.format(i+1,ranked_entangler_groupings[i][1]))\n",
    "\n",
    "\n",
    "entanglers = get_QCC_entanglers(ranked_entangler_groupings, n_ents, 2*h4_tq.n_orbitals)\n",
    "\n",
    "print('\\nSelected entanglers:')\n",
    "for ent in entanglers:\n",
    "    print(ent)"
   ]
  },
  {
   "cell_type": "code",
   "execution_count": 107,
   "metadata": {},
   "outputs": [
    {
     "name": "stdout",
     "output_type": "stream",
     "text": [
      "Optimizer: <class 'tequila.optimizers.optimizer_scipy.OptimizerSciPy'> \n",
      "backend         : qulacs\n",
      "samples         : None\n",
      "save_history    : True\n",
      "noise           : None\n",
      "\n",
      "Method          : BFGS\n",
      "Objective       : 1 expectationvalues\n",
      "gradient        : 34 expectationvalues\n",
      "\n",
      "active variables : 17\n",
      "\n",
      "E=-1.54125526  angles= {beta_0: 3.141592653589793, gamma_0: 0.0, beta_1: 3.141592653589793, gamma_1: 0.0, beta_2: 3.141592653589793, gamma_2: 0.0, beta_3: 3.141592653589793, gamma_3: 0.0, beta_4: 0.0, gamma_4: 0.0, beta_5: 0.0, gamma_5: 0.0, beta_6: 0.0, gamma_6: 0.0, beta_7: 0.0, gamma_7: 0.0, tau_0: 0.0}  samples= None\n",
      "E=-1.56411492  angles= {beta_0: 3.141592653589793, gamma_0: 0.0, beta_1: 3.141592653589793, gamma_1: 0.0, beta_2: 3.141592653589793, gamma_2: 0.0, beta_3: 3.141592653589793, gamma_3: 0.0, beta_4: 0.0, gamma_4: 0.0, beta_5: 0.0, gamma_5: 0.0, beta_6: 0.0, gamma_6: 0.0, beta_7: 0.0, gamma_7: 0.0, tau_0: 0.15751802921295166}  samples= None\n",
      "E=-1.59894352  angles= {beta_0: 3.141592653589793, gamma_0: 0.0, beta_1: 3.141592653589793, gamma_1: 0.0, beta_2: 3.141592653589793, gamma_2: 0.0, beta_3: 3.141592653589793, gamma_3: 0.0, beta_4: 0.0, gamma_4: 0.0, beta_5: 0.0, gamma_5: 0.0, beta_6: 0.0, gamma_6: 0.0, beta_7: 0.0, gamma_7: 0.0, tau_0: 0.5069966466067445}  samples= None\n",
      "E=-1.60881637  angles= {beta_0: 3.141592653589793, gamma_0: 0.0, beta_1: 3.141592653589793, gamma_1: 0.0, beta_2: 3.1415925360000374, gamma_2: 0.0, beta_3: 3.1415925360000374, gamma_3: 0.0, beta_4: 0.0, gamma_4: 0.0, beta_5: 0.0, gamma_5: 0.0, beta_6: 0.0, gamma_6: 0.0, beta_7: 0.0, gamma_7: 0.0, tau_0: 0.8469794853618022}  samples= None\n",
      "E=-1.60895070  angles= {beta_0: 3.141592653589793, gamma_0: 0.0, beta_1: 3.141592653589793, gamma_1: 0.0, beta_2: 3.141592542083544, gamma_2: 0.0, beta_3: 3.141592542083544, gamma_3: 0.0, beta_4: 0.0, gamma_4: 0.0, beta_5: 0.0, gamma_5: 0.0, beta_6: 0.0, gamma_6: 0.0, beta_7: 0.0, gamma_7: 0.0, tau_0: 0.8113101925402436}  samples= None\n",
      "E=-1.60895073  angles= {beta_0: 3.141592653589793, gamma_0: 0.0, beta_1: 3.141592653589793, gamma_1: 0.0, beta_2: 3.141592542000603, gamma_2: 0.0, beta_3: 3.141592542000603, gamma_3: 0.0, beta_4: 0.0, gamma_4: 0.0, beta_5: 0.0, gamma_5: 0.0, beta_6: 0.0, gamma_6: 0.0, beta_7: 0.0, gamma_7: 0.0, tau_0: 0.8117964996241631}  samples= None\n",
      "Optimization terminated successfully.\n",
      "         Current function value: -1.608951\n",
      "         Iterations: 5\n",
      "         Function evaluations: 6\n",
      "         Gradient evaluations: 6\n",
      "\n",
      "Obtained QCC energy (1 entanglers): -1.6089507283119515\n"
     ]
    }
   ],
   "source": [
    "#Mean-field part of U (Omega):    \n",
    "U_MF = construct_QMF_ansatz(n_qubits = 2*h4_tq.n_orbitals)\n",
    "#Entangling part of U:\n",
    "U_ENT = construct_QCC_ansatz(entanglers)\n",
    "\n",
    "U_QCC = U_MF + U_ENT\n",
    "\n",
    "E = tq.ExpectationValue(H=H, U=U_QCC)\n",
    "\n",
    "initial_vals = init_qcc_params(hf_reference, E.extract_variables())\n",
    "\n",
    "#Minimize wrt the entangler amplitude and MF angles:\n",
    "result = tq.minimize(objective=E, method=\"BFGS\", initial_values=initial_vals, tol=1.e-6)\n",
    "\n",
    "print('\\nObtained QCC energy ({} entanglers): {}'.format(len(entanglers), result.energy))"
   ]
  },
  {
   "cell_type": "code",
   "execution_count": 110,
   "metadata": {},
   "outputs": [
    {
     "name": "stdout",
     "output_type": "stream",
     "text": [
      "entanglers [1.0 [X2 Y3 X6 X7]]\n",
      "circuit: \n",
      "Exp-Pauli(target=(2, 3, 6, 7), control=(), parameter=tau_0, paulistring=X(2)Y(3)X(6)X(7))\n",
      "\n",
      "a: tau_0\n",
      "circuit: \n",
      "Rx(target=(0,), parameter=beta_0)\n",
      "Rz(target=(0,), parameter=gamma_0)\n",
      "Rx(target=(1,), parameter=beta_1)\n",
      "Rz(target=(1,), parameter=gamma_1)\n",
      "Rx(target=(2,), parameter=beta_2)\n",
      "Rz(target=(2,), parameter=gamma_2)\n",
      "Rx(target=(3,), parameter=beta_3)\n",
      "Rz(target=(3,), parameter=gamma_3)\n",
      "Rx(target=(4,), parameter=beta_4)\n",
      "Rz(target=(4,), parameter=gamma_4)\n",
      "Rx(target=(5,), parameter=beta_5)\n",
      "Rz(target=(5,), parameter=gamma_5)\n",
      "Rx(target=(6,), parameter=beta_6)\n",
      "Rz(target=(6,), parameter=gamma_6)\n",
      "Rx(target=(7,), parameter=beta_7)\n",
      "Rz(target=(7,), parameter=gamma_7)\n",
      "Exp-Pauli(target=(2, 3, 6, 7), control=(), parameter=tau_0, paulistring=X(2)Y(3)X(6)X(7))\n",
      "\n"
     ]
    }
   ],
   "source": [
    "H = tq.QubitHamiltonian.from_openfermion(get_qubit_hamiltonian('h4', 2, 'sto-3g', qubit_transf='jw'))\n",
    "print(\"entanglers\", entanglers)\n",
    "print(construct_QCC_ansatz(entanglers))\n",
    "\n",
    "a = tq.Variable(\"tau_0\")\n",
    "print(\"a:\", a)\n",
    "U = construct_QMF_ansatz(8)\n",
    "#hardcoding the entanglers\n",
    "U += tq.gates.ExpPauli(paulistring=tq.PauliString.from_string(\"X(2)Y(3)X(6)X(7)\"), angle=a)\n",
    "print(U)"
   ]
  },
  {
   "cell_type": "code",
   "execution_count": 114,
   "metadata": {},
   "outputs": [
    {
     "name": "stdout",
     "output_type": "stream",
     "text": [
      "-1.6089507283119502\n"
     ]
    }
   ],
   "source": [
    "E = tq.ExpectationValue(H=H, U=U)\n",
    "vars = {'beta_0': 3.141592653589793, 'gamma_0': 0.0, 'beta_1': 3.141592653589793, 'gamma_1': 0.0, 'beta_2': 3.141592542000603, 'gamma_2': 0.0, 'beta_3': 3.141592542000603, 'gamma_3': 0.0, 'beta_4': 0.0, 'gamma_4': 0.0, 'beta_5': 0.0, 'gamma_5': 0.0, 'beta_6': 0.0, 'gamma_6': 0.0, 'beta_7': 0.0, 'gamma_7': 0.0, 'tau_0': 0.8117964996241631} # values obtained from step 3\n",
    "print(tq.simulate(E, variables=vars))"
   ]
  },
  {
   "cell_type": "code",
   "execution_count": 133,
   "metadata": {},
   "outputs": [
    {
     "name": "stderr",
     "output_type": "stream",
     "text": [
      "configrc.store_credentials:WARNING:2020-07-18 20:28:13,276: Credentials already present. Set overwrite=True to overwrite.\n"
     ]
    }
   ],
   "source": [
    "from qiskit import IBMQ\n",
    "IBMQ.save_account('6f1ae0f74f3b670c62a6a7427dc22eb12f9d6eaa47e5d264218990c42e2593d029d53a92ee9260ce05f0daf11d87a8b1a1114637c90ae648bfabeddca94ae087')\n",
    "#IBMQ.enable_account('6f1ae0f74f3b670c62a6a7427dc22eb12f9d6eaa47e5d264218990c42e2593d029d53a92ee9260ce05f0daf11d87a8b1a1114637c90ae648bfabeddca94ae087')"
   ]
  },
  {
   "cell_type": "code",
   "execution_count": 134,
   "metadata": {},
   "outputs": [
    {
     "ename": "KeyboardInterrupt",
     "evalue": "",
     "output_type": "error",
     "traceback": [
      "\u001b[0;31m---------------------------------------------------------------------------\u001b[0m",
      "\u001b[0;31mKeyboardInterrupt\u001b[0m                         Traceback (most recent call last)",
      "\u001b[0;32m<ipython-input-134-f99a771ca7e6>\u001b[0m in \u001b[0;36m<module>\u001b[0;34m\u001b[0m\n\u001b[1;32m      2\u001b[0m \u001b[0mprovider\u001b[0m \u001b[0;34m=\u001b[0m \u001b[0mIBMQ\u001b[0m\u001b[0;34m.\u001b[0m\u001b[0mget_provider\u001b[0m\u001b[0;34m(\u001b[0m\u001b[0mhub\u001b[0m\u001b[0;34m=\u001b[0m\u001b[0;34m'ibm-q'\u001b[0m\u001b[0;34m,\u001b[0m \u001b[0mgroup\u001b[0m\u001b[0;34m=\u001b[0m\u001b[0;34m'open'\u001b[0m\u001b[0;34m,\u001b[0m \u001b[0mproject\u001b[0m\u001b[0;34m=\u001b[0m\u001b[0;34m'main'\u001b[0m\u001b[0;34m)\u001b[0m\u001b[0;34m\u001b[0m\u001b[0;34m\u001b[0m\u001b[0m\n\u001b[1;32m      3\u001b[0m \u001b[0mdevice\u001b[0m \u001b[0;34m=\u001b[0m \u001b[0mprovider\u001b[0m\u001b[0;34m.\u001b[0m\u001b[0mget_backend\u001b[0m\u001b[0;34m(\u001b[0m\u001b[0;34m'ibmq_qasm_simulator'\u001b[0m\u001b[0;34m)\u001b[0m\u001b[0;34m\u001b[0m\u001b[0;34m\u001b[0m\u001b[0m\n\u001b[0;32m----> 4\u001b[0;31m \u001b[0mtq\u001b[0m\u001b[0;34m.\u001b[0m\u001b[0msimulate\u001b[0m\u001b[0;34m(\u001b[0m\u001b[0mE\u001b[0m\u001b[0;34m,\u001b[0m \u001b[0mvariables\u001b[0m\u001b[0;34m=\u001b[0m\u001b[0mvars\u001b[0m\u001b[0;34m,\u001b[0m \u001b[0msamples\u001b[0m\u001b[0;34m=\u001b[0m\u001b[0;36m100\u001b[0m\u001b[0;34m,\u001b[0m \u001b[0mbackend\u001b[0m\u001b[0;34m=\u001b[0m\u001b[0;34m\"qiskit\"\u001b[0m\u001b[0;34m,\u001b[0m \u001b[0mdevice\u001b[0m\u001b[0;34m=\u001b[0m\u001b[0mdevice\u001b[0m\u001b[0;34m)\u001b[0m\u001b[0;31m#,qiskit_provider = provider)\u001b[0m\u001b[0;34m\u001b[0m\u001b[0;34m\u001b[0m\u001b[0m\n\u001b[0m",
      "\u001b[0;32m~/tequila3/tequila/src/tequila/simulators/simulator_api.py\u001b[0m in \u001b[0;36msimulate\u001b[0;34m(objective, variables, samples, backend, noise, device, *args, **kwargs)\u001b[0m\n\u001b[1;32m    374\u001b[0m                                  noise=noise,device=device, *args, **kwargs)\n\u001b[1;32m    375\u001b[0m \u001b[0;34m\u001b[0m\u001b[0m\n\u001b[0;32m--> 376\u001b[0;31m     \u001b[0;32mreturn\u001b[0m \u001b[0mcompiled_objective\u001b[0m\u001b[0;34m(\u001b[0m\u001b[0mvariables\u001b[0m\u001b[0;34m=\u001b[0m\u001b[0mvariables\u001b[0m\u001b[0;34m,\u001b[0m \u001b[0msamples\u001b[0m\u001b[0;34m=\u001b[0m\u001b[0msamples\u001b[0m\u001b[0;34m,\u001b[0m \u001b[0;34m*\u001b[0m\u001b[0margs\u001b[0m\u001b[0;34m,\u001b[0m \u001b[0;34m**\u001b[0m\u001b[0mkwargs\u001b[0m\u001b[0;34m)\u001b[0m\u001b[0;34m\u001b[0m\u001b[0;34m\u001b[0m\u001b[0m\n\u001b[0m\u001b[1;32m    377\u001b[0m \u001b[0;34m\u001b[0m\u001b[0m\n\u001b[1;32m    378\u001b[0m \u001b[0;34m\u001b[0m\u001b[0m\n",
      "\u001b[0;32m~/tequila3/tequila/src/tequila/objective/objective.py\u001b[0m in \u001b[0;36m__call__\u001b[0;34m(self, variables, *args, **kwargs)\u001b[0m\n\u001b[1;32m    465\u001b[0m         \u001b[0;32mfor\u001b[0m \u001b[0mE\u001b[0m \u001b[0;32min\u001b[0m \u001b[0mself\u001b[0m\u001b[0;34m.\u001b[0m\u001b[0margs\u001b[0m\u001b[0;34m:\u001b[0m\u001b[0;34m\u001b[0m\u001b[0;34m\u001b[0m\u001b[0m\n\u001b[1;32m    466\u001b[0m             \u001b[0;32mif\u001b[0m \u001b[0mE\u001b[0m \u001b[0;32mnot\u001b[0m \u001b[0;32min\u001b[0m \u001b[0mevaluated\u001b[0m\u001b[0;34m:\u001b[0m\u001b[0;34m\u001b[0m\u001b[0;34m\u001b[0m\u001b[0m\n\u001b[0;32m--> 467\u001b[0;31m                 \u001b[0mexpval_result\u001b[0m \u001b[0;34m=\u001b[0m \u001b[0mE\u001b[0m\u001b[0;34m(\u001b[0m\u001b[0mvariables\u001b[0m\u001b[0;34m=\u001b[0m\u001b[0mvariables\u001b[0m\u001b[0;34m,\u001b[0m \u001b[0;34m*\u001b[0m\u001b[0margs\u001b[0m\u001b[0;34m,\u001b[0m \u001b[0;34m**\u001b[0m\u001b[0mkwargs\u001b[0m\u001b[0;34m)\u001b[0m\u001b[0;34m\u001b[0m\u001b[0;34m\u001b[0m\u001b[0m\n\u001b[0m\u001b[1;32m    468\u001b[0m                 \u001b[0mevaluated\u001b[0m\u001b[0;34m[\u001b[0m\u001b[0mE\u001b[0m\u001b[0;34m]\u001b[0m \u001b[0;34m=\u001b[0m \u001b[0mexpval_result\u001b[0m\u001b[0;34m\u001b[0m\u001b[0;34m\u001b[0m\u001b[0m\n\u001b[1;32m    469\u001b[0m             \u001b[0;32melse\u001b[0m\u001b[0;34m:\u001b[0m\u001b[0;34m\u001b[0m\u001b[0;34m\u001b[0m\u001b[0m\n",
      "\u001b[0;32m~/tequila3/tequila/src/tequila/simulators/simulator_base.py\u001b[0m in \u001b[0;36m__call__\u001b[0;34m(self, variables, samples, *args, **kwargs)\u001b[0m\n\u001b[1;32m    657\u001b[0m             \u001b[0mdata\u001b[0m \u001b[0;34m=\u001b[0m \u001b[0mself\u001b[0m\u001b[0;34m.\u001b[0m\u001b[0msimulate\u001b[0m\u001b[0;34m(\u001b[0m\u001b[0mvariables\u001b[0m\u001b[0;34m=\u001b[0m\u001b[0mvariables\u001b[0m\u001b[0;34m,\u001b[0m \u001b[0;34m*\u001b[0m\u001b[0margs\u001b[0m\u001b[0;34m,\u001b[0m \u001b[0;34m**\u001b[0m\u001b[0mkwargs\u001b[0m\u001b[0;34m)\u001b[0m\u001b[0;34m\u001b[0m\u001b[0;34m\u001b[0m\u001b[0m\n\u001b[1;32m    658\u001b[0m         \u001b[0;32melse\u001b[0m\u001b[0;34m:\u001b[0m\u001b[0;34m\u001b[0m\u001b[0;34m\u001b[0m\u001b[0m\n\u001b[0;32m--> 659\u001b[0;31m             \u001b[0mdata\u001b[0m \u001b[0;34m=\u001b[0m \u001b[0mself\u001b[0m\u001b[0;34m.\u001b[0m\u001b[0msample\u001b[0m\u001b[0;34m(\u001b[0m\u001b[0mvariables\u001b[0m\u001b[0;34m=\u001b[0m\u001b[0mvariables\u001b[0m\u001b[0;34m,\u001b[0m \u001b[0msamples\u001b[0m\u001b[0;34m=\u001b[0m\u001b[0msamples\u001b[0m\u001b[0;34m,\u001b[0m \u001b[0;34m*\u001b[0m\u001b[0margs\u001b[0m\u001b[0;34m,\u001b[0m \u001b[0;34m**\u001b[0m\u001b[0mkwargs\u001b[0m\u001b[0;34m)\u001b[0m\u001b[0;34m\u001b[0m\u001b[0;34m\u001b[0m\u001b[0m\n\u001b[0m\u001b[1;32m    660\u001b[0m \u001b[0;34m\u001b[0m\u001b[0m\n\u001b[1;32m    661\u001b[0m         \u001b[0;32mif\u001b[0m \u001b[0mself\u001b[0m\u001b[0;34m.\u001b[0m\u001b[0m_shape\u001b[0m \u001b[0;32mis\u001b[0m \u001b[0;32mNone\u001b[0m \u001b[0;32mand\u001b[0m \u001b[0mself\u001b[0m\u001b[0;34m.\u001b[0m\u001b[0m_contraction\u001b[0m \u001b[0;32mis\u001b[0m \u001b[0;32mNone\u001b[0m\u001b[0;34m:\u001b[0m\u001b[0;34m\u001b[0m\u001b[0;34m\u001b[0m\u001b[0m\n",
      "\u001b[0;32m~/tequila3/tequila/src/tequila/simulators/simulator_base.py\u001b[0m in \u001b[0;36msample\u001b[0;34m(self, variables, samples, *args, **kwargs)\u001b[0m\n\u001b[1;32m    710\u001b[0m             \u001b[0;32melse\u001b[0m\u001b[0;34m:\u001b[0m\u001b[0;34m\u001b[0m\u001b[0;34m\u001b[0m\u001b[0m\n\u001b[1;32m    711\u001b[0m                 \u001b[0;32mfor\u001b[0m \u001b[0mps\u001b[0m \u001b[0;32min\u001b[0m \u001b[0mH\u001b[0m\u001b[0;34m.\u001b[0m\u001b[0mpaulistrings\u001b[0m\u001b[0;34m:\u001b[0m\u001b[0;34m\u001b[0m\u001b[0;34m\u001b[0m\u001b[0m\n\u001b[0;32m--> 712\u001b[0;31m                     \u001b[0mE\u001b[0m \u001b[0;34m+=\u001b[0m \u001b[0mself\u001b[0m\u001b[0;34m.\u001b[0m\u001b[0msample_paulistring\u001b[0m\u001b[0;34m(\u001b[0m\u001b[0msamples\u001b[0m\u001b[0;34m=\u001b[0m\u001b[0msamples\u001b[0m\u001b[0;34m,\u001b[0m \u001b[0mpaulistring\u001b[0m\u001b[0;34m=\u001b[0m\u001b[0mps\u001b[0m\u001b[0;34m,\u001b[0m \u001b[0;34m*\u001b[0m\u001b[0margs\u001b[0m\u001b[0;34m,\u001b[0m \u001b[0;34m**\u001b[0m\u001b[0mkwargs\u001b[0m\u001b[0;34m)\u001b[0m\u001b[0;34m\u001b[0m\u001b[0;34m\u001b[0m\u001b[0m\n\u001b[0m\u001b[1;32m    713\u001b[0m             \u001b[0mresult\u001b[0m\u001b[0;34m.\u001b[0m\u001b[0mappend\u001b[0m\u001b[0;34m(\u001b[0m\u001b[0mto_float\u001b[0m\u001b[0;34m(\u001b[0m\u001b[0mE\u001b[0m\u001b[0;34m)\u001b[0m\u001b[0;34m)\u001b[0m\u001b[0;34m\u001b[0m\u001b[0;34m\u001b[0m\u001b[0m\n\u001b[1;32m    714\u001b[0m         \u001b[0;32mreturn\u001b[0m \u001b[0mnumpy\u001b[0m\u001b[0;34m.\u001b[0m\u001b[0masarray\u001b[0m\u001b[0;34m(\u001b[0m\u001b[0mresult\u001b[0m\u001b[0;34m)\u001b[0m\u001b[0;34m\u001b[0m\u001b[0;34m\u001b[0m\u001b[0m\n",
      "\u001b[0;32m~/tequila3/tequila/src/tequila/simulators/simulator_base.py\u001b[0m in \u001b[0;36msample_paulistring\u001b[0;34m(self, samples, paulistring, *args, **kwargs)\u001b[0m\n\u001b[1;32m    775\u001b[0m         \"\"\"\n\u001b[1;32m    776\u001b[0m \u001b[0;34m\u001b[0m\u001b[0m\n\u001b[0;32m--> 777\u001b[0;31m         \u001b[0;32mreturn\u001b[0m \u001b[0mself\u001b[0m\u001b[0;34m.\u001b[0m\u001b[0mU\u001b[0m\u001b[0;34m.\u001b[0m\u001b[0msample_paulistring\u001b[0m\u001b[0;34m(\u001b[0m\u001b[0msamples\u001b[0m\u001b[0;34m=\u001b[0m\u001b[0msamples\u001b[0m\u001b[0;34m,\u001b[0m \u001b[0mpaulistring\u001b[0m\u001b[0;34m=\u001b[0m\u001b[0mpaulistring\u001b[0m\u001b[0;34m,\u001b[0m\u001b[0;34m*\u001b[0m\u001b[0margs\u001b[0m\u001b[0;34m,\u001b[0m\u001b[0;34m**\u001b[0m\u001b[0mkwargs\u001b[0m\u001b[0;34m)\u001b[0m\u001b[0;34m\u001b[0m\u001b[0;34m\u001b[0m\u001b[0m\n\u001b[0m",
      "\u001b[0;32m~/tequila3/tequila/src/tequila/simulators/simulator_base.py\u001b[0m in \u001b[0;36msample_paulistring\u001b[0;34m(self, samples, paulistring, *args, **kwargs)\u001b[0m\n\u001b[1;32m    424\u001b[0m             \u001b[0mcircuit\u001b[0m \u001b[0;34m=\u001b[0m \u001b[0mself\u001b[0m\u001b[0;34m.\u001b[0m\u001b[0mcircuit\u001b[0m \u001b[0;34m+\u001b[0m \u001b[0mself\u001b[0m\u001b[0;34m.\u001b[0m\u001b[0mcreate_circuit\u001b[0m\u001b[0;34m(\u001b[0m\u001b[0mbasis_change\u001b[0m \u001b[0;34m+\u001b[0m \u001b[0mmeasure\u001b[0m\u001b[0;34m)\u001b[0m\u001b[0;34m\u001b[0m\u001b[0;34m\u001b[0m\u001b[0m\n\u001b[1;32m    425\u001b[0m             \u001b[0;31m# run simulators\u001b[0m\u001b[0;34m\u001b[0m\u001b[0;34m\u001b[0m\u001b[0;34m\u001b[0m\u001b[0m\n\u001b[0;32m--> 426\u001b[0;31m             \u001b[0mcounts\u001b[0m \u001b[0;34m=\u001b[0m \u001b[0mself\u001b[0m\u001b[0;34m.\u001b[0m\u001b[0mdo_sample\u001b[0m\u001b[0;34m(\u001b[0m\u001b[0msamples\u001b[0m\u001b[0;34m=\u001b[0m\u001b[0msamples\u001b[0m\u001b[0;34m,\u001b[0m \u001b[0mcircuit\u001b[0m\u001b[0;34m=\u001b[0m\u001b[0mcircuit\u001b[0m\u001b[0;34m,\u001b[0m \u001b[0;34m*\u001b[0m\u001b[0margs\u001b[0m\u001b[0;34m,\u001b[0m \u001b[0;34m**\u001b[0m\u001b[0mkwargs\u001b[0m\u001b[0;34m)\u001b[0m\u001b[0;34m\u001b[0m\u001b[0;34m\u001b[0m\u001b[0m\n\u001b[0m\u001b[1;32m    427\u001b[0m             \u001b[0;31m# compute energy\u001b[0m\u001b[0;34m\u001b[0m\u001b[0;34m\u001b[0m\u001b[0;34m\u001b[0m\u001b[0m\n\u001b[1;32m    428\u001b[0m             \u001b[0mE\u001b[0m \u001b[0;34m=\u001b[0m \u001b[0;36m0.0\u001b[0m\u001b[0;34m\u001b[0m\u001b[0;34m\u001b[0m\u001b[0m\n",
      "\u001b[0;32m~/tequila3/tequila/src/tequila/simulators/simulator_qiskit.py\u001b[0m in \u001b[0;36mdo_sample\u001b[0;34m(self, circuit, samples, *args, **kwargs)\u001b[0m\n\u001b[1;32m    279\u001b[0m                                                             \u001b[0moptimization_level\u001b[0m\u001b[0;34m=\u001b[0m\u001b[0moptimization_level\u001b[0m\u001b[0;34m,\u001b[0m\u001b[0;34m\u001b[0m\u001b[0;34m\u001b[0m\u001b[0m\n\u001b[1;32m    280\u001b[0m                                                             \u001b[0mnoise_model\u001b[0m\u001b[0;34m=\u001b[0m\u001b[0mself\u001b[0m\u001b[0;34m.\u001b[0m\u001b[0mnoise_model\u001b[0m\u001b[0;34m,\u001b[0m\u001b[0;34m\u001b[0m\u001b[0;34m\u001b[0m\u001b[0m\n\u001b[0;32m--> 281\u001b[0;31m                                                             parameter_binds=[self.resolver]))\n\u001b[0m\u001b[1;32m    282\u001b[0m         \u001b[0;32melse\u001b[0m\u001b[0;34m:\u001b[0m\u001b[0;34m\u001b[0m\u001b[0;34m\u001b[0m\u001b[0m\n\u001b[1;32m    283\u001b[0m             \u001b[0;32mif\u001b[0m \u001b[0misinstance\u001b[0m\u001b[0;34m(\u001b[0m\u001b[0mqiskit_backend\u001b[0m\u001b[0;34m,\u001b[0m\u001b[0mqiskit\u001b[0m\u001b[0;34m.\u001b[0m\u001b[0mtest\u001b[0m\u001b[0;34m.\u001b[0m\u001b[0mmock\u001b[0m\u001b[0;34m.\u001b[0m\u001b[0mFakeBackend\u001b[0m\u001b[0;34m)\u001b[0m\u001b[0;34m:\u001b[0m\u001b[0;34m\u001b[0m\u001b[0;34m\u001b[0m\u001b[0m\n",
      "\u001b[0;32m~/tequila3/tequila/src/tequila/simulators/simulator_qiskit.py\u001b[0m in \u001b[0;36mconvert_measurements\u001b[0;34m(self, backend_result)\u001b[0m\n\u001b[1;32m    312\u001b[0m             \u001b[0mmeasurements\u001b[0m \u001b[0mconverted\u001b[0m \u001b[0minto\u001b[0m \u001b[0mwave\u001b[0m \u001b[0mfunction\u001b[0m \u001b[0mform\u001b[0m\u001b[0;34m.\u001b[0m\u001b[0;34m\u001b[0m\u001b[0;34m\u001b[0m\u001b[0m\n\u001b[1;32m    313\u001b[0m         \"\"\"\n\u001b[0;32m--> 314\u001b[0;31m         \u001b[0mqiskit_counts\u001b[0m \u001b[0;34m=\u001b[0m \u001b[0mbackend_result\u001b[0m\u001b[0;34m.\u001b[0m\u001b[0mresult\u001b[0m\u001b[0;34m(\u001b[0m\u001b[0;34m)\u001b[0m\u001b[0;34m.\u001b[0m\u001b[0mget_counts\u001b[0m\u001b[0;34m(\u001b[0m\u001b[0;34m)\u001b[0m\u001b[0;34m\u001b[0m\u001b[0;34m\u001b[0m\u001b[0m\n\u001b[0m\u001b[1;32m    315\u001b[0m         \u001b[0mresult\u001b[0m \u001b[0;34m=\u001b[0m \u001b[0mQubitWaveFunction\u001b[0m\u001b[0;34m(\u001b[0m\u001b[0;34m)\u001b[0m\u001b[0;34m\u001b[0m\u001b[0;34m\u001b[0m\u001b[0m\n\u001b[1;32m    316\u001b[0m         \u001b[0;31m# todo there are faster ways\u001b[0m\u001b[0;34m\u001b[0m\u001b[0;34m\u001b[0m\u001b[0;34m\u001b[0m\u001b[0m\n",
      "\u001b[0;32m~/anaconda3/envs/tq2/lib/python3.7/site-packages/qiskit/providers/ibmq/job/ibmqjob.py\u001b[0m in \u001b[0;36mresult\u001b[0;34m(self, timeout, wait, partial, refresh)\u001b[0m\n\u001b[1;32m    264\u001b[0m         \u001b[0;31m# pylint: disable=arguments-differ\u001b[0m\u001b[0;34m\u001b[0m\u001b[0;34m\u001b[0m\u001b[0;34m\u001b[0m\u001b[0m\n\u001b[1;32m    265\u001b[0m         if not self._wait_for_completion(timeout=timeout, wait=wait,\n\u001b[0;32m--> 266\u001b[0;31m                                          required_status=(JobStatus.DONE,)):\n\u001b[0m\u001b[1;32m    267\u001b[0m             \u001b[0;32mif\u001b[0m \u001b[0mself\u001b[0m\u001b[0;34m.\u001b[0m\u001b[0m_status\u001b[0m \u001b[0;32mis\u001b[0m \u001b[0mJobStatus\u001b[0m\u001b[0;34m.\u001b[0m\u001b[0mCANCELLED\u001b[0m\u001b[0;34m:\u001b[0m\u001b[0;34m\u001b[0m\u001b[0;34m\u001b[0m\u001b[0m\n\u001b[1;32m    268\u001b[0m                 raise IBMQJobInvalidStateError('Unable to retrieve result for job {}. '\n",
      "\u001b[0;32m~/anaconda3/envs/tq2/lib/python3.7/site-packages/qiskit/providers/ibmq/job/ibmqjob.py\u001b[0m in \u001b[0;36m_wait_for_completion\u001b[0;34m(self, timeout, wait, required_status, status_queue)\u001b[0m\n\u001b[1;32m    815\u001b[0m         \u001b[0;32mtry\u001b[0m\u001b[0;34m:\u001b[0m\u001b[0;34m\u001b[0m\u001b[0;34m\u001b[0m\u001b[0m\n\u001b[1;32m    816\u001b[0m             status_response = self._api.job_final_status(\n\u001b[0;32m--> 817\u001b[0;31m                 self.job_id(), timeout=timeout, wait=wait, status_queue=status_queue)\n\u001b[0m\u001b[1;32m    818\u001b[0m         \u001b[0;32mexcept\u001b[0m \u001b[0mUserTimeoutExceededError\u001b[0m\u001b[0;34m:\u001b[0m\u001b[0;34m\u001b[0m\u001b[0;34m\u001b[0m\u001b[0m\n\u001b[1;32m    819\u001b[0m             raise IBMQJobTimeoutError(\n",
      "\u001b[0;32m~/anaconda3/envs/tq2/lib/python3.7/site-packages/qiskit/providers/ibmq/api/clients/account.py\u001b[0m in \u001b[0;36mjob_final_status\u001b[0;34m(self, job_id, timeout, wait, status_queue)\u001b[0m\n\u001b[1;32m    331\u001b[0m             \u001b[0;32mtry\u001b[0m\u001b[0;34m:\u001b[0m\u001b[0;34m\u001b[0m\u001b[0;34m\u001b[0m\u001b[0m\n\u001b[1;32m    332\u001b[0m                 status_response = self._job_final_status_websocket(\n\u001b[0;32m--> 333\u001b[0;31m                     job_id=job_id, timeout=timeout, status_queue=status_queue)\n\u001b[0m\u001b[1;32m    334\u001b[0m             \u001b[0;32mexcept\u001b[0m \u001b[0mWebsocketTimeoutError\u001b[0m \u001b[0;32mas\u001b[0m \u001b[0mex\u001b[0m\u001b[0;34m:\u001b[0m\u001b[0;34m\u001b[0m\u001b[0;34m\u001b[0m\u001b[0m\n\u001b[1;32m    335\u001b[0m                 logger.info('Timeout checking job status using websocket, '\n",
      "\u001b[0;32m~/anaconda3/envs/tq2/lib/python3.7/site-packages/qiskit/providers/ibmq/api/clients/account.py\u001b[0m in \u001b[0;36m_job_final_status_websocket\u001b[0;34m(self, job_id, timeout, status_queue)\u001b[0m\n\u001b[1;32m    383\u001b[0m                 \u001b[0;32mraise\u001b[0m\u001b[0;34m\u001b[0m\u001b[0;34m\u001b[0m\u001b[0m\n\u001b[1;32m    384\u001b[0m         return loop.run_until_complete(\n\u001b[0;32m--> 385\u001b[0;31m             self.client_ws.get_job_status(job_id, timeout=timeout, status_queue=status_queue))\n\u001b[0m\u001b[1;32m    386\u001b[0m \u001b[0;34m\u001b[0m\u001b[0m\n\u001b[1;32m    387\u001b[0m     def _job_final_status_polling(\n",
      "\u001b[0;32m~/anaconda3/envs/tq2/lib/python3.7/site-packages/nest_asyncio.py\u001b[0m in \u001b[0;36mrun_until_complete\u001b[0;34m(self, future)\u001b[0m\n\u001b[1;32m     52\u001b[0m             \u001b[0mf\u001b[0m\u001b[0;34m.\u001b[0m\u001b[0m_log_destroy_pending\u001b[0m \u001b[0;34m=\u001b[0m \u001b[0;32mFalse\u001b[0m\u001b[0;34m\u001b[0m\u001b[0;34m\u001b[0m\u001b[0m\n\u001b[1;32m     53\u001b[0m         \u001b[0;32mwhile\u001b[0m \u001b[0;32mnot\u001b[0m \u001b[0mf\u001b[0m\u001b[0;34m.\u001b[0m\u001b[0mdone\u001b[0m\u001b[0;34m(\u001b[0m\u001b[0;34m)\u001b[0m\u001b[0;34m:\u001b[0m\u001b[0;34m\u001b[0m\u001b[0;34m\u001b[0m\u001b[0m\n\u001b[0;32m---> 54\u001b[0;31m             \u001b[0mself\u001b[0m\u001b[0;34m.\u001b[0m\u001b[0m_run_once\u001b[0m\u001b[0;34m(\u001b[0m\u001b[0;34m)\u001b[0m\u001b[0;34m\u001b[0m\u001b[0;34m\u001b[0m\u001b[0m\n\u001b[0m\u001b[1;32m     55\u001b[0m             \u001b[0;32mif\u001b[0m \u001b[0mself\u001b[0m\u001b[0;34m.\u001b[0m\u001b[0m_stopping\u001b[0m\u001b[0;34m:\u001b[0m\u001b[0;34m\u001b[0m\u001b[0;34m\u001b[0m\u001b[0m\n\u001b[1;32m     56\u001b[0m                 \u001b[0;32mbreak\u001b[0m\u001b[0;34m\u001b[0m\u001b[0;34m\u001b[0m\u001b[0m\n",
      "\u001b[0;32m~/anaconda3/envs/tq2/lib/python3.7/site-packages/nest_asyncio.py\u001b[0m in \u001b[0;36m_run_once\u001b[0;34m(self)\u001b[0m\n\u001b[1;32m     73\u001b[0m             \u001b[0;32melse\u001b[0m \u001b[0mmin\u001b[0m\u001b[0;34m(\u001b[0m\u001b[0mmax\u001b[0m\u001b[0;34m(\u001b[0m\u001b[0;36m0\u001b[0m\u001b[0;34m,\u001b[0m \u001b[0mscheduled\u001b[0m\u001b[0;34m[\u001b[0m\u001b[0;36m0\u001b[0m\u001b[0;34m]\u001b[0m\u001b[0;34m.\u001b[0m\u001b[0m_when\u001b[0m \u001b[0;34m-\u001b[0m \u001b[0mnow\u001b[0m\u001b[0;34m)\u001b[0m\u001b[0;34m,\u001b[0m \u001b[0;36m10\u001b[0m\u001b[0;34m)\u001b[0m \u001b[0;32mif\u001b[0m \u001b[0mscheduled\u001b[0m\u001b[0;31m \u001b[0m\u001b[0;31m\\\u001b[0m\u001b[0;34m\u001b[0m\u001b[0;34m\u001b[0m\u001b[0m\n\u001b[1;32m     74\u001b[0m             \u001b[0;32melse\u001b[0m \u001b[0;32mNone\u001b[0m\u001b[0;34m\u001b[0m\u001b[0;34m\u001b[0m\u001b[0m\n\u001b[0;32m---> 75\u001b[0;31m         \u001b[0mevent_list\u001b[0m \u001b[0;34m=\u001b[0m \u001b[0mself\u001b[0m\u001b[0;34m.\u001b[0m\u001b[0m_selector\u001b[0m\u001b[0;34m.\u001b[0m\u001b[0mselect\u001b[0m\u001b[0;34m(\u001b[0m\u001b[0mtimeout\u001b[0m\u001b[0;34m)\u001b[0m\u001b[0;34m\u001b[0m\u001b[0;34m\u001b[0m\u001b[0m\n\u001b[0m\u001b[1;32m     76\u001b[0m         \u001b[0mself\u001b[0m\u001b[0;34m.\u001b[0m\u001b[0m_process_events\u001b[0m\u001b[0;34m(\u001b[0m\u001b[0mevent_list\u001b[0m\u001b[0;34m)\u001b[0m\u001b[0;34m\u001b[0m\u001b[0;34m\u001b[0m\u001b[0m\n\u001b[1;32m     77\u001b[0m \u001b[0;34m\u001b[0m\u001b[0m\n",
      "\u001b[0;32m~/anaconda3/envs/tq2/lib/python3.7/selectors.py\u001b[0m in \u001b[0;36mselect\u001b[0;34m(self, timeout)\u001b[0m\n\u001b[1;32m    466\u001b[0m             \u001b[0mready\u001b[0m \u001b[0;34m=\u001b[0m \u001b[0;34m[\u001b[0m\u001b[0;34m]\u001b[0m\u001b[0;34m\u001b[0m\u001b[0;34m\u001b[0m\u001b[0m\n\u001b[1;32m    467\u001b[0m             \u001b[0;32mtry\u001b[0m\u001b[0;34m:\u001b[0m\u001b[0;34m\u001b[0m\u001b[0;34m\u001b[0m\u001b[0m\n\u001b[0;32m--> 468\u001b[0;31m                 \u001b[0mfd_event_list\u001b[0m \u001b[0;34m=\u001b[0m \u001b[0mself\u001b[0m\u001b[0;34m.\u001b[0m\u001b[0m_selector\u001b[0m\u001b[0;34m.\u001b[0m\u001b[0mpoll\u001b[0m\u001b[0;34m(\u001b[0m\u001b[0mtimeout\u001b[0m\u001b[0;34m,\u001b[0m \u001b[0mmax_ev\u001b[0m\u001b[0;34m)\u001b[0m\u001b[0;34m\u001b[0m\u001b[0;34m\u001b[0m\u001b[0m\n\u001b[0m\u001b[1;32m    469\u001b[0m             \u001b[0;32mexcept\u001b[0m \u001b[0mInterruptedError\u001b[0m\u001b[0;34m:\u001b[0m\u001b[0;34m\u001b[0m\u001b[0;34m\u001b[0m\u001b[0m\n\u001b[1;32m    470\u001b[0m                 \u001b[0;32mreturn\u001b[0m \u001b[0mready\u001b[0m\u001b[0;34m\u001b[0m\u001b[0;34m\u001b[0m\u001b[0m\n",
      "\u001b[0;31mKeyboardInterrupt\u001b[0m: "
     ]
    }
   ],
   "source": [
    "# list of devices available can be found in ibmq account page\n",
    "provider = IBMQ.get_provider(hub='ibm-q', group='open', project='main')\n",
    "device = provider.get_backend('ibmq_qasm_simulator')\n",
    "tq.simulate(E, variables=vars, samples=100, backend=\"qiskit\", device=device)#,qiskit_provider = provider) "
   ]
  },
  {
   "cell_type": "code",
   "execution_count": 104,
   "metadata": {},
   "outputs": [
    {
     "name": "stdout",
     "output_type": "stream",
     "text": [
      "      ┌────────────────────┐┌─────────────────────┐                            »\n",
      "q_0: ─┤ RX(f((beta_0,))_0) ├┤ RZ(f((gamma_0,))_1) ├────────────────────────────»\n",
      "      ├────────────────────┤├─────────────────────┤                            »\n",
      "q_1: ─┤ RX(f((beta_1,))_2) ├┤ RZ(f((gamma_1,))_3) ├────────────────────────────»\n",
      "      ├────────────────────┤├─────────────────────┤    ┌───┐                   »\n",
      "q_2: ─┤ RX(f((beta_2,))_4) ├┤ RZ(f((gamma_2,))_5) ├────┤ H ├──────■────────────»\n",
      "      ├────────────────────┤├─────────────────────┤ ┌──┴───┴───┐┌─┴─┐          »\n",
      "q_3: ─┤ RX(f((beta_3,))_6) ├┤ RZ(f((gamma_3,))_7) ├─┤ RX(pi/2) ├┤ X ├──■───────»\n",
      "      ├────────────────────┤├─────────────────────┤ └──────────┘└───┘  │       »\n",
      "q_4: ─┤ RX(f((beta_4,))_8) ├┤ RZ(f((gamma_4,))_9) ├────────────────────┼───────»\n",
      "     ┌┴────────────────────┤├─────────────────────┴┐                   │       »\n",
      "q_5: ┤ RX(f((beta_5,))_10) ├┤ RZ(f((gamma_5,))_11) ├───────────────────┼───────»\n",
      "     ├─────────────────────┤├──────────────────────┤   ┌───┐         ┌─┴─┐     »\n",
      "q_6: ┤ RX(f((beta_6,))_12) ├┤ RZ(f((gamma_6,))_13) ├───┤ H ├─────────┤ X ├──■──»\n",
      "     ├─────────────────────┤├──────────────────────┤   ├───┤         └───┘┌─┴─┐»\n",
      "q_7: ┤ RX(f((beta_7,))_14) ├┤ RZ(f((gamma_7,))_15) ├───┤ H ├──────────────┤ X ├»\n",
      "     └─────────────────────┘└──────────────────────┘   └───┘              └───┘»\n",
      "c_0: ══════════════════════════════════════════════════════════════════════════»\n",
      "                                                                               »\n",
      "c_1: ══════════════════════════════════════════════════════════════════════════»\n",
      "                                                                               »\n",
      "c_2: ══════════════════════════════════════════════════════════════════════════»\n",
      "                                                                               »\n",
      "c_3: ══════════════════════════════════════════════════════════════════════════»\n",
      "                                                                               »\n",
      "c_4: ══════════════════════════════════════════════════════════════════════════»\n",
      "                                                                               »\n",
      "c_5: ══════════════════════════════════════════════════════════════════════════»\n",
      "                                                                               »\n",
      "c_6: ══════════════════════════════════════════════════════════════════════════»\n",
      "                                                                               »\n",
      "c_7: ══════════════════════════════════════════════════════════════════════════»\n",
      "                                                                               »\n",
      "«                                                       \n",
      "«q_0: ──────────────────────────────────────────────────\n",
      "«                                                       \n",
      "«q_1: ──────────────────────────────────────────────────\n",
      "«                                              ┌───┐    \n",
      "«q_2: ──────────────────────────────────■──────┤ H ├────\n",
      "«                                     ┌─┴─┐┌───┴───┴───┐\n",
      "«q_3: ─────────────────────────────■──┤ X ├┤ RX(-pi/2) ├\n",
      "«                                  │  └───┘└───────────┘\n",
      "«q_4: ─────────────────────────────┼────────────────────\n",
      "«                                  │                    \n",
      "«q_5: ─────────────────────────────┼────────────────────\n",
      "«                                ┌─┴─┐┌───┐             \n",
      "«q_6: ────────────────────────■──┤ X ├┤ H ├─────────────\n",
      "«     ┌────────────────────┐┌─┴─┐├───┤└───┘             \n",
      "«q_7: ┤ RZ(f((tau_0,))_16) ├┤ X ├┤ H ├──────────────────\n",
      "«     └────────────────────┘└───┘└───┘                  \n",
      "«c_0: ══════════════════════════════════════════════════\n",
      "«                                                       \n",
      "«c_1: ══════════════════════════════════════════════════\n",
      "«                                                       \n",
      "«c_2: ══════════════════════════════════════════════════\n",
      "«                                                       \n",
      "«c_3: ══════════════════════════════════════════════════\n",
      "«                                                       \n",
      "«c_4: ══════════════════════════════════════════════════\n",
      "«                                                       \n",
      "«c_5: ══════════════════════════════════════════════════\n",
      "«                                                       \n",
      "«c_6: ══════════════════════════════════════════════════\n",
      "«                                                       \n",
      "«c_7: ══════════════════════════════════════════════════\n",
      "«                                                       \n"
     ]
    }
   ],
   "source": [
    "#draw\n",
    "circ = tq.circuit.compiler.compile_exponential_pauli_gate(U)\n",
    "tq.draw(circ, backend=\"qiskit\")"
   ]
  },
  {
   "cell_type": "code",
   "execution_count": null,
   "metadata": {},
   "outputs": [],
   "source": []
  }
 ],
 "metadata": {
  "kernelspec": {
   "display_name": "Python 3",
   "language": "python",
   "name": "python3"
  },
  "language_info": {
   "codemirror_mode": {
    "name": "ipython",
    "version": 3
   },
   "file_extension": ".py",
   "mimetype": "text/x-python",
   "name": "python",
   "nbconvert_exporter": "python",
   "pygments_lexer": "ipython3",
   "version": "3.7.1"
  }
 },
 "nbformat": 4,
 "nbformat_minor": 4
}
