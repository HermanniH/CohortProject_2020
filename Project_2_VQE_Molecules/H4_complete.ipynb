{
 "cells": [
  {
   "cell_type": "markdown",
   "metadata": {},
   "source": [
    "# H4 Molecule: Constructing Potential Energy Surfaces Using VQE\n",
    "\n",
    "## Step 1: Classical calculations"
   ]
  },
  {
   "cell_type": "code",
   "execution_count": 1,
   "metadata": {},
   "outputs": [],
   "source": [
    "import numpy as np\n",
    "import matplotlib.pyplot as plt\n",
    "from utility import *\n",
    "import tequila as tq\n",
    "threshold = 1e-6 #Cutoff for UCC MP2 amplitudes and QCC ranking gradients\n",
    "\n",
    "basis = 'sto-3g'"
   ]
  },
  {
   "cell_type": "markdown",
   "metadata": {},
   "source": [
    "#### Classical Electronic Structure Methods"
   ]
  },
  {
   "cell_type": "code",
   "execution_count": 2,
   "metadata": {},
   "outputs": [
    {
     "name": "stdout",
     "output_type": "stream",
     "text": [
      "E = -1.7282808647469823 Eh\n",
      "E = -1.8757673115297755 Eh\n",
      "E = -1.9436685341419828 Eh\n",
      "E = -1.9681168701537448 Eh\n",
      "E = -1.9688717505339302 Eh\n",
      "E = -1.9575160224134387 Eh\n",
      "E = -1.9411219627085186 Eh\n",
      "E = -1.9240069218707847 Eh\n",
      "E = -1.9086207863072835 Eh\n",
      "E = -1.8960726556134395 Eh\n",
      "E = -1.886551035526075 Eh\n",
      "E = -1.8797113367238392 Eh\n",
      "E = -1.8749960099801717 Eh\n",
      "E = -1.8718427824231183 Eh\n",
      "E = -1.8697821728146717 Eh\n",
      "E = -1.6019400748311579 Eh\n",
      "E = -1.7310111342440724 Eh\n",
      "E = -1.7791045408794854 Eh\n",
      "E = -1.7818090946447955 Eh\n",
      "E = -1.7585910209903557 Eh\n",
      "E = -1.720912463577959 Eh\n",
      "E = -1.6758703418708207 Eh\n",
      "E = -1.6279977412549318 Eh\n",
      "E = -1.5802294832603316 Eh\n",
      "E = -1.534445487370811 Eh\n",
      "E = -1.4917887476436846 Eh\n",
      "E = -1.452871269319548 Eh\n",
      "E = -1.417928630268599 Eh\n",
      "E = -1.3869439492023357 Eh\n",
      "E = -1.3597425710619053 Eh\n",
      "E = -1.730297072383129 Eh\n",
      "E = -1.8787802508847058 Eh\n",
      "E = -1.9481335329118727 Eh\n",
      "E = -1.9745957353524388 Eh\n",
      "E = -1.9780170268528454 Eh\n",
      "E = -1.9698470785114277 Eh\n",
      "E = -1.9566753319492105 Eh\n",
      "E = -1.9421459032861064 Eh\n",
      "E = -1.9281572807814653 Eh\n",
      "E = -1.9156158600937943 Eh\n",
      "E = -1.9048746816066942 Eh\n",
      "E = -1.8959755978334127 Eh\n",
      "E = -1.8887901915338958 Eh\n",
      "E = -1.883109008257704 Eh\n",
      "E = -1.8786976648846327 Eh\n"
     ]
    }
   ],
   "source": [
    "bond_lengths = np.linspace(0.8,2.7,15)\n",
    "#Run FCI\n",
    "print(\"Full Configuration Interaction (FCI):\")\n",
    "FCI_PES = obtain_PES('h4', bond_lengths, basis, method='fci')\n",
    "#Run HF\n",
    "print(\"Hartree-Fock (HF):\")\n",
    "HF_PES = obtain_PES('h4', bond_lengths, basis,  method='hf')\n",
    "#Run CCSD\n",
    "print(\"Couple Cluster Singles and Doubles (CCSD):\")\n",
    "CCSD_PES = obtain_PES('h4', bond_lengths, basis,  method='ccsd')"
   ]
  },
  {
   "cell_type": "code",
   "execution_count": 3,
   "metadata": {},
   "outputs": [
    {
     "data": {
      "text/plain": [
       "<matplotlib.legend.Legend at 0x7eff968d4198>"
      ]
     },
     "execution_count": 3,
     "metadata": {},
     "output_type": "execute_result"
    },
    {
     "data": {
      "image/png": "[encoded data removed]",
      "text/plain": [
       "<Figure size 432x288 with 1 Axes>"
      ]
     },
     "metadata": {
      "needs_background": "light"
     },
     "output_type": "display_data"
    }
   ],
   "source": [
    "#Plot H4 PESs\n",
    "\n",
    "plt.title('H4 symmetric dissociation, STO-3G')\n",
    "plt.xlabel('R, Angstrom')\n",
    "plt.ylabel('E, Hartree')\n",
    "\n",
    "plt.plot(bond_lengths, FCI_PES, label='FCI')\n",
    "plt.scatter(bond_lengths, HF_PES, label='HF', color='orange')\n",
    "plt.scatter(bond_lengths, CCSD_PES, label='CCSD', color='purple')\n",
    "plt.legend()"
   ]
  },
  {
   "cell_type": "markdown",
   "metadata": {},
   "source": [
    " "
   ]
  },
  {
   "cell_type": "markdown",
   "metadata": {},
   "source": [
    "## Step 2: Generating Qubit Hamiltonians"
   ]
  },
  {
   "cell_type": "code",
   "execution_count": 4,
   "metadata": {},
   "outputs": [
    {
     "name": "stdout",
     "output_type": "stream",
     "text": [
      "-0.8823205468513752 [] +\n",
      "-0.034058385022492754 [X0 X1 Y2 Y3] +\n",
      "-0.0340583850225138 [X0 X1 Y4 Y5] +\n",
      "-0.023093664326494255 [X0 X1 Y6 Y7] +\n",
      "0.034058385022492754 [X0 Y1 Y2 X3] +\n",
      "0.0340583850225138 [X0 Y1 Y4 X5] +\n",
      "0.023093664326494255 [X0 Y1 Y6 X7] +\n",
      "-0.011573113480190935 [X0 Z1 X2 X4 Z5 X6] +\n",
      "-0.035257520327649984 [X0 Z1 X2 X5 Z6 X7] +\n",
      "-0.035257520327649984 [X0 Z1 X2 Y5 Z6 Y7] +\n",
      "-0.011573113480190928 [X0 Z1 Y2 Y4 Z5 X6] +\n",
      "0.03525752032764998 [X0 Z1 Z2 X3 Y4 Z5 Z6 Y7] +\n",
      "0.023684406847459046 [X0 Z1 Z2 X3 X5 X6] +\n",
      "-0.03525752032764998 [X0 Z1 Z2 Y3 Y4 Z5 Z6 X7] +\n",
      "0.023684406847459046 [X0 Z1 Z2 Y3 Y5 X6] +\n",
      "-4.046981332494459e-08 [X0 Z1 Z2 Z3 Z4 Z5 X6] +\n",
      "0.034058385022492754 [Y0 X1 X2 Y3] +\n",
      "0.0340583850225138 [Y0 X1 X4 Y5] +\n",
      "0.023093664326494255 [Y0 X1 X6 Y7] +\n",
      "-0.034058385022492754 [Y0 Y1 X2 X3] +\n",
      "-0.0340583850225138 [Y0 Y1 X4 X5] +\n",
      "-0.023093664326494255 [Y0 Y1 X6 X7] +\n",
      "-0.011573113480190928 [Y0 Z1 X2 X4 Z5 Y6] +\n",
      "-0.011573113480190935 [Y0 Z1 Y2 Y4 Z5 Y6] +\n",
      "-0.035257520327649984 [Y0 Z1 Y2 X5 Z6 X7] +\n",
      "-0.035257520327649984 [Y0 Z1 Y2 Y5 Z6 Y7] +\n",
      "-0.03525752032764998 [Y0 Z1 Z2 X3 X4 Z5 Z6 Y7] +\n",
      "0.023684406847459046 [Y0 Z1 Z2 X3 X5 Y6] +\n",
      "0.03525752032764998 [Y0 Z1 Z2 Y3 X4 Z5 Z6 X7] +\n",
      "0.023684406847459046 [Y0 Z1 Z2 Y3 Y5 Y6] +\n",
      "-4.046981332494459e-08 [Y0 Z1 Z2 Z3 Z4 Z5 Y6] +\n",
      "0.14728582382955235 [Z0] +\n",
      "0.10715401025424418 [Z0 Z1] +\n",
      "0.0721388704536108 [Z0 Z2] +\n",
      "0.10619725547610355 [Z0 Z3] +\n",
      "0.07213887045360384 [Z0 Z4] +\n",
      "0.10619725547611764 [Z0 Z5] +\n",
      "0.08409543193051376 [Z0 Z6] +\n",
      "0.10718909625700801 [Z0 Z7] +\n",
      "0.023684406847459046 [X1 X2 X4 Z5 Z6 X7] +\n",
      "0.03525752032764998 [X1 X2 Y5 Y6] +\n",
      "0.023684406847459046 [X1 Y2 Y4 Z5 Z6 X7] +\n",
      "-0.03525752032764998 [X1 Y2 Y5 X6] +\n",
      "-0.035257520327649984 [X1 Z2 X3 X4 Z5 X6] +\n",
      "-0.035257520327649984 [X1 Z2 X3 Y4 Z5 Y6] +\n",
      "-0.011573113480190935 [X1 Z2 X3 X5 Z6 X7] +\n",
      "-0.011573113480190928 [X1 Z2 Y3 Y5 Z6 X7] +\n",
      "-4.046981332494459e-08 [X1 Z2 Z3 Z4 Z5 Z6 X7] +\n",
      "0.023684406847459046 [Y1 X2 X4 Z5 Z6 Y7] +\n",
      "-0.03525752032764998 [Y1 X2 X5 Y6] +\n",
      "0.023684406847459046 [Y1 Y2 Y4 Z5 Z6 Y7] +\n",
      "0.03525752032764998 [Y1 Y2 X5 X6] +\n",
      "-0.011573113480190928 [Y1 Z2 X3 X5 Z6 Y7] +\n",
      "-0.035257520327649984 [Y1 Z2 Y3 X4 Z5 X6] +\n",
      "-0.035257520327649984 [Y1 Z2 Y3 Y4 Z5 Y6] +\n",
      "-0.011573113480190935 [Y1 Z2 Y3 Y5 Z6 Y7] +\n",
      "-4.046981332494459e-08 [Y1 Z2 Z3 Z4 Z5 Z6 Y7] +\n",
      "0.14728582382955235 [Z1] +\n",
      "0.10619725547610355 [Z1 Z2] +\n",
      "0.0721388704536108 [Z1 Z3] +\n",
      "0.10619725547611764 [Z1 Z4] +\n",
      "0.07213887045360384 [Z1 Z5] +\n",
      "0.10718909625700801 [Z1 Z6] +\n",
      "0.08409543193051376 [Z1 Z7] +\n",
      "-0.024298400891924504 [X2 X3 Y4 Y5] +\n",
      "-0.03827976789253185 [X2 X3 Y6 Y7] +\n",
      "0.024298400891924504 [X2 Y3 Y4 X5] +\n",
      "0.03827976789253185 [X2 Y3 Y6 X7] +\n",
      "0.024298400891924504 [Y2 X3 X4 Y5] +\n",
      "0.03827976789253185 [Y2 X3 X6 Y7] +\n",
      "-0.024298400891924504 [Y2 Y3 X4 X5] +\n",
      "-0.03827976789253185 [Y2 Y3 X6 X7] +\n",
      "0.02072928326221074 [Z2] +\n",
      "0.10799421374371414 [Z2 Z3] +\n",
      "0.0818725044895098 [Z2 Z4] +\n",
      "0.10617090538143431 [Z2 Z5] +\n",
      "0.07102689631806026 [Z2 Z6] +\n",
      "0.10930666421059211 [Z2 Z7] +\n",
      "0.02072928326221073 [Z3] +\n",
      "0.10617090538143431 [Z3 Z4] +\n",
      "0.0818725044895098 [Z3 Z5] +\n",
      "0.10930666421059211 [Z3 Z6] +\n",
      "0.07102689631806026 [Z3 Z7] +\n",
      "-0.03827976789251076 [X4 X5 Y6 Y7] +\n",
      "0.03827976789251076 [X4 Y5 Y6 X7] +\n",
      "0.03827976789251076 [Y4 X5 X6 Y7] +\n",
      "-0.03827976789251076 [Y4 Y5 X6 X7] +\n",
      "0.020729283262210095 [Z4] +\n",
      "0.10799421374371403 [Z4 Z5] +\n",
      "0.07102689631806716 [Z4 Z6] +\n",
      "0.10930666421057791 [Z4 Z7] +\n",
      "0.020729283262210105 [Z5] +\n",
      "0.10930666421057791 [Z5 Z6] +\n",
      "0.07102689631806716 [Z5 Z7] +\n",
      "-0.10711575592668135 [Z6] +\n",
      "0.11263850647927055 [Z6 Z7] +\n",
      "-0.10711575592668124 [Z7]\n"
     ]
    }
   ],
   "source": [
    "qubit_transf = 'jw' # Jordan-Wigner transformations\n",
    "h4 = get_qubit_hamiltonian(mol='h4', geometry=1.5, basis='sto3g', qubit_transf=qubit_transf)\n",
    "print(h4)"
   ]
  },
  {
   "cell_type": "code",
   "execution_count": 5,
   "metadata": {},
   "outputs": [],
   "source": [
    "h4_tapered = taper_hamiltonian(h4, n_spin_orbitals=8, n_electrons=4, qubit_transf=qubit_transf)\n",
    "print(\"Effective Hamiltonian:\", h4_tapered)"
   ]
  },
  {
   "cell_type": "markdown",
   "metadata": {},
   "source": [
    "## Tequila stuff"
   ]
  },
  {
   "cell_type": "code",
   "execution_count": 6,
   "metadata": {},
   "outputs": [
    {
     "name": "stdout",
     "output_type": "stream",
     "text": [
      "Number of spin-orbitals (qubits): 8 \n",
      "\n",
      "FCI energy: -1.9551250115194319\n"
     ]
    }
   ],
   "source": [
    "trotter_steps = 1\n",
    "\n",
    "xyz_data = get_molecular_data('h4', geometry=1.5, xyz_format=True)\n",
    "basis='sto-3g'\n",
    "\n",
    "h4_tq = tq.quantumchemistry.Molecule(geometry=xyz_data, basis_set=basis)\n",
    "\n",
    "print('Number of spin-orbitals (qubits): {} \\n'.format(2*h4_tq.n_orbitals))\n",
    "\n",
    "E_FCI = h4_tq.compute_energy(method='fci')\n",
    "\n",
    "print('FCI energy: {}'.format(E_FCI))"
   ]
  },
  {
   "cell_type": "code",
   "execution_count": null,
   "metadata": {},
   "outputs": [
    {
     "name": "stdout",
     "output_type": "stream",
     "text": [
      "\n",
      "Hamiltonian has 93 terms\n",
      "\n",
      "\n",
      "Number of UCCSD amplitudes: 8 \n",
      "\n",
      "\n",
      "Starting optimization:\n",
      "\n",
      "Optimizer: <class 'tequila.optimizers.optimizer_scipy.OptimizerSciPy'> \n",
      "backend         : qulacs\n",
      "samples         : None\n",
      "save_history    : True\n",
      "noise           : None\n",
      "\n",
      "Method          : BFGS\n",
      "Objective       : 1 expectationvalues\n",
      "gradient        : 512 expectationvalues\n",
      "\n",
      "active variables : 8\n",
      "\n",
      "E=-1.71399864  angles= {(3, 1, 2, 0): 0.0, (3, 0, 3, 0): 0.0, (2, 0, 3, 1): 0.0, (2, 1, 2, 1): 0.0, (3, 1, 3, 1): 0.0, (3, 0, 2, 1): 0.0, (2, 0, 2, 0): 0.0, (2, 1, 3, 0): 0.0}  samples= None\n",
      "E=-1.11359858  angles= {(3, 1, 2, 0): -0.46722960472106934, (3, 0, 3, 0): -0.18474936485290527, (2, 0, 3, 1): -0.46722960472106934, (2, 1, 2, 1): -0.19438719749450684, (3, 1, 3, 1): -0.30623817443847656, (3, 0, 2, 1): -0.004305601119995117, (2, 0, 2, 0): -0.27246713638305664, (2, 1, 3, 0): -0.004305601119995117}  samples= None\n",
      "E=-1.77345576  angles= {(3, 1, 2, 0): -0.07621729618876547, (3, 0, 3, 0): -0.030137424768035468, (2, 0, 3, 1): -0.07621729618876547, (2, 1, 2, 1): -0.031709605849114926, (3, 1, 3, 1): -0.04995540823963474, (3, 0, 2, 1): -0.0007023554854347396, (2, 0, 2, 0): -0.04444647390828256, (2, 1, 3, 0): -0.0007023554854347396}  samples= None\n",
      "E=-1.86847365  angles= {(3, 1, 2, 0): -0.1315614164629193, (3, 0, 3, 0): -0.09395831984008161, (2, 0, 3, 1): -0.13143066883385895, (2, 1, 2, 1): -0.11225449998352802, (3, 1, 3, 1): -0.12684898733126088, (3, 0, 2, 1): -0.08839361782823328, (2, 0, 2, 0): -0.11092845553425043, (2, 1, 3, 0): -0.08770070315039019}  samples= None\n",
      "E=-1.92490788  angles= {(3, 1, 2, 0): -0.23967740746534782, (3, 0, 3, 0): -0.03879723051960417, (2, 0, 3, 1): -0.23220395086328227, (2, 1, 2, 1): -0.41920652459809404, (3, 1, 3, 1): -0.24479237426045516, (3, 0, 2, 1): -0.23762765274751507, (2, 0, 2, 0): -0.2359646592478713, (2, 1, 3, 0): -0.2300305183599774}  samples= None\n",
      "E=-1.93761168  angles= {(3, 1, 2, 0): -0.23631614790493116, (3, 0, 3, 0): -0.11255542662409998, (2, 0, 3, 1): -0.23222722992865386, (2, 1, 2, 1): -0.45759357891653557, (3, 1, 3, 1): -0.1895594036019585, (3, 0, 2, 1): -0.20957037265993628, (2, 0, 2, 0): -0.1868159532268097, (2, 1, 3, 0): -0.2049966323519755}  samples= None\n",
      "E=-1.94772411  angles= {(3, 1, 2, 0): -0.23919228734243203, (3, 0, 3, 0): -0.15467097241645134, (2, 0, 3, 1): -0.23819142359988207, (2, 1, 2, 1): -0.5700298571495812, (3, 1, 3, 1): -0.08782842561215495, (3, 0, 2, 1): -0.17609392062718043, (2, 0, 2, 0): -0.08275346630883829, (2, 1, 3, 0): -0.17418041639109813}  samples= None\n",
      "E=-1.95065212  angles= {(3, 1, 2, 0): -0.23282225537504558, (3, 0, 3, 0): -0.14382806431770626, (2, 0, 3, 1): -0.23134780593488768, (2, 1, 2, 1): -0.6524499433054977, (3, 1, 3, 1): -0.059665021241479446, (3, 0, 2, 1): -0.16342205335101112, (2, 0, 2, 0): -0.056755776042658086, (2, 1, 3, 0): -0.16040972482824123}  samples= None\n",
      "E=-1.95110831  angles= {(3, 1, 2, 0): -0.2372450766219998, (3, 0, 3, 0): -0.11958886814489893, (2, 0, 3, 1): -0.23388501903014275, (2, 1, 2, 1): -0.6649357897861723, (3, 1, 3, 1): -0.0453746279336269, (3, 0, 2, 1): -0.17063617413152388, (2, 0, 2, 0): -0.04610564283037418, (2, 1, 3, 0): -0.16500311155759942}  samples= None\n",
      "E=-1.95118571  angles= {(3, 1, 2, 0): -0.23800119730318073, (3, 0, 3, 0): -0.12705217706427893, (2, 0, 3, 1): -0.23381212829644057, (2, 1, 2, 1): -0.6714643885868825, (3, 1, 3, 1): -0.04729985607721233, (3, 0, 2, 1): -0.1709348489927596, (2, 0, 2, 0): -0.0468580425044987, (2, 1, 3, 0): -0.16430570703499436}  samples= None\n",
      "E=-1.95118859  angles= {(3, 1, 2, 0): -0.23778842159638441, (3, 0, 3, 0): -0.12685492617182847, (2, 0, 3, 1): -0.2327108808995517, (2, 1, 2, 1): -0.668900708432699, (3, 1, 3, 1): -0.048690090778286337, (3, 0, 2, 1): -0.17123092619972016, (2, 0, 2, 0): -0.04784980561573943, (2, 1, 3, 0): -0.1634932239455811}  samples= None\n",
      "E=-1.95119024  angles= {(3, 1, 2, 0): -0.238376449187641, (3, 0, 3, 0): -0.12685629341908122, (2, 0, 3, 1): -0.2318848415600486, (2, 1, 2, 1): -0.6683443726325188, (3, 1, 3, 1): -0.04879299607915962, (3, 0, 2, 1): -0.17211271713636297, (2, 0, 2, 0): -0.04788488333795322, (2, 1, 3, 0): -0.16259866869375209}  samples= None\n",
      "E=-1.95119341  angles= {(3, 1, 2, 0): -0.23968886390891161, (3, 0, 3, 0): -0.12687878126644583, (2, 0, 3, 1): -0.23029567623053784, (2, 1, 2, 1): -0.6678282794445145, (3, 1, 3, 1): -0.04889311717502373, (3, 0, 2, 1): -0.17389199633926272, (2, 0, 2, 0): -0.047903393883564585, (2, 1, 3, 0): -0.16073632242377647}  samples= None\n",
      "E=-1.95120317  angles= {(3, 1, 2, 0): -0.2449385227939941, (3, 0, 3, 0): -0.12696873265590433, (2, 0, 3, 1): -0.22393901491249488, (2, 1, 2, 1): -0.6657639066924974, (3, 1, 3, 1): -0.04929360155848017, (3, 0, 2, 1): -0.18100911315086177, (2, 0, 2, 0): -0.04797743606601006, (2, 1, 3, 0): -0.15328693734387408}  samples= None\n",
      "E=-1.95122477  angles= {(3, 1, 2, 0): -0.2586335178763863, (3, 0, 3, 0): -0.1271564795721844, (2, 0, 3, 1): -0.20879918099850797, (2, 1, 2, 1): -0.6631470295413394, (3, 1, 3, 1): -0.04972731826279019, (3, 0, 2, 1): -0.1985226173230388, (2, 0, 2, 0): -0.04797425142263507, (2, 1, 3, 0): -0.13467618962413896}  samples= None\n",
      "E=-1.95126093  angles= {(3, 1, 2, 0): -0.2835405638554542, (3, 0, 3, 0): -0.12738109553097185, (2, 0, 3, 1): -0.18262902482286877, (2, 1, 2, 1): -0.6606673130835974, (3, 1, 3, 1): -0.05004022113249763, (3, 0, 2, 1): -0.22942487040463178, (2, 0, 2, 0): -0.047860529741525625, (2, 1, 3, 0): -0.10168447715254461}  samples= None\n",
      "E=-1.95131263  angles= {(3, 1, 2, 0): -0.32685640984966413, (3, 0, 3, 0): -0.12762300826127013, (2, 0, 3, 1): -0.13919569236776924, (2, 1, 2, 1): -0.6591666071260438, (3, 1, 3, 1): -0.04994031093582107, (3, 0, 2, 1): -0.2819861987364699, (2, 0, 2, 0): -0.047485265374333535, (2, 1, 3, 0): -0.04582458553401925}  samples= None\n",
      "E=-1.95136032  angles= {(3, 1, 2, 0): -0.3623677011575087, (3, 0, 3, 0): -0.12759089024328554, (2, 0, 3, 1): -0.10703561359654606, (2, 1, 2, 1): -0.661903922591017, (3, 1, 3, 1): -0.048956419626223054, (3, 0, 2, 1): -0.3235045243048328, (2, 0, 2, 0): -0.046920364333569685, (2, 1, 3, 0): -0.0027994431742362005}  samples= None\n",
      "E=-1.95139839  angles= {(3, 1, 2, 0): -0.37497710595737943, (3, 0, 3, 0): -0.1272412234172018, (2, 0, 3, 1): -0.09977446634133624, (2, 1, 2, 1): -0.6682844016163941, (3, 1, 3, 1): -0.04772957750835103, (3, 0, 2, 1): -0.33603697268989413, (2, 0, 2, 0): -0.046659187794520475, (2, 1, 3, 0): 0.009146338065928676}  samples= None\n",
      "E=-1.95140358  angles= {(3, 1, 2, 0): -0.3694951156088176, (3, 0, 3, 0): -0.12708580147634146, (2, 0, 3, 1): -0.10612573424071789, (2, 1, 2, 1): -0.6705635273295066, (3, 1, 3, 1): -0.04763787998186347, (3, 0, 2, 1): -0.3280723154016191, (2, 0, 2, 0): -0.046899721234160495, (2, 1, 3, 0): 0.0013761719338480152}  samples= None\n",
      "E=-1.95140382  angles= {(3, 1, 2, 0): -0.36937967044881853, (3, 0, 3, 0): -0.1270781717013275, (2, 0, 3, 1): -0.10606679012482531, (2, 1, 2, 1): -0.6706698115670132, (3, 1, 3, 1): -0.04758404604205622, (3, 0, 2, 1): -0.32736704486261353, (2, 0, 2, 0): -0.04688770364091082, (2, 1, 3, 0): 0.0010366831958293424}  samples= None\n",
      "E=-1.95140420  angles= {(3, 1, 2, 0): -0.3693518971300903, (3, 0, 3, 0): -0.12706099393175657, (2, 0, 3, 1): -0.10591139659197554, (2, 1, 2, 1): -0.6707536022054474, (3, 1, 3, 1): -0.04749472502535161, (3, 0, 2, 1): -0.325967707079998, (2, 0, 2, 0): -0.04685236767036665, (2, 1, 3, 0): -2.0943293084611098e-05}  samples= None\n",
      "E=-1.95140487  angles= {(3, 1, 2, 0): -0.3700578017747706, (3, 0, 3, 0): -0.1270454866380396, (2, 0, 3, 1): -0.1050353057321078, (2, 1, 2, 1): -0.6708376962866455, (3, 1, 3, 1): -0.04740464702452958, (3, 0, 2, 1): -0.3241484689578883, (2, 0, 2, 0): -0.046816069052693025, (2, 1, 3, 0): -0.0014802644561941675}  samples= None\n",
      "E=-1.95140612  angles= {(3, 1, 2, 0): -0.37196549069570234, (3, 0, 3, 0): -0.12702844581841183, (2, 0, 3, 1): -0.10296543667061137, (2, 1, 2, 1): -0.670940849509649, (3, 1, 3, 1): -0.047296167386674026, (3, 0, 2, 1): -0.3214315020412858, (2, 0, 2, 0): -0.046770596320974196, (2, 1, 3, 0): -0.003763451163281366}  samples= None\n",
      "E=-1.95140846  angles= {(3, 1, 2, 0): -0.37608381046495276, (3, 0, 3, 0): -0.12700704722824668, (2, 0, 3, 1): -0.09868999903927805, (2, 1, 2, 1): -0.6710818828239413, (3, 1, 3, 1): -0.04715081791971448, (3, 0, 2, 1): -0.31688837258203206, (2, 0, 2, 0): -0.046707567141602326, (2, 1, 3, 0): -0.0077242826828331996}  samples= None\n"
     ]
    },
    {
     "name": "stdout",
     "output_type": "stream",
     "text": [
      "E=-1.95141279  angles= {(3, 1, 2, 0): -0.38455182486878614, (3, 0, 3, 0): -0.1269786287923016, (2, 0, 3, 1): -0.0900906141612565, (2, 1, 2, 1): -0.6712876460374243, (3, 1, 3, 1): -0.046943790301748764, (3, 0, 2, 1): -0.30887283601441906, (2, 0, 2, 0): -0.04661573163480531, (2, 1, 3, 0): -0.014899587073343485}  samples= None\n",
      "E=-1.95142059  angles= {(3, 1, 2, 0): -0.40166294589413054, (3, 0, 3, 0): -0.12693943114466633, (2, 0, 3, 1): -0.07294607768726917, (2, 1, 2, 1): -0.6716044245087619, (3, 1, 3, 1): -0.04663338593309007, (3, 0, 2, 1): -0.29430447309777497, (2, 0, 2, 0): -0.04647242635388251, (2, 1, 3, 0): -0.028208570067069366}  samples= None\n",
      "E=-1.95143374  angles= {(3, 1, 2, 0): -0.43560320013739745, (3, 0, 3, 0): -0.12688449943590868, (2, 0, 3, 1): -0.03925662633829094, (2, 1, 2, 1): -0.6721000195247547, (3, 1, 3, 1): -0.046164022379999496, (3, 0, 2, 1): -0.26710812617613783, (2, 0, 2, 0): -0.04624629487840726, (2, 1, 3, 0): -0.05354534377440031}  samples= None\n",
      "E=-1.95145215  angles= {(3, 1, 2, 0): -0.49998244313776324, (3, 0, 3, 0): -0.1268086562602214, (2, 0, 3, 1): 0.02414208681196363, (2, 1, 2, 1): -0.6728344276807884, (3, 1, 3, 1): -0.045502375931365024, (3, 0, 2, 1): -0.21607352543675393, (2, 0, 2, 0): -0.04590837904097056, (2, 1, 3, 0): -0.10223878702269223}  samples= None\n",
      "E=-1.95147024  angles= {(3, 1, 2, 0): -0.5496210460317954, (3, 0, 3, 0): -0.12676089175684807, (2, 0, 3, 1): 0.0725220480472203, (2, 1, 2, 1): -0.6731656122982596, (3, 1, 3, 1): -0.045254199141806596, (3, 0, 2, 1): -0.17268347597513853, (2, 0, 2, 0): -0.04576025316059161, (2, 1, 3, 0): -0.1455649348298142}  samples= None\n",
      "E=-1.95150046  angles= {(3, 1, 2, 0): -0.6057089105864465, (3, 0, 3, 0): -0.1267835319143141, (2, 0, 3, 1): 0.12678539004634876, (2, 1, 2, 1): -0.6730983995693296, (3, 1, 3, 1): -0.04542249982168096, (3, 0, 2, 1): -0.12449212335222351, (2, 0, 2, 0): -0.045796108908808114, (2, 1, 3, 0): -0.19568869761711877}  samples= None\n",
      "E=-1.95154339  angles= {(3, 1, 2, 0): -0.6829619022835365, (3, 0, 3, 0): -0.12702339945091976, (2, 0, 3, 1): 0.2006997275817054, (2, 1, 2, 1): -0.6723193275923156, (3, 1, 3, 1): -0.04623697887201941, (3, 0, 2, 1): -0.06251751084428686, (2, 0, 2, 0): -0.04606751585381012, (2, 1, 3, 0): -0.26326067094196515}  samples= None\n",
      "E=-1.95155981  angles= {(3, 1, 2, 0): -0.7535318267151196, (3, 0, 3, 0): -0.12725566921448947, (2, 0, 3, 1): 0.2681178562665004, (2, 1, 2, 1): -0.6717626307756857, (3, 1, 3, 1): -0.04682039717420139, (3, 0, 2, 1): -0.02506727497914779, (2, 0, 2, 0): -0.046242500413934844, (2, 1, 3, 0): -0.3049584580083856}  samples= None\n",
      "E=-1.95156056  angles= {(3, 1, 2, 0): -0.7896563594872917, (3, 0, 3, 0): -0.12733338317841267, (2, 0, 3, 1): 0.30061623877044613, (2, 1, 2, 1): -0.6716636874363362, (3, 1, 3, 1): -0.046817512978380875, (3, 0, 2, 1): 0.012447472494680756, (2, 0, 2, 0): -0.046120561803443656, (2, 1, 3, 0): -0.34843731520231447}  samples= None\n",
      "E=-1.95156375  angles= {(3, 1, 2, 0): -0.7725244104777205, (3, 0, 3, 0): -0.12729652756907758, (2, 0, 3, 1): 0.28520398041786105, (2, 1, 2, 1): -0.6717106110119367, (3, 1, 3, 1): -0.046818880799413806, (3, 0, 2, 1): -0.005343781578608452, (2, 0, 2, 0): -0.0461783908159435, (2, 1, 3, 0): -0.32781760036368746}  samples= None\n",
      "E=-1.95156564  angles= {(3, 1, 2, 0): -0.801212937941415, (3, 0, 3, 0): -0.127237212937392, (2, 0, 3, 1): 0.3122350466393678, (2, 1, 2, 1): -0.67185503358175, (3, 1, 3, 1): -0.046764881887927635, (3, 0, 2, 1): 0.005477645624507234, (2, 0, 2, 0): -0.04616570552348889, (2, 1, 3, 0): -0.3404239157489649}  samples= None\n",
      "E=-1.95156571  angles= {(3, 1, 2, 0): -0.8032953781889862, (3, 0, 3, 0): -0.1272137998330515, (2, 0, 3, 1): 0.3139113687144638, (2, 1, 2, 1): -0.6718594732805, (3, 1, 3, 1): -0.04678148713756372, (3, 0, 2, 1): 0.003069275762461361, (2, 0, 2, 0): -0.0461999285003751, (2, 1, 3, 0): -0.33869902191326456}  samples= None\n",
      "E=-1.95156580  angles= {(3, 1, 2, 0): -0.8064213211556971, (3, 0, 3, 0): -0.1272329041064323, (2, 0, 3, 1): 0.3167883842011462, (2, 1, 2, 1): -0.6718538821460851, (3, 1, 3, 1): -0.04677725381317962, (3, 0, 2, 1): 0.005215208622200892, (2, 0, 2, 0): -0.04618678267403395, (2, 1, 3, 0): -0.3410228181792166}  samples= None\n",
      "E=-1.95156583  angles= {(3, 1, 2, 0): -0.8065954027154932, (3, 0, 3, 0): -0.12724076099913148, (2, 0, 3, 1): 0.31682371986940583, (2, 1, 2, 1): -0.6718449886908058, (3, 1, 3, 1): -0.046782886737504706, (3, 0, 2, 1): 0.0051808866347531676, (2, 0, 2, 0): -0.04618317340702827, (2, 1, 3, 0): -0.34100679950602253}  samples= None\n",
      "E=-1.95156584  angles= {(3, 1, 2, 0): -0.8058857844549558, (3, 0, 3, 0): -0.12724137235652147, (2, 0, 3, 1): 0.3160299174958325, (2, 1, 2, 1): -0.6718381955321667, (3, 1, 3, 1): -0.046790143443430604, (3, 0, 2, 1): 0.004052879581021739, (2, 0, 2, 0): -0.04618647379089483, (2, 1, 3, 0): -0.33987162081473626}  samples= None\n",
      "E=-1.95156585  angles= {(3, 1, 2, 0): -0.8048147679054939, (3, 0, 3, 0): -0.12723776163195663, (2, 0, 3, 1): 0.3148559498473522, (2, 1, 2, 1): -0.6718310870152929, (3, 1, 3, 1): -0.04680052658548645, (3, 0, 2, 1): 0.002303662568221477, (2, 0, 2, 0): -0.046195301382372295, (2, 1, 3, 0): -0.3381252177465156}  samples= None\n",
      "E=-1.95156585  angles= {(3, 1, 2, 0): -0.8043594297754364, (3, 0, 3, 0): -0.12723618149158178, (2, 0, 3, 1): 0.314400068369076, (2, 1, 2, 1): -0.671829366841222, (3, 1, 3, 1): -0.04680269244173609, (3, 0, 2, 1): 0.0018082307954701616, (2, 0, 2, 0): -0.04619777306882281, (2, 1, 3, 0): -0.33761437008335754}  samples= None\n",
      "E=-1.95156585  angles= {(3, 1, 2, 0): -0.8044504701958218, (3, 0, 3, 0): -0.12723586898497338, (2, 0, 3, 1): 0.3144922672444018, (2, 1, 2, 1): -0.6718296070241401, (3, 1, 3, 1): -0.04680272143516916, (3, 0, 2, 1): 0.0018884250969196065, (2, 0, 2, 0): -0.04619785745489342, (2, 1, 3, 0): -0.33769995549220544}  samples= None\n",
      "E=-1.95156585  angles= {(3, 1, 2, 0): -0.8043785187876559, (3, 0, 3, 0): -0.12723611596637396, (2, 0, 3, 1): 0.3144194002817612, (2, 1, 2, 1): -0.671829417201871, (3, 1, 3, 1): -0.04680269852096986, (3, 0, 2, 1): 0.0018250456343495921, (2, 0, 2, 0): -0.04619779076257605, (2, 1, 3, 0): -0.3376323153093174}  samples= None\n",
      "E=-1.95156585  angles= {(3, 1, 2, 0): -0.8043806234450278, (3, 0, 3, 0): -0.1272357673292715, (2, 0, 3, 1): 0.3144259711796185, (2, 1, 2, 1): -0.6718299494368092, (3, 1, 3, 1): -0.046802656465817064, (3, 0, 2, 1): 0.0018446430981406132, (2, 0, 2, 0): -0.04619786518879817, (2, 1, 3, 0): -0.33765142972392}  samples= None\n",
      "E=-1.95156585  angles= {(3, 1, 2, 0): -0.8043785918355629, (3, 0, 3, 0): -0.12723610386596704, (2, 0, 3, 1): 0.31441962834279497, (2, 1, 2, 1): -0.6718294356745443, (3, 1, 3, 1): -0.04680269706133043, (3, 0, 2, 1): 0.0018257258180853849, (2, 0, 2, 0): -0.04619779334574224, (2, 1, 3, 0): -0.33763297872750614}  samples= None\n",
      "E=-1.95156585  angles= {(3, 1, 2, 0): -0.804378518996985, (3, 0, 3, 0): -0.12723611593169853, (2, 0, 3, 1): 0.31441940093530246, (2, 1, 2, 1): -0.671829417254807, (3, 1, 3, 1): -0.046802698516787054, (3, 0, 2, 1): 0.0018250475835127297, (2, 0, 2, 0): -0.046197790769978486, (2, 1, 3, 0): -0.3376323172104365}  samples= None\n",
      "E=-1.95156585  angles= {(3, 1, 2, 0): -0.8043785191511718, (3, 0, 3, 0): -0.12723611590615744, (2, 0, 3, 1): 0.31441940141668506, (2, 1, 2, 1): -0.6718294172937984, (3, 1, 3, 1): -0.0468026985137061, (3, 0, 2, 1): 0.0018250490192187785, (2, 0, 2, 0): -0.04619779077543093, (2, 1, 3, 0): -0.3376323186107545}  samples= None\n",
      "E=-1.95156585  angles= {(3, 1, 2, 0): -0.8043785554933673, (3, 0, 3, 0): -0.12723610988606224, (2, 0, 3, 1): 0.31441951487974, (2, 1, 2, 1): -0.6718294264841714, (3, 1, 3, 1): -0.04680269778751827, (3, 0, 2, 1): 0.0018253874186520817, (2, 0, 2, 0): -0.046197792060586586, (2, 1, 3, 0): -0.3376326486691303}  samples= None\n",
      "E=-1.95156585  angles= {(3, 1, 2, 0): -0.8043785191655116, (3, 0, 3, 0): -0.12723611590378206, (2, 0, 3, 1): 0.314419401461455, (2, 1, 2, 1): -0.6718294172974247, (3, 1, 3, 1): -0.04680269851341957, (3, 0, 2, 1): 0.0018250491527433779, (2, 0, 2, 0): -0.046197790775938025, (2, 1, 3, 0): -0.33763231874098787}  samples= None\n"
     ]
    }
   ],
   "source": [
    "H = h4_tq.make_hamiltonian()\n",
    "\n",
    "print(\"\\nHamiltonian has {} terms\\n\".format(len(H)))\n",
    "\n",
    "U_UCCSD = h4_tq.make_uccsd_ansatz(initial_amplitudes='MP2',threshold=threshold, trotter_steps=trotter_steps)\n",
    "\n",
    "E = tq.ExpectationValue(H=H, U=U_UCCSD)\n",
    "\n",
    "print('\\nNumber of UCCSD amplitudes: {} \\n'.format(len(E.extract_variables())))\n",
    "\n",
    "print('\\nStarting optimization:\\n')\n",
    "\n",
    "result = tq.minimize(objective=E, method=\"BFGS\", initial_values={k:0.0 for k in E.extract_variables()}, tol=1e-6)\n",
    "\n",
    "print('\\nObtained UCCSD energy: {}'.format(result.energy))"
   ]
  },
  {
   "cell_type": "code",
   "execution_count": null,
   "metadata": {},
   "outputs": [],
   "source": [
    "#Define number of entanglers to enter ansatz\n",
    "n_ents = 1\n",
    "\n",
    "#Rank entanglers using energy gradient criterion\n",
    "ranked_entangler_groupings = generate_QCC_gradient_groupings(H.to_openfermion(), \n",
    "                                                             2*h4.n_orbitals, \n",
    "                                                             hf_reference, \n",
    "                                                             cutoff=threshold)\n",
    "\n",
    "print('Grouping gradient magnitudes (Grouping : Gradient magnitude):')\n",
    "for i in range(len(ranked_entangler_groupings)):\n",
    "    print('{} : {}'.format(i+1,ranked_entangler_groupings[i][1]))\n",
    "\n",
    "\n",
    "entanglers = get_QCC_entanglers(ranked_entangler_groupings, n_ents, 2*h4.n_orbitals)\n",
    "\n",
    "print('\\nSelected entanglers:')\n",
    "for ent in entanglers:\n",
    "    print(ent)"
   ]
  },
  {
   "cell_type": "code",
   "execution_count": null,
   "metadata": {},
   "outputs": [],
   "source": [
    "H = tq.QubitHamiltonian.from_openfermion(get_qubit_hamiltonian('h4', 2, 'sto-3g', qubit_transf='jw'))\n",
    "\n",
    "a = tq.Variable(\"tau_0\")\n",
    "U = construct_QMF_ansatz(8)\n",
    "for ent in entanglers:\n",
    "    U += tq.gates.ExpPauli(paulistring=tq.PauliString.from_string(ent), angle=a)\n",
    "print(U)\n",
    "\n"
   ]
  },
  {
   "cell_type": "code",
   "execution_count": null,
   "metadata": {},
   "outputs": [],
   "source": []
  }
 ],
 "metadata": {
  "kernelspec": {
   "display_name": "Python 3",
   "language": "python",
   "name": "python3"
  },
  "language_info": {
   "codemirror_mode": {
    "name": "ipython",
    "version": 3
   },
   "file_extension": ".py",
   "mimetype": "text/x-python",
   "name": "python",
   "nbconvert_exporter": "python",
   "pygments_lexer": "ipython3",
   "version": "3.7.1"
  }
 },
 "nbformat": 4,
 "nbformat_minor": 4
}
