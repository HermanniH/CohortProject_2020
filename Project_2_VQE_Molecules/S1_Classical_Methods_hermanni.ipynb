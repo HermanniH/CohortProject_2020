{
 "cells": [
  {
   "cell_type": "markdown",
   "metadata": {},
   "source": [
    "# Review of classical electronic structure methods \n",
    "\n",
    "In order to assess the performance of quantum computing algorithms in addressing the electronic structure problem, we will briefly review a few commonly employed classical electronic structure methods of varying level of approximation. \n",
    "\n",
    "## Hartree-Fock\n",
    "\n",
    "The Hartree-Fock (HF) method employs a **mean-field approximation**, where Coulomb correlation of electrons is neglected. The HF wavefunction is hence restricted to the form of a single Slater determinant, for which the optimal form may be acquired by an optimization of the underlying single particle basis (orbitals). Once the optimal HF orbitals have been found, the HF state may be written as \n",
    "\n",
    "$$ | \\text{HF} \\rangle = \\prod_{p \\in \\text{occ}} \\hat a^\\dagger_p | \\text{vac} \\rangle $$\n",
    "\n",
    "where $\\hat a^\\dagger_p$ creates an electron in the $p^{\\rm{th}}$ optimized HF spin orbital, and  $| \\text{vac} \\rangle$ is the vacuum state (all spin-orbitals unoccupied). Due to the restriction to a single Slater determinant, the HF energy may be obtained very efficiently and can be applied to very large molecules, however it becomes qualitatively incorrect when **electronic correlations** become sufficiently strong. The HF wavefunction is often used as a starting point in more accurate treatments of electronic correlation. \n",
    "\n",
    "## Coupled cluster\n",
    "\n",
    "The Coupled cluster (CC) method introduces electronic correlation to the wavefunction ansatz by operating on the HF reference state with the exponential of excitation operators\n",
    "\n",
    "$$|\\text{CC} \\rangle = e^{\\hat T} | \\text{HF}\\rangle, \\quad \\hat T = \\hat T_1 + \\hat T_2 + ...$$\n",
    "\n",
    "where $\\hat T_1 = \\sum_{ia} t^{a}_i \\hat a^\\dagger_a \\hat a_i$ are referred to as 'singles', $\\hat T_2 = \\sum_{ijab} t^{ab}_{ij} \\hat a^\\dagger_a \\hat a^\\dagger_b \\hat a_i \\hat a_j$ as 'doubles', etc. When the excitation rank is truncated to only singles (S) and doubles (D), $\\hat T = \\hat T_1 + \\hat T_2$, the corresponding ansatz is referred to as CCSD. Since the number of possible single and double excitations for a system of $N$ electrons in $M$ orbitals is polynomial in $M$, one can efficiently solve a system of equations to obtain the optimized CCSD amplitudes. CCSD often gives accurate energies and can be applied to modestly sized chemical systems. However, due to its implementation, it can **violate the variational principle** and give energies lower than the ground state.\n",
    "\n",
    "## Full Configuration Interaction\n",
    "The full configuration interaction (FCI) method yields the **exact ground state energy** within a given basis set. The FCI wavefunction is written as a linear combination of all possible $N$-particle Slater determinants over the orbital basis\n",
    "$$|\\text{FCI} \\rangle =  \\left( \\sum_{ia} C^{a}_i \\hat a^\\dagger_a \\hat a_i + \\sum_{ijab} C^{ab}_{ij} \\hat a^\\dagger_a \\hat a^\\dagger_b \\hat a_i \\hat a_j + ...  \\right) | \\text{HF} \\rangle $$\n",
    "where the sum includes up to $N$-electron excitations, and hence there are an exponential number of coefficients to optimize in $| \\text{FCI} \\rangle$. Due to its **exponential complexity**, FCI is often reserved for only the smallest chemical systems. However, it serves as a useful result to compare to when assessing tractable electronic structure methods."
   ]
  },
  {
   "cell_type": "markdown",
   "metadata": {},
   "source": [
    "# Benchmarking for electronic PESs in minimal basis (STO-3G)\n",
    "\n",
    "We will apply HF, CCSD, and FCI to obtaining the PESs for a few molecular dissociation processes in minimal (STO-3G) basis."
   ]
  },
  {
   "cell_type": "code",
   "execution_count": 2,
   "metadata": {},
   "outputs": [],
   "source": [
    "import numpy as np\n",
    "import matplotlib.pyplot as plt\n",
    "from utility import get_molecular_data, obtain_PES\n",
    "\n",
    "basis = 'sto-3g'"
   ]
  },
  {
   "cell_type": "markdown",
   "metadata": {},
   "source": [
    "## H<sub>2</sub>"
   ]
  },
  {
   "cell_type": "code",
   "execution_count": 2,
   "metadata": {},
   "outputs": [],
   "source": [
    "bond_lengths = np.linspace(0.2,2.6,15)"
   ]
  },
  {
   "cell_type": "code",
   "execution_count": 3,
   "metadata": {},
   "outputs": [
    {
     "name": "stdout",
     "output_type": "stream",
     "text": [
      "E = 0.15748213365503494 Eh\n",
      "E = -0.8488991062024307 Eh\n",
      "E = -1.088228184406917 Eh\n",
      "E = -1.1369289594005694 Eh\n",
      "E = -1.122957052798233 Eh\n",
      "E = -1.0887645364963472 Eh\n",
      "E = -1.050442037218747 Eh\n",
      "E = -1.0154681711140934 Eh\n",
      "E = -0.9873930555210578 Eh\n",
      "E = -0.9670259116093078 Eh\n",
      "E = -0.9534242388722525 Eh\n",
      "E = -0.9449089870950522 Eh\n",
      "E = -0.9398197912188271 Eh\n",
      "E = -0.9368706035283363 Eh\n",
      "E = -0.9351960308386074 Eh\n"
     ]
    }
   ],
   "source": [
    "#Run FCI\n",
    "FCI_PES = obtain_PES('h2', bond_lengths, basis, method='fci')"
   ]
  },
  {
   "cell_type": "code",
   "execution_count": 4,
   "metadata": {},
   "outputs": [
    {
     "name": "stdout",
     "output_type": "stream",
     "text": [
      "E = 0.16412595411335829 Eh\n",
      "E = -0.8397057843499875 Eh\n",
      "E = -1.0748879317191178 Eh\n",
      "E = -1.1175258568986877 Eh\n",
      "E = -1.095159581564483 Eh\n",
      "E = -1.0495617842752047 Eh\n",
      "E = -0.9960202460350633 Eh\n",
      "E = -0.941547409969219 Eh\n",
      "E = -0.889975141797138 Eh\n",
      "E = -0.8432718025417758 Eh\n",
      "E = -0.802242958400407 Eh\n",
      "E = -0.7669825247359995 Eh\n",
      "E = -0.7371545448988284 Eh\n",
      "E = -0.7121961606082434 Eh\n",
      "E = -0.6914700512624825 Eh\n"
     ]
    }
   ],
   "source": [
    "#Run HF\n",
    "HF_PES = obtain_PES('h2', bond_lengths, basis,  method='hf')"
   ]
  },
  {
   "cell_type": "code",
   "execution_count": 5,
   "metadata": {},
   "outputs": [
    {
     "name": "stdout",
     "output_type": "stream",
     "text": [
      "E = 0.1574841205643638 Eh\n",
      "E = -0.8488985094851166 Eh\n",
      "E = -1.088231017430786 Eh\n",
      "E = -1.1369333351418642 Eh\n",
      "E = -1.122959387805977 Eh\n",
      "E = -1.088760690592053 Eh\n",
      "E = -1.0504260893271251 Eh\n",
      "E = -1.015441558375804 Eh\n",
      "E = -0.9873692849076269 Eh\n",
      "E = -0.9670168314563373 Eh\n",
      "E = -0.9534301558257325 Eh\n",
      "E = -0.9449225613845069 Eh\n",
      "E = -0.9398332746700122 Eh\n",
      "E = -0.9368793989542719 Eh\n",
      "E = -0.9351989265367069 Eh\n"
     ]
    }
   ],
   "source": [
    "#Run CCSD\n",
    "CCSD_PES = obtain_PES('h2', bond_lengths, basis,  method='ccsd')"
   ]
  },
  {
   "cell_type": "code",
   "execution_count": 6,
   "metadata": {},
   "outputs": [
    {
     "data": {
      "text/plain": [
       "<matplotlib.legend.Legend at 0x7ff78d1b5eb8>"
      ]
     },
     "execution_count": 6,
     "metadata": {},
     "output_type": "execute_result"
    },
    {
     "data": {
      "image/png": "[encoded data removed]",
      "text/plain": [
       "<Figure size 432x288 with 1 Axes>"
      ]
     },
     "metadata": {
      "needs_background": "light"
     },
     "output_type": "display_data"
    }
   ],
   "source": [
    "#Plot H2 PESs\n",
    "\n",
    "plt.title('H2 dissociation, STO-3G')\n",
    "plt.xlabel('R, Angstrom')\n",
    "plt.ylabel('E, Hartree')\n",
    "\n",
    "plt.plot(bond_lengths, FCI_PES, label='FCI')\n",
    "plt.scatter(bond_lengths, HF_PES, label='HF', color='orange')\n",
    "plt.scatter(bond_lengths, CCSD_PES, label='CCSD', color='purple')\n",
    "plt.legend()"
   ]
  },
  {
   "cell_type": "markdown",
   "metadata": {},
   "source": [
    "<img src=\"figs/testimage.png\">"
   ]
  },
  {
   "cell_type": "markdown",
   "metadata": {},
   "source": [
    "## H<sub>2</sub>O symmetric O-H dissociation"
   ]
  },
  {
   "cell_type": "code",
   "execution_count": 7,
   "metadata": {},
   "outputs": [],
   "source": [
    "bond_lengths = np.linspace(0.5,2.7,15)"
   ]
  },
  {
   "cell_type": "code",
   "execution_count": 8,
   "metadata": {},
   "outputs": [
    {
     "name": "stdout",
     "output_type": "stream",
     "text": [
      "E = -73.14278405998408 Eh\n",
      "E = -74.47523205268003 Eh\n",
      "E = -74.90413378058102 Eh\n",
      "E = -75.01383133956615 Eh\n",
      "E = -75.00356512166857 Eh\n",
      "E = -74.95170869126761 Eh\n",
      "E = -74.89218648216057 Eh\n",
      "E = -74.8392306366168 Eh\n",
      "E = -74.79866365936432 Eh\n",
      "E = -74.77161515186953 Eh\n",
      "E = -74.75568947217009 Eh\n",
      "E = -74.74704715251 Eh\n",
      "E = -74.74248898749714 Eh\n",
      "E = -74.74007426700052 Eh\n",
      "Could not converge\n"
     ]
    }
   ],
   "source": [
    "#Run FCI\n",
    "FCI_PES = obtain_PES('h2o', bond_lengths, basis, method='fci')"
   ]
  },
  {
   "cell_type": "code",
   "execution_count": 9,
   "metadata": {},
   "outputs": [
    {
     "name": "stdout",
     "output_type": "stream",
     "text": [
      "E = -73.12948161321603 Eh\n",
      "E = -74.45343797012316 Eh\n",
      "E = -74.87055361047616 Eh\n",
      "E = -74.96308510924194 Eh\n",
      "E = -74.92817508739313 Eh\n",
      "E = -74.84281942863585 Eh\n",
      "E = -74.74051950149544 Eh\n",
      "E = -74.63577758415263 Eh\n",
      "E = -74.5357663865706 Eh\n",
      "E = -74.44494384741583 Eh\n",
      "E = -74.36975504261409 Eh\n",
      "E = -74.29778481417574 Eh\n",
      "E = -74.2416722005157 Eh\n",
      "E = -74.27129957697466 Eh\n",
      "Could not converge\n"
     ]
    }
   ],
   "source": [
    "#Run HF\n",
    "HF_PES = obtain_PES('h2o', bond_lengths, basis,  method='hf')"
   ]
  },
  {
   "cell_type": "code",
   "execution_count": 10,
   "metadata": {},
   "outputs": [
    {
     "name": "stdout",
     "output_type": "stream",
     "text": [
      "E = -73.142763639187 Eh\n",
      "E = -74.47519485717143 Eh\n",
      "E = -74.9040635301056 Eh\n",
      "E = -75.01370018934782 Eh\n",
      "E = -75.00330155818908 Eh\n",
      "E = -74.95116757042638 Eh\n",
      "E = -74.89128367467833 Eh\n",
      "E = -74.83853401139113 Eh\n",
      "E = -74.80070162375972 Eh\n",
      "E = -74.78105738717268 Eh\n",
      "E = -74.74394274757499 Eh\n",
      "E = -74.7797280151177 Eh\n",
      "E = -74.7833896345313 Eh\n",
      "E = -74.64224434262994 Eh\n",
      "Could not converge\n"
     ]
    }
   ],
   "source": [
    "#Run CCSD\n",
    "CCSD_PES = obtain_PES('h2o', bond_lengths, basis,  method='ccsd')"
   ]
  },
  {
   "cell_type": "code",
   "execution_count": 11,
   "metadata": {},
   "outputs": [
    {
     "data": {
      "text/plain": [
       "<matplotlib.legend.Legend at 0x7ff76fdb3d68>"
      ]
     },
     "execution_count": 11,
     "metadata": {},
     "output_type": "execute_result"
    },
    {
     "data": {
      "image/png": "[encoded data removed]",
      "text/plain": [
       "<Figure size 432x288 with 1 Axes>"
      ]
     },
     "metadata": {
      "needs_background": "light"
     },
     "output_type": "display_data"
    }
   ],
   "source": [
    "#Plot H2O PESs\n",
    "\n",
    "plt.title('H2O symmetric dissociation, STO-3G')\n",
    "plt.xlabel('R, Angstrom')\n",
    "plt.ylabel('E, Hartree')\n",
    "\n",
    "plt.plot(bond_lengths, FCI_PES, label='FCI')\n",
    "plt.scatter(bond_lengths, HF_PES, label='HF', color='orange')\n",
    "plt.scatter(bond_lengths, CCSD_PES, label='CCSD', color='purple')\n",
    "plt.legend()"
   ]
  },
  {
   "cell_type": "markdown",
   "metadata": {},
   "source": [
    "# LiH"
   ]
  },
  {
   "cell_type": "code",
   "execution_count": 23,
   "metadata": {},
   "outputs": [],
   "source": [
    "bond_lengths = np.linspace(0.7,3.0,20)"
   ]
  },
  {
   "cell_type": "code",
   "execution_count": 24,
   "metadata": {},
   "outputs": [
    {
     "name": "stdout",
     "output_type": "stream",
     "text": [
      "E = -7.505051767361796 Eh\n",
      "E = -7.655819794239806 Eh\n",
      "E = -7.7520203311709555 Eh\n",
      "E = -7.8123148825157 Eh\n",
      "E = -7.84894732884227 Eh\n",
      "E = -7.8697943049544925 Eh\n",
      "E = -7.879938937375749 Eh\n",
      "E = -7.8827622353101745 Eh\n",
      "E = -7.88059971648109 Eh\n",
      "E = -7.8751153939946565 Eh\n",
      "E = -7.8675211304111885 Eh\n",
      "E = -7.858714442882695 Eh\n",
      "E = -7.84937032943297 Eh\n",
      "E = -7.840003634317425 Eh\n",
      "E = -7.831009310880966 Eh\n",
      "E = -7.822684107104651 Eh\n",
      "E = -7.81523359518158 Eh\n",
      "E = -7.8087719702741065 Eh\n",
      "E = -7.803324911639441 Eh\n",
      "E = -7.7988431594552265 Eh\n"
     ]
    }
   ],
   "source": [
    "#Run FCI\n",
    "FCI_PES = obtain_PES('lih', bond_lengths, basis, method='fci')"
   ]
  },
  {
   "cell_type": "code",
   "execution_count": 25,
   "metadata": {},
   "outputs": [
    {
     "name": "stdout",
     "output_type": "stream",
     "text": [
      "E = -7.4860204040662035 Eh\n",
      "E = -7.63765802220073 Eh\n",
      "E = -7.73469434101183 Eh\n",
      "E = -7.795521367901589 Eh\n",
      "E = -7.8322370882033 Eh\n",
      "E = -7.852659697300259 Eh\n",
      "E = -7.861855391356035 Eh\n",
      "E = -7.863199260252276 Eh\n",
      "E = -7.859016404399981 Eh\n",
      "E = -7.850950570332546 Eh\n",
      "E = -7.840182521697129 Eh\n",
      "E = -7.827568566003549 Eh\n",
      "E = -7.813734748189352 Eh\n",
      "E = -7.799144080669862 Eh\n",
      "E = -7.784145747881756 Eh\n",
      "E = -7.7690109535139324 Eh\n",
      "E = -7.7539578943872165 Eh\n",
      "E = -7.739167578671702 Eh\n",
      "E = -7.7247923025991 Eh\n",
      "E = -7.71095896172824 Eh\n"
     ]
    }
   ],
   "source": [
    "#Run HF\n",
    "HF_PES = obtain_PES('lih', bond_lengths, basis,  method='hf')"
   ]
  },
  {
   "cell_type": "code",
   "execution_count": 26,
   "metadata": {},
   "outputs": [
    {
     "name": "stdout",
     "output_type": "stream",
     "text": [
      "E = -7.505041804061147 Eh\n",
      "E = -7.655813219392648 Eh\n",
      "E = -7.752013977375497 Eh\n",
      "E = -7.812308184509928 Eh\n",
      "E = -7.848940033391369 Eh\n",
      "E = -7.86978596064907 Eh\n",
      "E = -7.8799291350940095 Eh\n",
      "E = -7.8827507146248665 Eh\n",
      "E = -7.8805864604513065 Eh\n",
      "E = -7.875100419155563 Eh\n",
      "E = -7.867504259233578 Eh\n",
      "E = -7.858695224844253 Eh\n",
      "E = -7.8493480209137765 Eh\n",
      "E = -7.839977175093046 Eh\n",
      "E = -7.8309773430329335 Eh\n",
      "E = -7.822645059059629 Eh\n",
      "E = -7.815185891315742 Eh\n",
      "E = -7.808714321853698 Eh\n",
      "E = -7.803256584843461 Eh\n",
      "E = -7.79876408078239 Eh\n"
     ]
    }
   ],
   "source": [
    "#Run CCSD\n",
    "CCSD_PES = obtain_PES('lih', bond_lengths, basis,  method='ccsd')"
   ]
  },
  {
   "cell_type": "code",
   "execution_count": 27,
   "metadata": {},
   "outputs": [
    {
     "data": {
      "text/plain": [
       "<matplotlib.legend.Legend at 0x7fbb94c1c4a8>"
      ]
     },
     "execution_count": 27,
     "metadata": {},
     "output_type": "execute_result"
    },
    {
     "data": {
      "image/png": "[encoded data removed]",
      "text/plain": [
       "<Figure size 432x288 with 1 Axes>"
      ]
     },
     "metadata": {
      "needs_background": "light"
     },
     "output_type": "display_data"
    }
   ],
   "source": [
    "#Plot LiH PESs\n",
    "\n",
    "plt.title('LiH dissociation, STO-3G')\n",
    "plt.xlabel('R, Angstrom')\n",
    "plt.ylabel('E, Hartree')\n",
    "\n",
    "plt.plot(bond_lengths, FCI_PES, label='FCI')\n",
    "plt.scatter(bond_lengths, HF_PES, label='HF', color='orange')\n",
    "plt.scatter(bond_lengths, CCSD_PES, label='CCSD', color='purple')\n",
    "plt.legend()"
   ]
  },
  {
   "cell_type": "markdown",
   "metadata": {},
   "source": [
    "# H4 symmetric dissociation"
   ]
  },
  {
   "cell_type": "code",
   "execution_count": 33,
   "metadata": {},
   "outputs": [],
   "source": [
    "bond_lengths = np.linspace(0.8,2.7,15)"
   ]
  },
  {
   "cell_type": "code",
   "execution_count": 34,
   "metadata": {},
   "outputs": [
    {
     "name": "stdout",
     "output_type": "stream",
     "text": [
      "E = -1.728280864746984 Eh\n",
      "E = -1.8757673115297737 Eh\n",
      "E = -1.9436685341419784 Eh\n",
      "E = -1.968116870153743 Eh\n",
      "E = -1.968871750533924 Eh\n",
      "E = -1.9575160224134402 Eh\n",
      "E = -1.941121962708516 Eh\n",
      "E = -1.924006921870783 Eh\n",
      "E = -1.908620786307281 Eh\n",
      "E = -1.8960726556134475 Eh\n",
      "E = -1.8865510355260706 Eh\n",
      "E = -1.8797113367238416 Eh\n",
      "E = -1.8749960099801717 Eh\n",
      "E = -1.8718427824231205 Eh\n",
      "E = -1.8697821728146733 Eh\n"
     ]
    }
   ],
   "source": [
    "#Run FCI\n",
    "FCI_PES = obtain_PES('h4', bond_lengths, basis, method='fci')"
   ]
  },
  {
   "cell_type": "code",
   "execution_count": 35,
   "metadata": {},
   "outputs": [
    {
     "name": "stdout",
     "output_type": "stream",
     "text": [
      "E = -1.6019400748316626 Eh\n",
      "E = -1.7310111342441017 Eh\n",
      "E = -1.7791045408792772 Eh\n",
      "E = -1.7818090946446667 Eh\n",
      "E = -1.7585910209903717 Eh\n",
      "E = -1.7209124635779496 Eh\n",
      "E = -1.67587034187085 Eh\n",
      "E = -1.6279977412549202 Eh\n",
      "E = -1.5802294832603305 Eh\n",
      "E = -1.5344454873708084 Eh\n",
      "E = -1.4917887476436849 Eh\n",
      "E = -1.4528712693195471 Eh\n",
      "E = -1.4179286302686067 Eh\n",
      "E = -1.386943949202337 Eh\n",
      "E = -1.359742571061905 Eh\n"
     ]
    }
   ],
   "source": [
    "HF_PES = obtain_PES('h4', bond_lengths, basis, method='hf')"
   ]
  },
  {
   "cell_type": "code",
   "execution_count": 36,
   "metadata": {},
   "outputs": [
    {
     "name": "stdout",
     "output_type": "stream",
     "text": [
      "E = -1.730297072383217 Eh\n",
      "E = -1.8787802508847276 Eh\n",
      "E = -1.9481335329118372 Eh\n",
      "E = -1.9745957353524095 Eh\n",
      "E = -1.9780170268528496 Eh\n",
      "E = -1.9698470785114286 Eh\n",
      "E = -1.9566753319492185 Eh\n",
      "E = -1.9421459032861044 Eh\n",
      "E = -1.9281572807814633 Eh\n",
      "E = -1.915615860093793 Eh\n",
      "E = -1.9048746816066915 Eh\n",
      "E = -1.8959755978334116 Eh\n",
      "E = -1.8887901915338985 Eh\n",
      "E = -1.8831090082577022 Eh\n",
      "E = -1.878697664885484 Eh\n"
     ]
    }
   ],
   "source": [
    "CCSD_PES = obtain_PES('h4', bond_lengths, basis, method='ccsd')"
   ]
  },
  {
   "cell_type": "code",
   "execution_count": 37,
   "metadata": {},
   "outputs": [
    {
     "data": {
      "text/plain": [
       "<matplotlib.legend.Legend at 0x7fbb927c2128>"
      ]
     },
     "execution_count": 37,
     "metadata": {},
     "output_type": "execute_result"
    },
    {
     "data": {
      "image/png": "[encoded data removed]",
      "text/plain": [
       "<Figure size 432x288 with 1 Axes>"
      ]
     },
     "metadata": {
      "needs_background": "light"
     },
     "output_type": "display_data"
    }
   ],
   "source": [
    "#Plot H4 PESs\n",
    "\n",
    "plt.title('H4 symmetric dissociation, STO-3G')\n",
    "plt.xlabel('R, Angstrom')\n",
    "plt.ylabel('E, Hartree')\n",
    "\n",
    "plt.plot(bond_lengths, FCI_PES, label='FCI')\n",
    "plt.scatter(bond_lengths, HF_PES, label='HF', color='orange')\n",
    "plt.scatter(bond_lengths, CCSD_PES, label='CCSD', color='purple')\n",
    "plt.legend()"
   ]
  },
  {
   "cell_type": "code",
   "execution_count": null,
   "metadata": {},
   "outputs": [],
   "source": []
  }
 ],
 "metadata": {
  "kernelspec": {
   "display_name": "Python 3",
   "language": "python",
   "name": "python3"
  },
  "language_info": {
   "codemirror_mode": {
    "name": "ipython",
    "version": 3
   },
   "file_extension": ".py",
   "mimetype": "text/x-python",
   "name": "python",
   "nbconvert_exporter": "python",
   "pygments_lexer": "ipython3",
   "version": "3.7.1"
  }
 },
 "nbformat": 4,
 "nbformat_minor": 2
}
